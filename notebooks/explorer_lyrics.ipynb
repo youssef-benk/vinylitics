{
 "cells": [
  {
   "cell_type": "code",
   "execution_count": 65,
   "metadata": {},
   "outputs": [],
   "source": [
    "# get this data from https://www.kaggle.com/datasets/carlosgdcj/genius-song-lyrics-with-language-information/data"
   ]
  },
  {
   "cell_type": "code",
   "execution_count": null,
   "metadata": {},
   "outputs": [],
   "source": [
    "# uncomment to reload the data\n",
    "import pandas as pd\n",
    "df = pd.read_csv('song_lyrics.csv')\n",
    "df = df[df['language'] == 'en']\n",
    "df = df.sort_values('year', ascending=False).head(100000)\n",
    "df.head()"
   ]
  },
  {
   "cell_type": "code",
   "execution_count": 2,
   "metadata": {},
   "outputs": [],
   "source": [
    "import time"
   ]
  },
  {
   "cell_type": "code",
   "execution_count": 3,
   "metadata": {},
   "outputs": [
    {
     "ename": "NameError",
     "evalue": "name 'df' is not defined",
     "output_type": "error",
     "traceback": [
      "\u001b[0;31m---------------------------------------------------------------------------\u001b[0m",
      "\u001b[0;31mNameError\u001b[0m                                 Traceback (most recent call last)",
      "Cell \u001b[0;32mIn[3], line 1\u001b[0m\n\u001b[0;32m----> 1\u001b[0m \u001b[43mdf\u001b[49m\u001b[38;5;241m.\u001b[39misna()\u001b[38;5;241m.\u001b[39msum()\n",
      "\u001b[0;31mNameError\u001b[0m: name 'df' is not defined"
     ]
    }
   ],
   "source": [
    "df.isna().sum()"
   ]
  },
  {
   "cell_type": "code",
   "execution_count": 8,
   "metadata": {},
   "outputs": [
    {
     "data": {
      "text/plain": [
       "language\n",
       "en    3374198\n",
       "es     275432\n",
       "fr     189436\n",
       "pt     167947\n",
       "ru     166044\n",
       "       ...   \n",
       "mt          5\n",
       "uz          4\n",
       "tg          3\n",
       "bs          1\n",
       "gu          1\n",
       "Name: count, Length: 84, dtype: int64"
      ]
     },
     "execution_count": 8,
     "metadata": {},
     "output_type": "execute_result"
    }
   ],
   "source": [
    "df['language'].value_counts()"
   ]
  },
  {
   "cell_type": "code",
   "execution_count": null,
   "metadata": {},
   "outputs": [
    {
     "name": "stdout",
     "output_type": "stream",
     "text": [
      "Time elapsed: 247.19573402404785\n"
     ]
    }
   ],
   "source": [
    "start = time.time()\n",
    "\n",
    "df = df.drop(columns=['id', 'language_cld3', 'language_ft'])\n",
    "df = df[df['language'] == 'en']\n",
    "df = df.sample(500000, random_state=42)\n",
    "df.reset_index(drop=True, inplace=True)\n",
    "\n",
    "end = time.time()\n",
    "print('Time elapsed:', end - start)"
   ]
  },
  {
   "cell_type": "code",
   "execution_count": 12,
   "metadata": {},
   "outputs": [
    {
     "data": {
      "text/plain": [
       "language\n",
       "en    3374198\n",
       "Name: count, dtype: int64"
      ]
     },
     "execution_count": 12,
     "metadata": {},
     "output_type": "execute_result"
    }
   ],
   "source": [
    "df['language'].value_counts()"
   ]
  },
  {
   "cell_type": "code",
   "execution_count": 13,
   "metadata": {},
   "outputs": [
    {
     "data": {
      "text/plain": [
       "0          [Chorus: Opera Steve & Cam'ron]\\nKilla Cam, Ki...\n",
       "1          [Produced by Irv Gotti]\\n\\n[Intro]\\nYeah, hah,...\n",
       "2          Maybe cause I'm eatin\\nAnd these bastards fien...\n",
       "3          [Produced by Kanye West and Brian Miller]\\n\\n[...\n",
       "4          [Intro]\\nSo they ask me\\n\"Young boy\\nWhat you ...\n",
       "                                 ...                        \n",
       "3374193    Everything is alright now\\nOh yes, baby\\nEvery...\n",
       "3374194    [Verse 1]\\nHalf truth and half you\\nDidn't we ...\n",
       "3374195    [Verse 1]\\nDance for me now\\nKeeping yourself ...\n",
       "3374196    [Verse 1]\\nHere our purpose feels alive\\nWe ar...\n",
       "3374197    [Verse 1]\\nYou need a new number, one that ain...\n",
       "Name: lyrics, Length: 3374198, dtype: object"
      ]
     },
     "execution_count": 13,
     "metadata": {},
     "output_type": "execute_result"
    }
   ],
   "source": [
    "df['lyrics']"
   ]
  },
  {
   "cell_type": "code",
   "execution_count": 14,
   "metadata": {},
   "outputs": [
    {
     "name": "stderr",
     "output_type": "stream",
     "text": [
      "[nltk_data] Downloading package punkt to /Users/adviti/nltk_data...\n",
      "[nltk_data]   Package punkt is already up-to-date!\n",
      "[nltk_data] Downloading package punkt_tab to\n",
      "[nltk_data]     /Users/adviti/nltk_data...\n",
      "[nltk_data]   Package punkt_tab is already up-to-date!\n",
      "[nltk_data] Downloading package stopwords to\n",
      "[nltk_data]     /Users/adviti/nltk_data...\n",
      "[nltk_data]   Package stopwords is already up-to-date!\n",
      "[nltk_data] Downloading package wordnet to /Users/adviti/nltk_data...\n",
      "[nltk_data]   Package wordnet is already up-to-date!\n",
      "[nltk_data] Downloading package omw-1.4 to /Users/adviti/nltk_data...\n",
      "[nltk_data]   Package omw-1.4 is already up-to-date!\n"
     ]
    }
   ],
   "source": [
    "import nltk\n",
    "from nltk.corpus import stopwords\n",
    "from nltk.tokenize import word_tokenize\n",
    "from nltk.stem import WordNetLemmatizer\n",
    "\n",
    "nltk.download('punkt')\n",
    "nltk.download('punkt_tab')\n",
    "nltk.download('stopwords')\n",
    "nltk.download('wordnet')\n",
    "nltk.download('omw-1.4')\n",
    "\n",
    "lemmatizer = WordNetLemmatizer()\n",
    "stop_words = set(stopwords.words('english'))"
   ]
  },
  {
   "cell_type": "code",
   "execution_count": null,
   "metadata": {},
   "outputs": [],
   "source": [
    "def preproc(lyrics):\n",
    "    lyrics = lyrics.lower()\n",
    "    lyrics = ''.join(char if char.isalpha() or char.isspace() else ' ' for char in lyrics)\n",
    "    tokens = word_tokenize(lyrics)\n",
    "    cleaned_tokens = [lemmatizer.lemmatize(word) for word in tokens if word not in stop_words]\n",
    "    return ' '.join(cleaned_tokens)\n",
    "\n",
    "# filter on the mean length of the lyrics\n",
    "# take only unique words"
   ]
  },
  {
   "cell_type": "code",
   "execution_count": 16,
   "metadata": {},
   "outputs": [
    {
     "name": "stdout",
     "output_type": "stream",
     "text": [
      "Time elapsed: 3663.372986793518\n"
     ]
    }
   ],
   "source": [
    "start = time.time()\n",
    "\n",
    "df['cleaned_lyrics'] = df['lyrics'].apply(preproc)\n",
    "\n",
    "end = time.time()\n",
    "print('Time elapsed:', end - start)"
   ]
  },
  {
   "cell_type": "code",
   "execution_count": 7,
   "metadata": {},
   "outputs": [
    {
     "ename": "NameError",
     "evalue": "name 'df' is not defined",
     "output_type": "error",
     "traceback": [
      "\u001b[0;31m---------------------------------------------------------------------------\u001b[0m",
      "\u001b[0;31mNameError\u001b[0m                                 Traceback (most recent call last)",
      "Cell \u001b[0;32mIn[7], line 1\u001b[0m\n\u001b[0;32m----> 1\u001b[0m \u001b[43mdf\u001b[49m\u001b[38;5;241m.\u001b[39mhead()\n",
      "\u001b[0;31mNameError\u001b[0m: name 'df' is not defined"
     ]
    }
   ],
   "source": [
    "df.head()"
   ]
  },
  {
   "cell_type": "code",
   "execution_count": 18,
   "metadata": {},
   "outputs": [],
   "source": [
    "from sklearn.feature_extraction.text import TfidfVectorizer\n",
    "from sklearn.metrics.pairwise import cosine_similarity"
   ]
  },
  {
   "cell_type": "code",
   "execution_count": 19,
   "metadata": {},
   "outputs": [],
   "source": [
    "vectorizer = TfidfVectorizer(stop_words='english')\n",
    "tfidf = vectorizer.fit_transform(df['cleaned_lyrics'])"
   ]
  },
  {
   "cell_type": "code",
   "execution_count": null,
   "metadata": {},
   "outputs": [],
   "source": [
    "# use dill.settings['recurse'] = True to save preprocessor"
   ]
  },
  {
   "cell_type": "code",
   "execution_count": 5,
   "metadata": {},
   "outputs": [
    {
     "ename": "NameError",
     "evalue": "name 'tfidf' is not defined",
     "output_type": "error",
     "traceback": [
      "\u001b[0;31m---------------------------------------------------------------------------\u001b[0m",
      "\u001b[0;31mNameError\u001b[0m                                 Traceback (most recent call last)",
      "Cell \u001b[0;32mIn[5], line 1\u001b[0m\n\u001b[0;32m----> 1\u001b[0m \u001b[43mtfidf\u001b[49m\u001b[38;5;241m.\u001b[39mshape\n",
      "\u001b[0;31mNameError\u001b[0m: name 'tfidf' is not defined"
     ]
    }
   ],
   "source": [
    "tfidf.shape"
   ]
  },
  {
   "cell_type": "code",
   "execution_count": null,
   "metadata": {},
   "outputs": [],
   "source": [
    "# # too heavy to compute cosine similarity for all pairs\n",
    "# cos_sim = cosine_similarity(tfidf)\n",
    "# cos_sim"
   ]
  },
  {
   "cell_type": "code",
   "execution_count": 3,
   "metadata": {},
   "outputs": [],
   "source": [
    "from sklearn.decomposition import TruncatedSVD\n",
    "import time"
   ]
  },
  {
   "cell_type": "code",
   "execution_count": 4,
   "metadata": {},
   "outputs": [
    {
     "ename": "NameError",
     "evalue": "name 'tfidf' is not defined",
     "output_type": "error",
     "traceback": [
      "\u001b[0;31m---------------------------------------------------------------------------\u001b[0m",
      "\u001b[0;31mNameError\u001b[0m                                 Traceback (most recent call last)",
      "Cell \u001b[0;32mIn[4], line 6\u001b[0m\n\u001b[1;32m      2\u001b[0m svd \u001b[38;5;241m=\u001b[39m TruncatedSVD(n_components\u001b[38;5;241m=\u001b[39mn_components, random_state\u001b[38;5;241m=\u001b[39m\u001b[38;5;241m42\u001b[39m)\n\u001b[1;32m      4\u001b[0m start \u001b[38;5;241m=\u001b[39m time\u001b[38;5;241m.\u001b[39mtime()\n\u001b[0;32m----> 6\u001b[0m reduced \u001b[38;5;241m=\u001b[39m svd\u001b[38;5;241m.\u001b[39mfit_transform(\u001b[43mtfidf\u001b[49m)\n\u001b[1;32m      8\u001b[0m end \u001b[38;5;241m=\u001b[39m time\u001b[38;5;241m.\u001b[39mtime()\n",
      "\u001b[0;31mNameError\u001b[0m: name 'tfidf' is not defined"
     ]
    }
   ],
   "source": [
    "n_components = 300\n",
    "svd = TruncatedSVD(n_components=n_components, random_state=42)\n",
    "\n",
    "start = time.time()\n",
    "\n",
    "reduced = svd.fit_transform(tfidf)\n",
    "\n",
    "end = time.time()"
   ]
  },
  {
   "cell_type": "code",
   "execution_count": null,
   "metadata": {},
   "outputs": [],
   "source": [
    "reduced.shape"
   ]
  },
  {
   "cell_type": "code",
   "execution_count": null,
   "metadata": {},
   "outputs": [],
   "source": [
    "cos_sim_reduced = cosine_similarity(reduced)"
   ]
  },
  {
   "cell_type": "code",
   "execution_count": null,
   "metadata": {},
   "outputs": [
    {
     "data": {
      "text/html": [
       "<div>\n",
       "<style scoped>\n",
       "    .dataframe tbody tr th:only-of-type {\n",
       "        vertical-align: middle;\n",
       "    }\n",
       "\n",
       "    .dataframe tbody tr th {\n",
       "        vertical-align: top;\n",
       "    }\n",
       "\n",
       "    .dataframe thead th {\n",
       "        text-align: right;\n",
       "    }\n",
       "</style>\n",
       "<table border=\"1\" class=\"dataframe\">\n",
       "  <thead>\n",
       "    <tr style=\"text-align: right;\">\n",
       "      <th></th>\n",
       "      <th>title</th>\n",
       "      <th>tag</th>\n",
       "      <th>artist</th>\n",
       "      <th>year</th>\n",
       "      <th>views</th>\n",
       "      <th>features</th>\n",
       "      <th>lyrics</th>\n",
       "      <th>language</th>\n",
       "      <th>cleaned_lyrics</th>\n",
       "    </tr>\n",
       "  </thead>\n",
       "  <tbody>\n",
       "    <tr>\n",
       "      <th>832</th>\n",
       "      <td>Mr. Forgettable</td>\n",
       "      <td>pop</td>\n",
       "      <td>David Kushner</td>\n",
       "      <td>2022</td>\n",
       "      <td>54101</td>\n",
       "      <td>{}</td>\n",
       "      <td>[Verse 1]\\nI know that you're waiting for me l...</td>\n",
       "      <td>en</td>\n",
       "      <td>verse know waiting like dog patience part lost...</td>\n",
       "    </tr>\n",
       "    <tr>\n",
       "      <th>148</th>\n",
       "      <td>Twice</td>\n",
       "      <td>pop</td>\n",
       "      <td>Charli XCX</td>\n",
       "      <td>2022</td>\n",
       "      <td>14502</td>\n",
       "      <td>{}</td>\n",
       "      <td>[Intro]\\nDon't think twice, don't think twice\\...</td>\n",
       "      <td>en</td>\n",
       "      <td>intro think twice think twice think twice thin...</td>\n",
       "    </tr>\n",
       "    <tr>\n",
       "      <th>751</th>\n",
       "      <td>Just a Word</td>\n",
       "      <td>pop</td>\n",
       "      <td>Prateek Kuhad</td>\n",
       "      <td>2022</td>\n",
       "      <td>9924</td>\n",
       "      <td>{}</td>\n",
       "      <td>[Verse 1]\\nAm I the one that you want?\\nMaybe ...</td>\n",
       "      <td>en</td>\n",
       "      <td>verse one want maybe time let know picking flo...</td>\n",
       "    </tr>\n",
       "    <tr>\n",
       "      <th>3475</th>\n",
       "      <td>Cupid Remix</td>\n",
       "      <td>pop</td>\n",
       "      <td>2RARE</td>\n",
       "      <td>2022</td>\n",
       "      <td>9352</td>\n",
       "      <td>{}</td>\n",
       "      <td>[Intro]\\nOhh, uhh, ayee\\nOhh, come on (Uhh, uh...</td>\n",
       "      <td>en</td>\n",
       "      <td>intro ohh uhh ayee ohh come uhh uhh ayee ayee ...</td>\n",
       "    </tr>\n",
       "    <tr>\n",
       "      <th>2148</th>\n",
       "      <td>Push Up</td>\n",
       "      <td>rap</td>\n",
       "      <td>Trippie Redd</td>\n",
       "      <td>2022</td>\n",
       "      <td>4805</td>\n",
       "      <td>{Ne-Yo}</td>\n",
       "      <td>[Chorus: Trippie Redd]\\nBaby girl, push up on ...</td>\n",
       "      <td>en</td>\n",
       "      <td>chorus trippie redd baby girl push cause want ...</td>\n",
       "    </tr>\n",
       "    <tr>\n",
       "      <th>...</th>\n",
       "      <td>...</td>\n",
       "      <td>...</td>\n",
       "      <td>...</td>\n",
       "      <td>...</td>\n",
       "      <td>...</td>\n",
       "      <td>...</td>\n",
       "      <td>...</td>\n",
       "      <td>...</td>\n",
       "      <td>...</td>\n",
       "    </tr>\n",
       "    <tr>\n",
       "      <th>2906</th>\n",
       "      <td>​new trend</td>\n",
       "      <td>rap</td>\n",
       "      <td>lilbubblegum</td>\n",
       "      <td>2022</td>\n",
       "      <td>1</td>\n",
       "      <td>{​lilbubblegum}</td>\n",
       "      <td>Lyrics from Snippet\\n\\nShawty like, \"Who this?...</td>\n",
       "      <td>en</td>\n",
       "      <td>lyric snippet shawty like told new trend kicki...</td>\n",
       "    </tr>\n",
       "    <tr>\n",
       "      <th>3315</th>\n",
       "      <td>Im Vibin</td>\n",
       "      <td>country</td>\n",
       "      <td>The Reverent Marigold</td>\n",
       "      <td>2022</td>\n",
       "      <td>1</td>\n",
       "      <td>{}</td>\n",
       "      <td>I’m not your potion\\nI’m all emotion\\nCan’t ha...</td>\n",
       "      <td>en</td>\n",
       "      <td>potion emotion harsh mellow orange yellow blos...</td>\n",
       "    </tr>\n",
       "    <tr>\n",
       "      <th>494</th>\n",
       "      <td>​skippity™</td>\n",
       "      <td>rap</td>\n",
       "      <td>mr. master</td>\n",
       "      <td>2022</td>\n",
       "      <td>1</td>\n",
       "      <td>{\"​mr. master\"}</td>\n",
       "      <td>[prod. by mr. master]\\n\\n[intro: saatvik thati...</td>\n",
       "      <td>en</td>\n",
       "      <td>prod mr master intro saatvik thatipally mr mas...</td>\n",
       "    </tr>\n",
       "    <tr>\n",
       "      <th>1227</th>\n",
       "      <td>WannaSay</td>\n",
       "      <td>pop</td>\n",
       "      <td>JeiJee</td>\n",
       "      <td>2022</td>\n",
       "      <td>1</td>\n",
       "      <td>{}</td>\n",
       "      <td>[Verse]\\nI sleep in late\\nI'm feeling sick\\nHa...</td>\n",
       "      <td>en</td>\n",
       "      <td>verse sleep late feeling sick hard feel good t...</td>\n",
       "    </tr>\n",
       "    <tr>\n",
       "      <th>6012</th>\n",
       "      <td>They All Go to California</td>\n",
       "      <td>rock</td>\n",
       "      <td>Smoke Or Fire</td>\n",
       "      <td>2022</td>\n",
       "      <td>0</td>\n",
       "      <td>{}</td>\n",
       "      <td>Square peg stuck in a round hole\\nAs long as I...</td>\n",
       "      <td>en</td>\n",
       "      <td>square peg stuck round hole long stuck place m...</td>\n",
       "    </tr>\n",
       "  </tbody>\n",
       "</table>\n",
       "<p>150 rows × 9 columns</p>\n",
       "</div>"
      ],
      "text/plain": [
       "                          title      tag                 artist  year  views  \\\n",
       "832             Mr. Forgettable      pop          David Kushner  2022  54101   \n",
       "148                       Twice      pop             Charli XCX  2022  14502   \n",
       "751                 Just a Word      pop          Prateek Kuhad  2022   9924   \n",
       "3475                Cupid Remix      pop                  2RARE  2022   9352   \n",
       "2148                    Push Up      rap           Trippie Redd  2022   4805   \n",
       "...                         ...      ...                    ...   ...    ...   \n",
       "2906                 ​new trend      rap           lilbubblegum  2022      1   \n",
       "3315                   Im Vibin  country  The Reverent Marigold  2022      1   \n",
       "494                  ​skippity™      rap             mr. master  2022      1   \n",
       "1227                   WannaSay      pop                 JeiJee  2022      1   \n",
       "6012  They All Go to California     rock          Smoke Or Fire  2022      0   \n",
       "\n",
       "             features                                             lyrics  \\\n",
       "832                {}  [Verse 1]\\nI know that you're waiting for me l...   \n",
       "148                {}  [Intro]\\nDon't think twice, don't think twice\\...   \n",
       "751                {}  [Verse 1]\\nAm I the one that you want?\\nMaybe ...   \n",
       "3475               {}  [Intro]\\nOhh, uhh, ayee\\nOhh, come on (Uhh, uh...   \n",
       "2148          {Ne-Yo}  [Chorus: Trippie Redd]\\nBaby girl, push up on ...   \n",
       "...               ...                                                ...   \n",
       "2906  {​lilbubblegum}  Lyrics from Snippet\\n\\nShawty like, \"Who this?...   \n",
       "3315               {}  I’m not your potion\\nI’m all emotion\\nCan’t ha...   \n",
       "494   {\"​mr. master\"}  [prod. by mr. master]\\n\\n[intro: saatvik thati...   \n",
       "1227               {}  [Verse]\\nI sleep in late\\nI'm feeling sick\\nHa...   \n",
       "6012               {}  Square peg stuck in a round hole\\nAs long as I...   \n",
       "\n",
       "     language                                     cleaned_lyrics  \n",
       "832        en  verse know waiting like dog patience part lost...  \n",
       "148        en  intro think twice think twice think twice thin...  \n",
       "751        en  verse one want maybe time let know picking flo...  \n",
       "3475       en  intro ohh uhh ayee ohh come uhh uhh ayee ayee ...  \n",
       "2148       en  chorus trippie redd baby girl push cause want ...  \n",
       "...       ...                                                ...  \n",
       "2906       en  lyric snippet shawty like told new trend kicki...  \n",
       "3315       en  potion emotion harsh mellow orange yellow blos...  \n",
       "494        en  prod mr master intro saatvik thatipally mr mas...  \n",
       "1227       en  verse sleep late feeling sick hard feel good t...  \n",
       "6012       en  square peg stuck round hole long stuck place m...  \n",
       "\n",
       "[150 rows x 9 columns]"
      ]
     },
     "execution_count": 61,
     "metadata": {},
     "output_type": "execute_result"
    }
   ],
   "source": [
    "df[df['year'] == 2022].sort_values('views', ascending=False)"
   ]
  },
  {
   "cell_type": "code",
   "execution_count": null,
   "metadata": {},
   "outputs": [],
   "source": [
    "seed_index = 832\n",
    "\n",
    "top_match = cos_sim_reduced[seed_index].argsort()[::-1][1]\n",
    "top_indices = cos_sim_reduced[seed_index].argsort()[::-1][1:6]"
   ]
  },
  {
   "cell_type": "code",
   "execution_count": null,
   "metadata": {},
   "outputs": [
    {
     "name": "stdout",
     "output_type": "stream",
     "text": [
      "Seed Song:\n",
      "title     Mr. Forgettable\n",
      "artist      David Kushner\n",
      "year                 2022\n",
      "Name: 832, dtype: object\n",
      "[Verse 1]\n",
      "I know that you're waiting for me like a dog\n",
      "But have some patience for the part of me that's lost\n",
      "There's been a hundred times\n",
      "When I don't recognize\n",
      "Any of you that love me\n",
      "I try to memorize and identify\n",
      "But it's all getting foggy\n",
      "\n",
      "[Pre-Chorus]\n",
      "My head is in the clouds right now\n",
      "Just pray I come around, around\n",
      "\n",
      "[Chorus]\n",
      "Hello, hello, are you lonely?\n",
      "I'm sorry, it's just the chemicals\n",
      "Hello, hello, do you know me?\n",
      "I'm called Mr. Forgettable\n",
      "(Oh, oh, oh, oh-oh, oh-oh, oh-oh)\n",
      "Mr. Forget\n"
     ]
    }
   ],
   "source": [
    "print('Seed Song:')\n",
    "print(df.loc[seed_index, ['title', 'artist', 'year']])\n",
    "print(df.loc[seed_index, 'lyrics'][:500])"
   ]
  },
  {
   "cell_type": "code",
   "execution_count": null,
   "metadata": {},
   "outputs": [
    {
     "name": "stdout",
     "output_type": "stream",
     "text": [
      "Top Match:\n",
      "title     The Right Stuff The New Kids In the House Mix\n",
      "artist                            New Kids on the Block\n",
      "year                                               1990\n",
      "Name: 3845, dtype: object\n",
      "[Intro]\n",
      "\n",
      "[Verse 1]\n",
      "First time was a great time\n",
      "Second time was a blast\n",
      "Third time I fell in love\n",
      "Now I hope it lasts\n",
      "I can see it in your walk\n",
      "Tell it when you talk\n",
      "See it in everything you do\n",
      "Even in your thoughts\n",
      "You got the right stuff, baby\n",
      "Love the way you turn me on\n",
      "You got the right stuff, baby\n",
      "You’re the reason why I sing this song\n",
      "\n",
      "[Pre-Chorus]\n",
      "All that I needed was you\n",
      "Oh girl, you’re so right\n",
      "Said all that I wanted was you\n",
      "You made all my dreams come true\n",
      "[Chorus]\n",
      "Oh, oh, oh, oh, oh\n",
      "O\n"
     ]
    }
   ],
   "source": [
    "print('Top Match:')\n",
    "print(df.loc[top_match, ['title', 'artist', 'year']])\n",
    "print(df.loc[top_match, 'lyrics'][:500])"
   ]
  },
  {
   "cell_type": "code",
   "execution_count": null,
   "metadata": {},
   "outputs": [
    {
     "name": "stdout",
     "output_type": "stream",
     "text": [
      "\u001b[92mSimilar Song 3265:\u001b[0m\n",
      "title         I Believe\n",
      "artist    David Dreshaj\n",
      "year               2020\n",
      "Name: 3265, dtype: object\n",
      "[Verse 1]\n",
      "With every touch you make me want you more\n",
      "And when you're here, I feel like we belong\n",
      "There is no fear, to you, I give it all\n",
      "Baby, you're mine, baby, I'm yours\n",
      "\n",
      "[Pre-Chorus]\n",
      "With every little touch\n",
      "You're takin' over me\n",
      "With everything you do\n",
      "You make me wanna be\n",
      "Stronger than I was\n",
      "And better than I am\n",
      "I believe in love\n",
      "\n",
      "[Chorus 1]\n",
      "I believe in love\n",
      "I believe, I...\n",
      "I believe, I believe\n",
      "Oh, I believe in love\n",
      "[Verse 2]\n",
      "With every kiss you make me fall in love\n",
      "And when you're here, I f\n",
      "\u001b[92mSimilar Song 413:\u001b[0m\n",
      "title     ​with you/for you\n",
      "artist        Prateek Kuhad\n",
      "year                   2018\n",
      "Name: 413, dtype: object\n",
      "Yeah you seem to be okay\n",
      "Your sweet taste in my mouth stays\n",
      "So I’ll be waiting in the corner\n",
      "\n",
      "For you\n",
      "\n",
      "Not mindless, I’m just spineless\n",
      "Put Cellophane on my mouth and kiss\n",
      "My love is lying in the corner\n",
      "\n",
      "For you, you\n",
      "It’s true, true\n",
      "\n",
      "We grow old with these folds of time\n",
      "Mold each other into perfect wine\n",
      "I bless the day that our heartbeats lined\n",
      "My love is lying in the corner\n",
      "\n",
      "For you, you\n",
      "It’s true, true\n",
      "For you, you\n",
      "It’s true, true\n",
      "I sing this broken tune\n",
      "But is it for you\n",
      "As we sleep we’re gro\n",
      "\u001b[92mSimilar Song 4521:\u001b[0m\n",
      "title     Godd - Original\n",
      "artist            Marco V\n",
      "year                 2015\n",
      "Name: 4521, dtype: object\n",
      "(x2)\n",
      "Do you believe\n",
      "In a God that satisfies\n",
      "Do you believe\n",
      "In a God that opens eyes\n",
      "Do you believe\n",
      "In a God that tell you lies\n",
      "Or do you believe in ME?\n",
      "(x2)\n",
      "Do you believe\n",
      "In a God that bring you down\n",
      "Do you believe\n",
      "In a God that wears a crown\n",
      "Do you believe\n",
      "In a God that makes you bow\n",
      "Or do you believe in ME?\n",
      "\u001b[92mSimilar Song 4670:\u001b[0m\n",
      "title     I Believe Them\n",
      "artist      Petrol Girls\n",
      "year                2020\n",
      "Name: 4670, dtype: object\n",
      "[Verse 1]\n",
      "They think that they’ll wear us down\n",
      "That we’ll shut up and cop out\n",
      "We won’t cop out\n",
      "They started too many fires\n",
      "And now they’re trying to pretend\n",
      "There’s no smoke\n",
      "Nobodies know when no one else believes\n",
      "How many 'me too's do you need to hear?\n",
      "\n",
      "[Chorus]\n",
      "How are we meant to protect ourselves?\n",
      "How are we meant to protect ourselves?\n",
      "\n",
      "[Verse 2]\n",
      "Seen these patterns too many times beforе\n",
      "Freedom of speech for him but not for her\n",
      "Gossip, conspire, meddlе, bitch\n",
      "When women speak we’re met with\n",
      "\u001b[92mSimilar Song 6100:\u001b[0m\n",
      "title     When you see me -  Tha Diamondz\n",
      "artist             Spirit ft Tha Diamondz\n",
      "year                                 2016\n",
      "Name: 6100, dtype: object\n",
      "Spirit -\n",
      "ooh , ooh , ooh ,ooh\n",
      "When you see me I see you I tell you that I  love you, you don't believe me just don't believe me when you see me I see you I tell you that I love you, you don't believe me, just don't believe me what I'm supposed to do, what I'm supposed to do, what I supposed to do you don't believe me.\n",
      "\n",
      "Will-\n",
      "She call my phone asking baby wea you at I'm in the studio you know that be my trap I'm telling you keep thinking nigga out hea playing games you keep on bugging on my line \n"
     ]
    }
   ],
   "source": [
    "for index in top_indices:\n",
    "    print(f\"\\033[92mSimilar Song {index}:\\033[0m\")\n",
    "    print(df.loc[index, ['title', 'artist', 'year']])\n",
    "    print(df.loc[index, 'lyrics'][:500])"
   ]
  }
 ],
 "metadata": {
  "kernelspec": {
   "display_name": "vinylitics",
   "language": "python",
   "name": "python3"
  },
  "language_info": {
   "codemirror_mode": {
    "name": "ipython",
    "version": 3
   },
   "file_extension": ".py",
   "mimetype": "text/x-python",
   "name": "python",
   "nbconvert_exporter": "python",
   "pygments_lexer": "ipython3",
   "version": "3.10.6"
  }
 },
 "nbformat": 4,
 "nbformat_minor": 2
}
