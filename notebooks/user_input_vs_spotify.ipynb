{
 "cells": [
  {
   "cell_type": "code",
   "execution_count": null,
   "metadata": {},
   "outputs": [
    {
     "name": "stdout",
     "output_type": "stream",
     "text": [
      "Collecting spotipy\n",
      "  Downloading spotipy-2.25.1-py3-none-any.whl.metadata (5.1 kB)\n",
      "Collecting redis>=3.5.3 (from spotipy)\n",
      "  Downloading redis-5.2.1-py3-none-any.whl.metadata (9.1 kB)\n",
      "Requirement already satisfied: requests>=2.25.0 in /Users/youssef/.pyenv/versions/3.10.6/envs/lewagon/lib/python3.10/site-packages (from spotipy) (2.32.3)\n",
      "Requirement already satisfied: urllib3>=1.26.0 in /Users/youssef/.pyenv/versions/3.10.6/envs/lewagon/lib/python3.10/site-packages (from spotipy) (1.26.12)\n",
      "Requirement already satisfied: async-timeout>=4.0.3 in /Users/youssef/.pyenv/versions/3.10.6/envs/lewagon/lib/python3.10/site-packages (from redis>=3.5.3->spotipy) (5.0.1)\n",
      "Requirement already satisfied: charset-normalizer<4,>=2 in /Users/youssef/.pyenv/versions/3.10.6/envs/lewagon/lib/python3.10/site-packages (from requests>=2.25.0->spotipy) (2.1.1)\n",
      "Requirement already satisfied: idna<4,>=2.5 in /Users/youssef/.pyenv/versions/3.10.6/envs/lewagon/lib/python3.10/site-packages (from requests>=2.25.0->spotipy) (3.4)\n",
      "Requirement already satisfied: certifi>=2017.4.17 in /Users/youssef/.pyenv/versions/3.10.6/envs/lewagon/lib/python3.10/site-packages (from requests>=2.25.0->spotipy) (2022.9.24)\n",
      "Downloading spotipy-2.25.1-py3-none-any.whl (31 kB)\n",
      "Downloading redis-5.2.1-py3-none-any.whl (261 kB)\n",
      "Installing collected packages: redis, spotipy\n",
      "Successfully installed redis-5.2.1 spotipy-2.25.1\n",
      "\n",
      "\u001b[1m[\u001b[0m\u001b[34;49mnotice\u001b[0m\u001b[1;39;49m]\u001b[0m\u001b[39;49m A new release of pip is available: \u001b[0m\u001b[31;49m25.0\u001b[0m\u001b[39;49m -> \u001b[0m\u001b[32;49m25.0.1\u001b[0m\n",
      "\u001b[1m[\u001b[0m\u001b[34;49mnotice\u001b[0m\u001b[1;39;49m]\u001b[0m\u001b[39;49m To update, run: \u001b[0m\u001b[32;49mpython -m pip install --upgrade pip\u001b[0m\n"
     ]
    }
   ],
   "source": [
    "# uncomment and pip install if not already done\n",
    "#!pip install spotipy"
   ]
  },
  {
   "cell_type": "code",
   "execution_count": null,
   "metadata": {},
   "outputs": [],
   "source": [
    "# all the imports\n",
    "import spotipy\n",
    "from spotipy.oauth2 import SpotifyClientCredentials\n",
    "from vinylitics.params import *"
   ]
  },
  {
   "cell_type": "markdown",
   "metadata": {},
   "source": [
    "## set up spotify credentials"
   ]
  },
  {
   "cell_type": "markdown",
   "metadata": {},
   "source": [
    "Go to Spotify Dashboard  \n",
    "https://developer.spotify.com/dashboard  \n",
    "  \n",
    "Create an account if need be and login  \n",
    "  \n",
    "Click on your user name top right, then dashboard, then create app:  \n",
    "\n",
    "1.\tClick “Create an App”  \n",
    "2.\tFill in the required details:  \n",
    "\t•\tApp Name: Choose any name (e.g., “Spotify Track Finder”)  \n",
    "\t•\tApp Description: Short description (optional)  \n",
    "\t•\tRedirect URI: not useful but needed, fill in a placeholder like 'http://localhost:8888/callback'\n",
    "3.\tAccept the terms and conditions and click “Create”\n",
    "  \n",
    "Your app will appear on your dashboard, go to settings and get your Client ID and Client Secret\n",
    "\n"
   ]
  },
  {
   "cell_type": "code",
   "execution_count": 4,
   "metadata": {},
   "outputs": [],
   "source": [
    "# authenticate to spotify account\n",
    "sp = spotipy.Spotify(\n",
    "    auth_manager= SpotifyClientCredentials(\n",
    "        client_id=SPOTIFY_CLIENT_ID\n",
    "        , client_secret=SPOTIFY_CLIENT_SECRET\n",
    "        )\n",
    "    )"
   ]
  },
  {
   "cell_type": "code",
   "execution_count": 5,
   "metadata": {},
   "outputs": [],
   "source": [
    "# function that outputs track_id from spotify API\n",
    "\n",
    "def get_track_id_top_match(track_name, artist_name= None):\n",
    "    \"\"\"Search for a track on Spotify and return its track ID.\"\"\"\n",
    "    query = f\"track:{track_name}\"\n",
    "    if artist_name:\n",
    "        query += f\" artist:{artist_name}\"\n",
    "\n",
    "    result = sp.search(q= query, type= \"track\", limit=1)  # get the top match\n",
    "\n",
    "    if result['tracks']['items']:\n",
    "        track = result['tracks']['items'][0]\n",
    "        track_id = track['id']\n",
    "        track_name = track['name']\n",
    "        track_artist = track['artists'][0]['name']\n",
    "\n",
    "        return {\n",
    "            \"track_id\": track_id,\n",
    "            \"track_name\": track_name,\n",
    "            \"artist_name\": track_artist,\n",
    "            \"spotify_url\": f\"https://open.spotify.com/track/{track_id}\"\n",
    "        }\n",
    "    else:\n",
    "        return {\"error\": \"Track not found\"}"
   ]
  },
  {
   "cell_type": "code",
   "execution_count": 11,
   "metadata": {},
   "outputs": [
    {
     "name": "stdout",
     "output_type": "stream",
     "text": [
      "{'track_id': '0GsNzZNqLPrNnJswoQOCtO', 'track_name': 'Christmas Bae', 'artist_name': 'Yade Lauren', 'spotify_url': 'https://open.spotify.com/track/0GsNzZNqLPrNnJswoQOCtO'}\n"
     ]
    }
   ],
   "source": [
    "# test example\n",
    "track_info = get_track_id_top_match(\"christmas\")\n",
    "print(track_info)"
   ]
  },
  {
   "cell_type": "code",
   "execution_count": null,
   "metadata": {},
   "outputs": [],
   "source": [
    "# function that solves for several matches, prints back the top 10 matches and asks user to select which song they meant\n",
    "# WARNING - this does not work on jupyter notebook and needs to be added to a python script in order for the input function to work (otherwise it runes endlessly)\n",
    "\n",
    "def get_track_id_top_10_match(track_name, artist_name= None):\n",
    "\n",
    "    \"\"\"\n",
    "    search for a track on spotify, display multiple matches, and let the user select the correct track\n",
    "    \"\"\"\n",
    "\n",
    "    query = f\"track:{track_name}\"\n",
    "    if artist_name:\n",
    "        query += f\" artist:{artist_name}\"\n",
    "\n",
    "    result = sp.search(q= query, type= \"track\", limit= 10)  # get up to 10 matches\n",
    "\n",
    "    tracks = result['tracks']['items']\n",
    "    if not tracks:\n",
    "        print(\"no tracks found :-(\")\n",
    "        return None\n",
    "\n",
    "    # display the matches\n",
    "    print(\"\\nseveral possible matches found:\")\n",
    "    for idx, track in enumerate(tracks):\n",
    "        print(f\"{idx + 1}. {track['name']} - {', '.join(artist['name'] for artist in track['artists'])}\")\n",
    "\n",
    "    # get user selection\n",
    "    while True:\n",
    "        try:\n",
    "            choice = int(input(f\"\\nwhich song did you mean (1-{len(tracks)}): \")) - 1\n",
    "            if 0 <= choice < len(tracks):\n",
    "                selected_track = tracks[choice]\n",
    "                track_id = selected_track['id']\n",
    "                track_name = selected_track['name']\n",
    "                artist_name = \", \".join(artist['name'] for artist in selected_track['artists'])\n",
    "\n",
    "                return {\n",
    "                    \"track_id\": track_id,\n",
    "                    \"track_name\": track_name,\n",
    "                    \"artist_name\": artist_name,\n",
    "                    \"spotify_url\": f\"https://open.spotify.com/track/{track_id}\"\n",
    "                }\n",
    "            else:\n",
    "                print(\"invalid selection, please choose a number from the list\")\n",
    "        except ValueError:\n",
    "            print(\"invalid input, please enter a number\")"
   ]
  },
  {
   "cell_type": "code",
   "execution_count": 15,
   "metadata": {},
   "outputs": [
    {
     "name": "stdout",
     "output_type": "stream",
     "text": [
      "\n",
      "several possible matches found:\n",
      "1. Hello - Adele\n",
      "2. Hello Baby (feat. Julia Church) - Cinimin, Julia Church\n",
      "3. Hello Miss Johnson - Jack Harlow\n",
      "4. Hello - Moto/Spory - Kukon, Magiera\n",
      "5. Hello - Lionel Richie\n",
      "6. 멋지게 인사하는 법 (Hello Tutorial) (Feat. 슬기 (SEULGI) of Red Velvet) - Zion.T, 슬기 (SEULGI)\n",
      "7. Hello Joehoe - D-Double\n",
      "8. Hello - Party Mix - Wajid Khan, Harchelle, Tim, Suzi Q, Ishq Bector, Merlin\n",
      "9. Hello - Martin Solveig, Dragonette\n",
      "10. Hello How Are You (ZDF Silvester-Hitparty 31.12.2003) - VOD - No Mercy\n"
     ]
    }
   ],
   "source": [
    "# test example\n",
    "track_info = get_track_id_top_10_match(\"hello\")"
   ]
  },
  {
   "cell_type": "code",
   "execution_count": null,
   "metadata": {},
   "outputs": [],
   "source": []
  },
  {
   "cell_type": "code",
   "execution_count": null,
   "metadata": {},
   "outputs": [],
   "source": []
  }
 ],
 "metadata": {
  "kernelspec": {
   "display_name": "Python 3",
   "language": "python",
   "name": "python3"
  },
  "language_info": {
   "codemirror_mode": {
    "name": "ipython",
    "version": 3
   },
   "file_extension": ".py",
   "mimetype": "text/x-python",
   "name": "python",
   "nbconvert_exporter": "python",
   "pygments_lexer": "ipython3",
   "version": "3.10.6"
  }
 },
 "nbformat": 4,
 "nbformat_minor": 2
}
