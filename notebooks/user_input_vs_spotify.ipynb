{
 "cells": [
  {
   "cell_type": "code",
   "execution_count": null,
   "metadata": {},
   "outputs": [
    {
     "name": "stdout",
     "output_type": "stream",
     "text": [
      "Collecting spotipy\n",
      "  Downloading spotipy-2.25.1-py3-none-any.whl.metadata (5.1 kB)\n",
      "Collecting redis>=3.5.3 (from spotipy)\n",
      "  Downloading redis-5.2.1-py3-none-any.whl.metadata (9.1 kB)\n",
      "Requirement already satisfied: requests>=2.25.0 in /Users/youssef/.pyenv/versions/3.10.6/envs/lewagon/lib/python3.10/site-packages (from spotipy) (2.32.3)\n",
      "Requirement already satisfied: urllib3>=1.26.0 in /Users/youssef/.pyenv/versions/3.10.6/envs/lewagon/lib/python3.10/site-packages (from spotipy) (1.26.12)\n",
      "Requirement already satisfied: async-timeout>=4.0.3 in /Users/youssef/.pyenv/versions/3.10.6/envs/lewagon/lib/python3.10/site-packages (from redis>=3.5.3->spotipy) (5.0.1)\n",
      "Requirement already satisfied: charset-normalizer<4,>=2 in /Users/youssef/.pyenv/versions/3.10.6/envs/lewagon/lib/python3.10/site-packages (from requests>=2.25.0->spotipy) (2.1.1)\n",
      "Requirement already satisfied: idna<4,>=2.5 in /Users/youssef/.pyenv/versions/3.10.6/envs/lewagon/lib/python3.10/site-packages (from requests>=2.25.0->spotipy) (3.4)\n",
      "Requirement already satisfied: certifi>=2017.4.17 in /Users/youssef/.pyenv/versions/3.10.6/envs/lewagon/lib/python3.10/site-packages (from requests>=2.25.0->spotipy) (2022.9.24)\n",
      "Downloading spotipy-2.25.1-py3-none-any.whl (31 kB)\n",
      "Downloading redis-5.2.1-py3-none-any.whl (261 kB)\n",
      "Installing collected packages: redis, spotipy\n",
      "Successfully installed redis-5.2.1 spotipy-2.25.1\n",
      "\n",
      "\u001b[1m[\u001b[0m\u001b[34;49mnotice\u001b[0m\u001b[1;39;49m]\u001b[0m\u001b[39;49m A new release of pip is available: \u001b[0m\u001b[31;49m25.0\u001b[0m\u001b[39;49m -> \u001b[0m\u001b[32;49m25.0.1\u001b[0m\n",
      "\u001b[1m[\u001b[0m\u001b[34;49mnotice\u001b[0m\u001b[1;39;49m]\u001b[0m\u001b[39;49m To update, run: \u001b[0m\u001b[32;49mpython -m pip install --upgrade pip\u001b[0m\n"
     ]
    }
   ],
   "source": [
    "# uncomment and pip install if not already done\n",
    "#!pip install spotipy"
   ]
  },
  {
   "cell_type": "code",
<<<<<<< HEAD:user_input_vs_spotify.ipynb
   "execution_count": 1,
=======
   "execution_count": null,
>>>>>>> master:notebooks/user_input_vs_spotify.ipynb
   "metadata": {},
   "outputs": [],
   "source": [
    "# all the imports\n",
    "import spotipy\n",
    "from spotipy.oauth2 import SpotifyClientCredentials\n",
    "from vinylitics.params import *"
   ]
  },
  {
   "cell_type": "markdown",
   "metadata": {},
   "source": [
    "## set up spotify credentials"
   ]
  },
  {
   "cell_type": "markdown",
   "metadata": {},
   "source": [
    "Go to Spotify Dashboard  \n",
    "https://developer.spotify.com/dashboard  \n",
    "  \n",
    "Create an account if need be and login  \n",
    "  \n",
    "Click on your user name top right, then dashboard, then create app:  \n",
    "\n",
    "1.\tClick “Create an App”  \n",
    "2.\tFill in the required details:  \n",
    "\t•\tApp Name: Choose any name (e.g., “Spotify Track Finder”)  \n",
    "\t•\tApp Description: Short description (optional)  \n",
    "\t•\tRedirect URI: not useful but needed, fill in a placeholder like 'http://localhost:8888/callback'\n",
    "3.\tAccept the terms and conditions and click “Create”\n",
    "  \n",
    "Your app will appear on your dashboard, go to settings and get your Client ID and Client Secret\n",
    "\n"
   ]
  },
  {
   "cell_type": "code",
<<<<<<< HEAD:user_input_vs_spotify.ipynb
   "execution_count": 2,
   "metadata": {},
   "outputs": [],
   "source": [
    "# set up Spotify credentials (get these from Spotify Developer Dashboard)\n",
    "SPOTIFY_CLIENT_ID = \"8b45dfebfdc74c20a78a3f2b51d2be1d\"\n",
    "SPOTIFY_CLIENT_SECRET = \"c2e1bfff9c6f44b48054e4006e64945b\""
   ]
  },
  {
   "cell_type": "code",
   "execution_count": 3,
=======
   "execution_count": 4,
>>>>>>> master:notebooks/user_input_vs_spotify.ipynb
   "metadata": {},
   "outputs": [],
   "source": [
    "# authenticate to spotify account\n",
    "sp = spotipy.Spotify(\n",
    "    auth_manager= SpotifyClientCredentials(\n",
    "        client_id=SPOTIFY_CLIENT_ID\n",
    "        , client_secret=SPOTIFY_CLIENT_SECRET\n",
    "        )\n",
    "    )"
   ]
  },
  {
   "cell_type": "code",
   "execution_count": 25,
   "metadata": {},
   "outputs": [],
   "source": [
    "# function that outputs track_id from spotify API\n",
    "\n",
    "def get_track_id_top_match(track_name, artist_name= None):\n",
    "    \"\"\"Search for a track on Spotify and return its track ID.\"\"\"\n",
    "    query = f\"track:{track_name}\"\n",
    "    if artist_name:\n",
    "        query += f\" artist:{artist_name}\"\n",
    "\n",
    "    result = sp.search(q= query, type= \"track\", limit=1)  # get the top match\n",
    "\n",
    "    if result['tracks']['items']:\n",
    "        track = result['tracks']['items'][0]\n",
    "        track_id = track['id']\n",
    "        track_name = track['name']\n",
    "        track_artist = track['artists'][0]['name']\n",
    "\n",
    "        return {\n",
    "            \"track_id\": track_id,\n",
    "            \"track_name\": track_name,\n",
    "            \"artist_name\": track_artist,\n",
    "            \"spotify_url\": f\"https://open.spotify.com/track/{track_id}\"\n",
    "        }\n",
    "    else:\n",
    "        return {\"error\": \"Track not found\"}"
   ]
  },
  {
   "cell_type": "code",
   "execution_count": 26,
   "metadata": {},
   "outputs": [
    {
     "name": "stdout",
     "output_type": "stream",
     "text": [
      "{'track_id': '0yKlFaSKtA5wdF8pWgyoo1', 'track_name': 'Help Me Lose My Mind', 'artist_name': 'Gravagerz', 'spotify_url': 'https://open.spotify.com/track/0yKlFaSKtA5wdF8pWgyoo1'}\n"
     ]
    }
   ],
   "source": [
    "# test example\n",
    "track_info = get_track_id_top_match(\"Help\")\n",
    "print(track_info)"
   ]
  },
  {
   "cell_type": "code",
   "execution_count": 29,
   "metadata": {},
   "outputs": [],
   "source": [
    "# function that solves for several matches, prints back the top 10 matches and asks user to select which song they meant\n",
    "# WARNING - this does not work on jupyter notebook and needs to be added to a python script in order for the input function to work (otherwise it runes endlessly)\n",
    "\n",
    "def get_track_id_top_10_match(track_name, artist_name= None):\n",
    "\n",
    "    \"\"\"\n",
    "    search for a track on spotify, display multiple matches, and let the user select the correct track\n",
    "    \"\"\"\n",
    "\n",
    "    query = f\"track:{track_name}\"\n",
    "    if artist_name:\n",
    "        query += f\" artist:{artist_name}\"\n",
    "\n",
    "    result = sp.search(q= query, type= \"track\", limit= 10)  # get up to 10 matches\n",
    "\n",
    "    tracks = result['tracks']['items']\n",
    "    if not tracks:\n",
    "        print(\"no tracks found :-(\")\n",
    "        return None\n",
    "\n",
    "    # display the matches\n",
    "    print(\"\\nhere are the possible matches found:\")\n",
    "    for idx, track in enumerate(tracks):\n",
    "        print(f\"{idx + 1}. {track['name']} - {', '.join(artist['name'] for artist in track['artists'])}\")\n",
    "\n",
    "    # get user selection\n",
    "    while True:\n",
    "        try:\n",
    "            choice = int(input(f\"\\nwhich song did you mean (1-{len(tracks)}): \")) - 1\n",
    "            if 0 <= choice < len(tracks):\n",
    "                selected_track = tracks[choice]\n",
    "                track_id = selected_track['id']\n",
    "                track_name = selected_track['name']\n",
    "                artist_name = \", \".join(artist['name'] for artist in selected_track['artists'])\n",
    "\n",
    "                # get audio features for the track\n",
    "                audio_features = sp.audio_features(track_id)\n",
    "\n",
    "                # extracting audio features\n",
    "                if audio_features:\n",
    "                    track_data = {\n",
    "                        'track_id': track_id\n",
    "                        , 'track_name': track_name\n",
    "                        , 'artist_name': artist_name\n",
    "                        , 'spotify_url': f'https://open.spotify.com/track/{track_id}'\n",
    "                        , 'duration_ms': audio_features['duration_ms']\n",
    "                        , 'danceability': audio_features['danceability']\n",
    "                        , 'energy': audio_features['energy']\n",
    "                        , 'key': audio_features['key']\n",
    "                        , 'loudness': audio_features['loudness']\n",
    "                        , 'mode': audio_features['mode']\n",
    "                        , 'speechiness': audio_features['speechiness']\n",
    "                        , 'acousticness': audio_features['acousticness']\n",
    "                        , 'instrumentalness': audio_features['instrumentalness']\n",
    "                        , 'liveness': audio_features['liveness']\n",
    "                        , 'valence': audio_features['valence']\n",
    "                        , 'tempo': audio_features['tempo']\n",
    "                        , 'time_signature': audio_features['time_signature']\n",
    "                    }\n",
    "                    return track_data\n",
    "                else:\n",
    "                    print('could not retrieve audio features for selected track')\n",
    "                    return None\n",
    "\n",
    "            else:\n",
    "                print(\"invalid selection, please choose a number from the list\")\n",
    "        except ValueError:\n",
    "            print(\"invalid input, please enter a number\")"
   ]
  },
  {
   "cell_type": "code",
   "execution_count": 30,
   "metadata": {},
   "outputs": [
    {
     "name": "stdout",
     "output_type": "stream",
     "text": [
      "\n",
      "here are the possible matches found:\n",
      "1. Hello - Adele\n",
      "2. Hello Baby (feat. Julia Church) - Cinimin, Julia Church\n",
      "3. Hello Miss Johnson - Jack Harlow\n",
      "4. Hello - Moto/Spory - Kukon, Magiera\n",
      "5. Hello - Lionel Richie\n",
      "6. 멋지게 인사하는 법 (Hello Tutorial) (Feat. 슬기 (SEULGI) of Red Velvet) - Zion.T, 슬기 (SEULGI)\n",
      "7. Hello Joehoe - D-Double\n",
      "8. Hello - Party Mix - Wajid Khan, Harchelle, Tim, Suzi Q, Ishq Bector, Merlin\n",
      "9. Hello - Martin Solveig, Dragonette\n",
      "10. Hello How Are You (ZDF Silvester-Hitparty 31.12.2003) - VOD - No Mercy\n"
     ]
    },
    {
     "name": "stderr",
     "output_type": "stream",
     "text": [
      "HTTP Error for GET to https://api.spotify.com/v1/audio-features/?ids=1Yk0cQdMLx5RzzFTYwmuld with Params: {} returned 403 due to None\n"
     ]
    },
    {
     "ename": "SpotifyException",
     "evalue": "http status: 403, code: -1 - https://api.spotify.com/v1/audio-features/?ids=1Yk0cQdMLx5RzzFTYwmuld:\n None, reason: None",
     "output_type": "error",
     "traceback": [
      "\u001b[0;31m---------------------------------------------------------------------------\u001b[0m",
      "\u001b[0;31mHTTPError\u001b[0m                                 Traceback (most recent call last)",
      "File \u001b[0;32m~/.pyenv/versions/lewagon/lib/python3.10/site-packages/spotipy/client.py:274\u001b[0m, in \u001b[0;36mSpotify._internal_call\u001b[0;34m(self, method, url, payload, params)\u001b[0m\n\u001b[1;32m    269\u001b[0m response \u001b[38;5;241m=\u001b[39m \u001b[38;5;28mself\u001b[39m\u001b[38;5;241m.\u001b[39m_session\u001b[38;5;241m.\u001b[39mrequest(\n\u001b[1;32m    270\u001b[0m     method, url, headers\u001b[38;5;241m=\u001b[39mheaders, proxies\u001b[38;5;241m=\u001b[39m\u001b[38;5;28mself\u001b[39m\u001b[38;5;241m.\u001b[39mproxies,\n\u001b[1;32m    271\u001b[0m     timeout\u001b[38;5;241m=\u001b[39m\u001b[38;5;28mself\u001b[39m\u001b[38;5;241m.\u001b[39mrequests_timeout, \u001b[38;5;241m*\u001b[39m\u001b[38;5;241m*\u001b[39margs\n\u001b[1;32m    272\u001b[0m )\n\u001b[0;32m--> 274\u001b[0m \u001b[43mresponse\u001b[49m\u001b[38;5;241;43m.\u001b[39;49m\u001b[43mraise_for_status\u001b[49m\u001b[43m(\u001b[49m\u001b[43m)\u001b[49m\n\u001b[1;32m    275\u001b[0m results \u001b[38;5;241m=\u001b[39m response\u001b[38;5;241m.\u001b[39mjson()\n",
      "File \u001b[0;32m~/.pyenv/versions/lewagon/lib/python3.10/site-packages/requests/models.py:1024\u001b[0m, in \u001b[0;36mResponse.raise_for_status\u001b[0;34m(self)\u001b[0m\n\u001b[1;32m   1023\u001b[0m \u001b[38;5;28;01mif\u001b[39;00m http_error_msg:\n\u001b[0;32m-> 1024\u001b[0m     \u001b[38;5;28;01mraise\u001b[39;00m HTTPError(http_error_msg, response\u001b[38;5;241m=\u001b[39m\u001b[38;5;28mself\u001b[39m)\n",
      "\u001b[0;31mHTTPError\u001b[0m: 403 Client Error: Forbidden for url: https://api.spotify.com/v1/audio-features/?ids=1Yk0cQdMLx5RzzFTYwmuld",
      "\nDuring handling of the above exception, another exception occurred:\n",
      "\u001b[0;31mSpotifyException\u001b[0m                          Traceback (most recent call last)",
      "Cell \u001b[0;32mIn [30], line 2\u001b[0m\n\u001b[1;32m      1\u001b[0m \u001b[38;5;66;03m# test example\u001b[39;00m\n\u001b[0;32m----> 2\u001b[0m \u001b[43mget_track_id_top_10_match\u001b[49m\u001b[43m(\u001b[49m\u001b[38;5;124;43m\"\u001b[39;49m\u001b[38;5;124;43mhello\u001b[39;49m\u001b[38;5;124;43m\"\u001b[39;49m\u001b[43m)\u001b[49m\n",
      "Cell \u001b[0;32mIn [29], line 37\u001b[0m, in \u001b[0;36mget_track_id_top_10_match\u001b[0;34m(track_name, artist_name)\u001b[0m\n\u001b[1;32m     34\u001b[0m artist_name \u001b[38;5;241m=\u001b[39m \u001b[38;5;124m\"\u001b[39m\u001b[38;5;124m, \u001b[39m\u001b[38;5;124m\"\u001b[39m\u001b[38;5;241m.\u001b[39mjoin(artist[\u001b[38;5;124m'\u001b[39m\u001b[38;5;124mname\u001b[39m\u001b[38;5;124m'\u001b[39m] \u001b[38;5;28;01mfor\u001b[39;00m artist \u001b[38;5;129;01min\u001b[39;00m selected_track[\u001b[38;5;124m'\u001b[39m\u001b[38;5;124martists\u001b[39m\u001b[38;5;124m'\u001b[39m])\n\u001b[1;32m     36\u001b[0m \u001b[38;5;66;03m# get audio features for the track\u001b[39;00m\n\u001b[0;32m---> 37\u001b[0m audio_features \u001b[38;5;241m=\u001b[39m \u001b[43msp\u001b[49m\u001b[38;5;241;43m.\u001b[39;49m\u001b[43maudio_features\u001b[49m\u001b[43m(\u001b[49m\u001b[43mtrack_id\u001b[49m\u001b[43m)\u001b[49m\n\u001b[1;32m     39\u001b[0m \u001b[38;5;66;03m# extracting audio features\u001b[39;00m\n\u001b[1;32m     40\u001b[0m \u001b[38;5;28;01mif\u001b[39;00m audio_features:\n",
      "File \u001b[0;32m~/.pyenv/versions/lewagon/lib/python3.10/site-packages/spotipy/client.py:1799\u001b[0m, in \u001b[0;36mSpotify.audio_features\u001b[0;34m(self, tracks)\u001b[0m\n\u001b[1;32m   1797\u001b[0m \u001b[38;5;28;01mif\u001b[39;00m \u001b[38;5;28misinstance\u001b[39m(tracks, \u001b[38;5;28mstr\u001b[39m):\n\u001b[1;32m   1798\u001b[0m     trackid \u001b[38;5;241m=\u001b[39m \u001b[38;5;28mself\u001b[39m\u001b[38;5;241m.\u001b[39m_get_id(\u001b[38;5;124m\"\u001b[39m\u001b[38;5;124mtrack\u001b[39m\u001b[38;5;124m\"\u001b[39m, tracks)\n\u001b[0;32m-> 1799\u001b[0m     results \u001b[38;5;241m=\u001b[39m \u001b[38;5;28;43mself\u001b[39;49m\u001b[38;5;241;43m.\u001b[39;49m\u001b[43m_get\u001b[49m\u001b[43m(\u001b[49m\u001b[38;5;124;43m\"\u001b[39;49m\u001b[38;5;124;43maudio-features/?ids=\u001b[39;49m\u001b[38;5;124;43m\"\u001b[39;49m\u001b[43m \u001b[49m\u001b[38;5;241;43m+\u001b[39;49m\u001b[43m \u001b[49m\u001b[43mtrackid\u001b[49m\u001b[43m)\u001b[49m\n\u001b[1;32m   1800\u001b[0m \u001b[38;5;28;01melse\u001b[39;00m:\n\u001b[1;32m   1801\u001b[0m     tlist \u001b[38;5;241m=\u001b[39m [\u001b[38;5;28mself\u001b[39m\u001b[38;5;241m.\u001b[39m_get_id(\u001b[38;5;124m\"\u001b[39m\u001b[38;5;124mtrack\u001b[39m\u001b[38;5;124m\"\u001b[39m, t) \u001b[38;5;28;01mfor\u001b[39;00m t \u001b[38;5;129;01min\u001b[39;00m tracks]\n",
      "File \u001b[0;32m~/.pyenv/versions/lewagon/lib/python3.10/site-packages/spotipy/client.py:324\u001b[0m, in \u001b[0;36mSpotify._get\u001b[0;34m(self, url, args, payload, **kwargs)\u001b[0m\n\u001b[1;32m    321\u001b[0m \u001b[38;5;28;01mif\u001b[39;00m args:\n\u001b[1;32m    322\u001b[0m     kwargs\u001b[38;5;241m.\u001b[39mupdate(args)\n\u001b[0;32m--> 324\u001b[0m \u001b[38;5;28;01mreturn\u001b[39;00m \u001b[38;5;28;43mself\u001b[39;49m\u001b[38;5;241;43m.\u001b[39;49m\u001b[43m_internal_call\u001b[49m\u001b[43m(\u001b[49m\u001b[38;5;124;43m\"\u001b[39;49m\u001b[38;5;124;43mGET\u001b[39;49m\u001b[38;5;124;43m\"\u001b[39;49m\u001b[43m,\u001b[49m\u001b[43m \u001b[49m\u001b[43murl\u001b[49m\u001b[43m,\u001b[49m\u001b[43m \u001b[49m\u001b[43mpayload\u001b[49m\u001b[43m,\u001b[49m\u001b[43m \u001b[49m\u001b[43mkwargs\u001b[49m\u001b[43m)\u001b[49m\n",
      "File \u001b[0;32m~/.pyenv/versions/lewagon/lib/python3.10/site-packages/spotipy/client.py:294\u001b[0m, in \u001b[0;36mSpotify._internal_call\u001b[0;34m(self, method, url, payload, params)\u001b[0m\n\u001b[1;32m    289\u001b[0m         reason \u001b[38;5;241m=\u001b[39m \u001b[38;5;28;01mNone\u001b[39;00m\n\u001b[1;32m    291\u001b[0m     logger\u001b[38;5;241m.\u001b[39merror(\u001b[38;5;124mf\u001b[39m\u001b[38;5;124m\"\u001b[39m\u001b[38;5;124mHTTP Error for \u001b[39m\u001b[38;5;132;01m{\u001b[39;00mmethod\u001b[38;5;132;01m}\u001b[39;00m\u001b[38;5;124m to \u001b[39m\u001b[38;5;132;01m{\u001b[39;00murl\u001b[38;5;132;01m}\u001b[39;00m\u001b[38;5;124m with Params: \u001b[39m\u001b[38;5;124m\"\u001b[39m\n\u001b[1;32m    292\u001b[0m                  \u001b[38;5;124mf\u001b[39m\u001b[38;5;124m\"\u001b[39m\u001b[38;5;132;01m{\u001b[39;00margs\u001b[38;5;241m.\u001b[39mget(\u001b[38;5;124m'\u001b[39m\u001b[38;5;124mparams\u001b[39m\u001b[38;5;124m'\u001b[39m)\u001b[38;5;132;01m}\u001b[39;00m\u001b[38;5;124m returned \u001b[39m\u001b[38;5;132;01m{\u001b[39;00mresponse\u001b[38;5;241m.\u001b[39mstatus_code\u001b[38;5;132;01m}\u001b[39;00m\u001b[38;5;124m due to \u001b[39m\u001b[38;5;132;01m{\u001b[39;00mmsg\u001b[38;5;132;01m}\u001b[39;00m\u001b[38;5;124m\"\u001b[39m)\n\u001b[0;32m--> 294\u001b[0m     \u001b[38;5;28;01mraise\u001b[39;00m SpotifyException(\n\u001b[1;32m    295\u001b[0m         response\u001b[38;5;241m.\u001b[39mstatus_code,\n\u001b[1;32m    296\u001b[0m         \u001b[38;5;241m-\u001b[39m\u001b[38;5;241m1\u001b[39m,\n\u001b[1;32m    297\u001b[0m         \u001b[38;5;124mf\u001b[39m\u001b[38;5;124m\"\u001b[39m\u001b[38;5;132;01m{\u001b[39;00mresponse\u001b[38;5;241m.\u001b[39murl\u001b[38;5;132;01m}\u001b[39;00m\u001b[38;5;124m:\u001b[39m\u001b[38;5;130;01m\\n\u001b[39;00m\u001b[38;5;124m \u001b[39m\u001b[38;5;132;01m{\u001b[39;00mmsg\u001b[38;5;132;01m}\u001b[39;00m\u001b[38;5;124m\"\u001b[39m,\n\u001b[1;32m    298\u001b[0m         reason\u001b[38;5;241m=\u001b[39mreason,\n\u001b[1;32m    299\u001b[0m         headers\u001b[38;5;241m=\u001b[39mresponse\u001b[38;5;241m.\u001b[39mheaders,\n\u001b[1;32m    300\u001b[0m     )\n\u001b[1;32m    301\u001b[0m \u001b[38;5;28;01mexcept\u001b[39;00m requests\u001b[38;5;241m.\u001b[39mexceptions\u001b[38;5;241m.\u001b[39mRetryError \u001b[38;5;28;01mas\u001b[39;00m retry_error:\n\u001b[1;32m    302\u001b[0m     request \u001b[38;5;241m=\u001b[39m retry_error\u001b[38;5;241m.\u001b[39mrequest\n",
      "\u001b[0;31mSpotifyException\u001b[0m: http status: 403, code: -1 - https://api.spotify.com/v1/audio-features/?ids=1Yk0cQdMLx5RzzFTYwmuld:\n None, reason: None"
     ]
    }
   ],
   "source": [
    "# test example\n",
    "get_track_id_top_10_match(\"hello\")"
   ]
  },
  {
   "cell_type": "code",
   "execution_count": 4,
   "metadata": {},
   "outputs": [
    {
     "name": "stderr",
     "output_type": "stream",
     "text": [
      "HTTP Error for GET to https://api.spotify.com/v1/audio-features/?ids=1Yk0cQdMLx5RzzFTYwmuld with Params: {} returned 403 due to None\n"
     ]
    },
    {
     "name": "stdout",
     "output_type": "stream",
     "text": [
      "\n",
      "❌ Error retrieving audio features: http status: 403, code: -1 - https://api.spotify.com/v1/audio-features/?ids=1Yk0cQdMLx5RzzFTYwmuld:\n",
      " None, reason: None\n"
     ]
    }
   ],
   "source": [
    "from spotipy.oauth2 import SpotifyClientCredentials\n",
    "import spotipy\n",
    "\n",
    "# ✅ Force reauthentication\n",
    "auth_manager = SpotifyClientCredentials(client_id=SPOTIFY_CLIENT_ID, client_secret=SPOTIFY_CLIENT_SECRET)\n",
    "sp = spotipy.Spotify(auth_manager=auth_manager)\n",
    "\n",
    "# ✅ Test Audio Features API\n",
    "track_id = \"1Yk0cQdMLx5RzzFTYwmuld\"  # Example track ID\n",
    "try:\n",
    "    audio_features = sp.audio_features(track_id)\n",
    "    print(\"\\n✅ Audio Features Retrieved:\", audio_features)\n",
    "except Exception as e:\n",
    "    print(\"\\n❌ Error retrieving audio features:\", str(e))"
   ]
  },
  {
   "cell_type": "code",
   "execution_count": null,
   "metadata": {},
   "outputs": [],
   "source": []
  }
 ],
 "metadata": {
  "kernelspec": {
   "display_name": "Python 3",
   "language": "python",
   "name": "python3"
  },
  "language_info": {
   "codemirror_mode": {
    "name": "ipython",
    "version": 3
   },
   "file_extension": ".py",
   "mimetype": "text/x-python",
   "name": "python",
   "nbconvert_exporter": "python",
   "pygments_lexer": "ipython3",
   "version": "3.10.6"
  }
 },
 "nbformat": 4,
 "nbformat_minor": 2
}
