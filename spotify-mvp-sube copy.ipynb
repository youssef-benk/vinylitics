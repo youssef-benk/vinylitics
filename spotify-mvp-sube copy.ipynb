{
 "cells": [
  {
   "cell_type": "code",
   "execution_count": 1,
   "metadata": {},
   "outputs": [],
   "source": [
    "import matplotlib.pyplot as plt\n",
    "%matplotlib inline\n",
    "import seaborn as sns\n",
    "import pandas as pd\n",
    "%load_ext autoreload\n",
    "%autoreload"
   ]
  },
  {
   "cell_type": "markdown",
   "metadata": {},
   "source": [
    "# Load dataset "
   ]
  },
  {
   "cell_type": "code",
   "execution_count": null,
   "metadata": {},
   "outputs": [],
   "source": [
    "# uncomment and run if datastes is not installed\n",
    "# !pip install datasets"
   ]
  },
  {
   "cell_type": "code",
   "execution_count": null,
   "metadata": {},
   "outputs": [
    {
     "name": "stdout",
     "output_type": "stream",
     "text": [
      "Requirement already satisfied: pyarrow in /Users/youssef/.pyenv/versions/3.10.6/envs/lewagon/lib/python3.10/site-packages (19.0.1)\n",
      "Requirement already satisfied: datasets in /Users/youssef/.pyenv/versions/3.10.6/envs/lewagon/lib/python3.10/site-packages (3.4.1)\n",
      "Requirement already satisfied: filelock in /Users/youssef/.pyenv/versions/3.10.6/envs/lewagon/lib/python3.10/site-packages (from datasets) (3.12.4)\n",
      "Requirement already satisfied: numpy>=1.17 in /Users/youssef/.pyenv/versions/3.10.6/envs/lewagon/lib/python3.10/site-packages (from datasets) (1.23.4)\n",
      "Requirement already satisfied: dill<0.3.9,>=0.3.0 in /Users/youssef/.pyenv/versions/3.10.6/envs/lewagon/lib/python3.10/site-packages (from datasets) (0.3.8)\n",
      "Requirement already satisfied: pandas in /Users/youssef/.pyenv/versions/3.10.6/envs/lewagon/lib/python3.10/site-packages (from datasets) (1.4.4)\n",
      "Requirement already satisfied: requests>=2.32.2 in /Users/youssef/.pyenv/versions/3.10.6/envs/lewagon/lib/python3.10/site-packages (from datasets) (2.32.3)\n",
      "Requirement already satisfied: tqdm>=4.66.3 in /Users/youssef/.pyenv/versions/3.10.6/envs/lewagon/lib/python3.10/site-packages (from datasets) (4.67.1)\n",
      "Requirement already satisfied: xxhash in /Users/youssef/.pyenv/versions/3.10.6/envs/lewagon/lib/python3.10/site-packages (from datasets) (3.5.0)\n",
      "Requirement already satisfied: multiprocess<0.70.17 in /Users/youssef/.pyenv/versions/3.10.6/envs/lewagon/lib/python3.10/site-packages (from datasets) (0.70.16)\n",
      "Requirement already satisfied: fsspec<=2024.12.0,>=2023.1.0 in /Users/youssef/.pyenv/versions/3.10.6/envs/lewagon/lib/python3.10/site-packages (from fsspec[http]<=2024.12.0,>=2023.1.0->datasets) (2024.12.0)\n",
      "Requirement already satisfied: aiohttp in /Users/youssef/.pyenv/versions/3.10.6/envs/lewagon/lib/python3.10/site-packages (from datasets) (3.11.14)\n",
      "Requirement already satisfied: huggingface-hub>=0.24.0 in /Users/youssef/.pyenv/versions/3.10.6/envs/lewagon/lib/python3.10/site-packages (from datasets) (0.29.3)\n",
      "Requirement already satisfied: packaging in /Users/youssef/.pyenv/versions/3.10.6/envs/lewagon/lib/python3.10/site-packages (from datasets) (21.3)\n",
      "Requirement already satisfied: pyyaml>=5.1 in /Users/youssef/.pyenv/versions/3.10.6/envs/lewagon/lib/python3.10/site-packages (from datasets) (6.0.1)\n",
      "Requirement already satisfied: aiohappyeyeballs>=2.3.0 in /Users/youssef/.pyenv/versions/3.10.6/envs/lewagon/lib/python3.10/site-packages (from aiohttp->datasets) (2.6.1)\n",
      "Requirement already satisfied: aiosignal>=1.1.2 in /Users/youssef/.pyenv/versions/3.10.6/envs/lewagon/lib/python3.10/site-packages (from aiohttp->datasets) (1.3.2)\n",
      "Requirement already satisfied: async-timeout<6.0,>=4.0 in /Users/youssef/.pyenv/versions/3.10.6/envs/lewagon/lib/python3.10/site-packages (from aiohttp->datasets) (5.0.1)\n",
      "Requirement already satisfied: attrs>=17.3.0 in /Users/youssef/.pyenv/versions/3.10.6/envs/lewagon/lib/python3.10/site-packages (from aiohttp->datasets) (25.1.0)\n",
      "Requirement already satisfied: frozenlist>=1.1.1 in /Users/youssef/.pyenv/versions/3.10.6/envs/lewagon/lib/python3.10/site-packages (from aiohttp->datasets) (1.5.0)\n",
      "Requirement already satisfied: multidict<7.0,>=4.5 in /Users/youssef/.pyenv/versions/3.10.6/envs/lewagon/lib/python3.10/site-packages (from aiohttp->datasets) (6.2.0)\n",
      "Requirement already satisfied: propcache>=0.2.0 in /Users/youssef/.pyenv/versions/3.10.6/envs/lewagon/lib/python3.10/site-packages (from aiohttp->datasets) (0.3.0)\n",
      "Requirement already satisfied: yarl<2.0,>=1.17.0 in /Users/youssef/.pyenv/versions/3.10.6/envs/lewagon/lib/python3.10/site-packages (from aiohttp->datasets) (1.18.3)\n",
      "Requirement already satisfied: typing-extensions>=3.7.4.3 in /Users/youssef/.pyenv/versions/3.10.6/envs/lewagon/lib/python3.10/site-packages (from huggingface-hub>=0.24.0->datasets) (4.12.2)\n",
      "Requirement already satisfied: pyparsing!=3.0.5,>=2.0.2 in /Users/youssef/.pyenv/versions/3.10.6/envs/lewagon/lib/python3.10/site-packages (from packaging->datasets) (3.0.9)\n",
      "Requirement already satisfied: charset-normalizer<4,>=2 in /Users/youssef/.pyenv/versions/3.10.6/envs/lewagon/lib/python3.10/site-packages (from requests>=2.32.2->datasets) (2.1.1)\n",
      "Requirement already satisfied: idna<4,>=2.5 in /Users/youssef/.pyenv/versions/3.10.6/envs/lewagon/lib/python3.10/site-packages (from requests>=2.32.2->datasets) (3.4)\n",
      "Requirement already satisfied: urllib3<3,>=1.21.1 in /Users/youssef/.pyenv/versions/3.10.6/envs/lewagon/lib/python3.10/site-packages (from requests>=2.32.2->datasets) (1.26.12)\n",
      "Requirement already satisfied: certifi>=2017.4.17 in /Users/youssef/.pyenv/versions/3.10.6/envs/lewagon/lib/python3.10/site-packages (from requests>=2.32.2->datasets) (2022.9.24)\n",
      "Requirement already satisfied: python-dateutil>=2.8.1 in /Users/youssef/.pyenv/versions/3.10.6/envs/lewagon/lib/python3.10/site-packages (from pandas->datasets) (2.8.2)\n",
      "Requirement already satisfied: pytz>=2020.1 in /Users/youssef/.pyenv/versions/3.10.6/envs/lewagon/lib/python3.10/site-packages (from pandas->datasets) (2022.1)\n",
      "Requirement already satisfied: six>=1.5 in /Users/youssef/.pyenv/versions/3.10.6/envs/lewagon/lib/python3.10/site-packages (from python-dateutil>=2.8.1->pandas->datasets) (1.16.0)\n",
      "\n",
      "\u001b[1m[\u001b[0m\u001b[34;49mnotice\u001b[0m\u001b[1;39;49m]\u001b[0m\u001b[39;49m A new release of pip is available: \u001b[0m\u001b[31;49m25.0\u001b[0m\u001b[39;49m -> \u001b[0m\u001b[32;49m25.0.1\u001b[0m\n",
      "\u001b[1m[\u001b[0m\u001b[34;49mnotice\u001b[0m\u001b[1;39;49m]\u001b[0m\u001b[39;49m To update, run: \u001b[0m\u001b[32;49mpython -m pip install --upgrade pip\u001b[0m\n"
     ]
    }
   ],
   "source": [
    "#!pip install --upgrade pyarrow datasets"
   ]
  },
  {
   "cell_type": "code",
   "execution_count": 2,
   "metadata": {},
   "outputs": [
    {
     "data": {
      "application/vnd.jupyter.widget-view+json": {
       "model_id": "38206de5fd0a45bca6212d229b1aacd9",
       "version_major": 2,
       "version_minor": 0
      },
      "text/plain": [
       "README.md:   0%|          | 0.00/4.68k [00:00<?, ?B/s]"
      ]
     },
     "metadata": {},
     "output_type": "display_data"
    },
    {
     "data": {
      "application/vnd.jupyter.widget-view+json": {
       "model_id": "b1407a0e1a63409996bb665e77aa9625",
       "version_major": 2,
       "version_minor": 0
      },
      "text/plain": [
       "dataset.csv:   0%|          | 0.00/20.1M [00:00<?, ?B/s]"
      ]
     },
     "metadata": {},
     "output_type": "display_data"
    },
    {
     "data": {
      "application/vnd.jupyter.widget-view+json": {
       "model_id": "1da53504fde74b32a58c9b78e4361157",
       "version_major": 2,
       "version_minor": 0
      },
      "text/plain": [
       "Generating train split:   0%|          | 0/114000 [00:00<?, ? examples/s]"
      ]
     },
     "metadata": {},
     "output_type": "display_data"
    }
   ],
   "source": [
    "from datasets import load_dataset\n",
    "\n",
    "ds = load_dataset(\"maharshipandya/spotify-tracks-dataset\")"
   ]
  },
  {
   "cell_type": "code",
   "execution_count": null,
   "metadata": {},
   "outputs": [
    {
     "name": "stdout",
     "output_type": "stream",
     "text": [
      "<class 'pandas.core.frame.DataFrame'>\n",
      "RangeIndex: 114000 entries, 0 to 113999\n",
      "Data columns (total 20 columns):\n",
      " #   Column            Non-Null Count   Dtype  \n",
      "---  ------            --------------   -----  \n",
      " 0   track_id          114000 non-null  object \n",
      " 1   artists           113999 non-null  object \n",
      " 2   album_name        113999 non-null  object \n",
      " 3   track_name        113999 non-null  object \n",
      " 4   popularity        114000 non-null  int64  \n",
      " 5   duration_ms       114000 non-null  int64  \n",
      " 6   explicit          114000 non-null  bool   \n",
      " 7   danceability      114000 non-null  float64\n",
      " 8   energy            114000 non-null  float64\n",
      " 9   key               114000 non-null  int64  \n",
      " 10  loudness          114000 non-null  float64\n",
      " 11  mode              114000 non-null  int64  \n",
      " 12  speechiness       114000 non-null  float64\n",
      " 13  acousticness      114000 non-null  float64\n",
      " 14  instrumentalness  114000 non-null  float64\n",
      " 15  liveness          114000 non-null  float64\n",
      " 16  valence           114000 non-null  float64\n",
      " 17  tempo             114000 non-null  float64\n",
      " 18  time_signature    114000 non-null  int64  \n",
      " 19  track_genre       114000 non-null  object \n",
      "dtypes: bool(1), float64(9), int64(5), object(5)\n",
      "memory usage: 16.6+ MB\n"
     ]
    }
   ],
   "source": [
    "# transpose into df and get some info\n",
    "df = ds['train'].to_pandas()\n",
    "df.drop('Unnamed: 0', axis=1, inplace=True)\n",
    "df.info()"
   ]
  },
  {
   "cell_type": "code",
   "execution_count": 6,
   "metadata": {},
   "outputs": [
    {
     "data": {
      "text/plain": [
       "acoustic             0.008772\n",
       "punk-rock            0.008772\n",
       "progressive-house    0.008772\n",
       "power-pop            0.008772\n",
       "pop                  0.008772\n",
       "                       ...   \n",
       "folk                 0.008772\n",
       "emo                  0.008772\n",
       "electronic           0.008772\n",
       "electro              0.008772\n",
       "world-music          0.008772\n",
       "Name: track_genre, Length: 114, dtype: float64"
      ]
     },
     "execution_count": 6,
     "metadata": {},
     "output_type": "execute_result"
    }
   ],
   "source": [
    "# split by track genre\n",
    "df.track_genre.value_counts(normalize=True)"
   ]
  },
  {
   "cell_type": "code",
   "execution_count": 7,
   "metadata": {},
   "outputs": [
    {
     "data": {
      "text/html": [
       "<div>\n",
       "<style scoped>\n",
       "    .dataframe tbody tr th:only-of-type {\n",
       "        vertical-align: middle;\n",
       "    }\n",
       "\n",
       "    .dataframe tbody tr th {\n",
       "        vertical-align: top;\n",
       "    }\n",
       "\n",
       "    .dataframe thead th {\n",
       "        text-align: right;\n",
       "    }\n",
       "</style>\n",
       "<table border=\"1\" class=\"dataframe\">\n",
       "  <thead>\n",
       "    <tr style=\"text-align: right;\">\n",
       "      <th></th>\n",
       "      <th>popularity</th>\n",
       "      <th>duration_ms</th>\n",
       "      <th>danceability</th>\n",
       "      <th>energy</th>\n",
       "      <th>key</th>\n",
       "      <th>loudness</th>\n",
       "      <th>mode</th>\n",
       "      <th>speechiness</th>\n",
       "      <th>acousticness</th>\n",
       "      <th>instrumentalness</th>\n",
       "      <th>liveness</th>\n",
       "      <th>valence</th>\n",
       "      <th>tempo</th>\n",
       "      <th>time_signature</th>\n",
       "    </tr>\n",
       "  </thead>\n",
       "  <tbody>\n",
       "    <tr>\n",
       "      <th>count</th>\n",
       "      <td>114000.000000</td>\n",
       "      <td>1.140000e+05</td>\n",
       "      <td>114000.000000</td>\n",
       "      <td>114000.000000</td>\n",
       "      <td>114000.000000</td>\n",
       "      <td>114000.000000</td>\n",
       "      <td>114000.000000</td>\n",
       "      <td>114000.000000</td>\n",
       "      <td>114000.000000</td>\n",
       "      <td>114000.000000</td>\n",
       "      <td>114000.000000</td>\n",
       "      <td>114000.000000</td>\n",
       "      <td>114000.000000</td>\n",
       "      <td>114000.000000</td>\n",
       "    </tr>\n",
       "    <tr>\n",
       "      <th>mean</th>\n",
       "      <td>33.238535</td>\n",
       "      <td>2.280292e+05</td>\n",
       "      <td>0.566800</td>\n",
       "      <td>0.641383</td>\n",
       "      <td>5.309140</td>\n",
       "      <td>-8.258960</td>\n",
       "      <td>0.637553</td>\n",
       "      <td>0.084652</td>\n",
       "      <td>0.314910</td>\n",
       "      <td>0.156050</td>\n",
       "      <td>0.213553</td>\n",
       "      <td>0.474068</td>\n",
       "      <td>122.147837</td>\n",
       "      <td>3.904035</td>\n",
       "    </tr>\n",
       "    <tr>\n",
       "      <th>std</th>\n",
       "      <td>22.305078</td>\n",
       "      <td>1.072977e+05</td>\n",
       "      <td>0.173542</td>\n",
       "      <td>0.251529</td>\n",
       "      <td>3.559987</td>\n",
       "      <td>5.029337</td>\n",
       "      <td>0.480709</td>\n",
       "      <td>0.105732</td>\n",
       "      <td>0.332523</td>\n",
       "      <td>0.309555</td>\n",
       "      <td>0.190378</td>\n",
       "      <td>0.259261</td>\n",
       "      <td>29.978197</td>\n",
       "      <td>0.432621</td>\n",
       "    </tr>\n",
       "    <tr>\n",
       "      <th>min</th>\n",
       "      <td>0.000000</td>\n",
       "      <td>0.000000e+00</td>\n",
       "      <td>0.000000</td>\n",
       "      <td>0.000000</td>\n",
       "      <td>0.000000</td>\n",
       "      <td>-49.531000</td>\n",
       "      <td>0.000000</td>\n",
       "      <td>0.000000</td>\n",
       "      <td>0.000000</td>\n",
       "      <td>0.000000</td>\n",
       "      <td>0.000000</td>\n",
       "      <td>0.000000</td>\n",
       "      <td>0.000000</td>\n",
       "      <td>0.000000</td>\n",
       "    </tr>\n",
       "    <tr>\n",
       "      <th>25%</th>\n",
       "      <td>17.000000</td>\n",
       "      <td>1.740660e+05</td>\n",
       "      <td>0.456000</td>\n",
       "      <td>0.472000</td>\n",
       "      <td>2.000000</td>\n",
       "      <td>-10.013000</td>\n",
       "      <td>0.000000</td>\n",
       "      <td>0.035900</td>\n",
       "      <td>0.016900</td>\n",
       "      <td>0.000000</td>\n",
       "      <td>0.098000</td>\n",
       "      <td>0.260000</td>\n",
       "      <td>99.218750</td>\n",
       "      <td>4.000000</td>\n",
       "    </tr>\n",
       "    <tr>\n",
       "      <th>50%</th>\n",
       "      <td>35.000000</td>\n",
       "      <td>2.129060e+05</td>\n",
       "      <td>0.580000</td>\n",
       "      <td>0.685000</td>\n",
       "      <td>5.000000</td>\n",
       "      <td>-7.004000</td>\n",
       "      <td>1.000000</td>\n",
       "      <td>0.048900</td>\n",
       "      <td>0.169000</td>\n",
       "      <td>0.000042</td>\n",
       "      <td>0.132000</td>\n",
       "      <td>0.464000</td>\n",
       "      <td>122.017000</td>\n",
       "      <td>4.000000</td>\n",
       "    </tr>\n",
       "    <tr>\n",
       "      <th>75%</th>\n",
       "      <td>50.000000</td>\n",
       "      <td>2.615060e+05</td>\n",
       "      <td>0.695000</td>\n",
       "      <td>0.854000</td>\n",
       "      <td>8.000000</td>\n",
       "      <td>-5.003000</td>\n",
       "      <td>1.000000</td>\n",
       "      <td>0.084500</td>\n",
       "      <td>0.598000</td>\n",
       "      <td>0.049000</td>\n",
       "      <td>0.273000</td>\n",
       "      <td>0.683000</td>\n",
       "      <td>140.071000</td>\n",
       "      <td>4.000000</td>\n",
       "    </tr>\n",
       "    <tr>\n",
       "      <th>max</th>\n",
       "      <td>100.000000</td>\n",
       "      <td>5.237295e+06</td>\n",
       "      <td>0.985000</td>\n",
       "      <td>1.000000</td>\n",
       "      <td>11.000000</td>\n",
       "      <td>4.532000</td>\n",
       "      <td>1.000000</td>\n",
       "      <td>0.965000</td>\n",
       "      <td>0.996000</td>\n",
       "      <td>1.000000</td>\n",
       "      <td>1.000000</td>\n",
       "      <td>0.995000</td>\n",
       "      <td>243.372000</td>\n",
       "      <td>5.000000</td>\n",
       "    </tr>\n",
       "  </tbody>\n",
       "</table>\n",
       "</div>"
      ],
      "text/plain": [
       "          popularity   duration_ms   danceability         energy  \\\n",
       "count  114000.000000  1.140000e+05  114000.000000  114000.000000   \n",
       "mean       33.238535  2.280292e+05       0.566800       0.641383   \n",
       "std        22.305078  1.072977e+05       0.173542       0.251529   \n",
       "min         0.000000  0.000000e+00       0.000000       0.000000   \n",
       "25%        17.000000  1.740660e+05       0.456000       0.472000   \n",
       "50%        35.000000  2.129060e+05       0.580000       0.685000   \n",
       "75%        50.000000  2.615060e+05       0.695000       0.854000   \n",
       "max       100.000000  5.237295e+06       0.985000       1.000000   \n",
       "\n",
       "                 key       loudness           mode    speechiness  \\\n",
       "count  114000.000000  114000.000000  114000.000000  114000.000000   \n",
       "mean        5.309140      -8.258960       0.637553       0.084652   \n",
       "std         3.559987       5.029337       0.480709       0.105732   \n",
       "min         0.000000     -49.531000       0.000000       0.000000   \n",
       "25%         2.000000     -10.013000       0.000000       0.035900   \n",
       "50%         5.000000      -7.004000       1.000000       0.048900   \n",
       "75%         8.000000      -5.003000       1.000000       0.084500   \n",
       "max        11.000000       4.532000       1.000000       0.965000   \n",
       "\n",
       "        acousticness  instrumentalness       liveness        valence  \\\n",
       "count  114000.000000     114000.000000  114000.000000  114000.000000   \n",
       "mean        0.314910          0.156050       0.213553       0.474068   \n",
       "std         0.332523          0.309555       0.190378       0.259261   \n",
       "min         0.000000          0.000000       0.000000       0.000000   \n",
       "25%         0.016900          0.000000       0.098000       0.260000   \n",
       "50%         0.169000          0.000042       0.132000       0.464000   \n",
       "75%         0.598000          0.049000       0.273000       0.683000   \n",
       "max         0.996000          1.000000       1.000000       0.995000   \n",
       "\n",
       "               tempo  time_signature  \n",
       "count  114000.000000   114000.000000  \n",
       "mean      122.147837        3.904035  \n",
       "std        29.978197        0.432621  \n",
       "min         0.000000        0.000000  \n",
       "25%        99.218750        4.000000  \n",
       "50%       122.017000        4.000000  \n",
       "75%       140.071000        4.000000  \n",
       "max       243.372000        5.000000  "
      ]
     },
     "execution_count": 7,
     "metadata": {},
     "output_type": "execute_result"
    }
   ],
   "source": [
    "df.describe()"
   ]
  },
  {
   "cell_type": "code",
   "execution_count": null,
   "metadata": {},
   "outputs": [],
   "source": [
    "# drop na\n",
    "df.dropna(inplace=True)"
   ]
  },
  {
   "cell_type": "code",
   "execution_count": 9,
   "metadata": {},
   "outputs": [],
   "source": [
    "# remove null tempos and time sigs\n",
    "df1 = df[((df.tempo != 0) & (df.time_signature != 0))]"
   ]
  },
  {
   "cell_type": "code",
   "execution_count": 10,
   "metadata": {},
   "outputs": [
    {
     "data": {
      "text/html": [
       "<div>\n",
       "<style scoped>\n",
       "    .dataframe tbody tr th:only-of-type {\n",
       "        vertical-align: middle;\n",
       "    }\n",
       "\n",
       "    .dataframe tbody tr th {\n",
       "        vertical-align: top;\n",
       "    }\n",
       "\n",
       "    .dataframe thead th {\n",
       "        text-align: right;\n",
       "    }\n",
       "</style>\n",
       "<table border=\"1\" class=\"dataframe\">\n",
       "  <thead>\n",
       "    <tr style=\"text-align: right;\">\n",
       "      <th></th>\n",
       "      <th>popularity</th>\n",
       "      <th>duration_ms</th>\n",
       "      <th>danceability</th>\n",
       "      <th>energy</th>\n",
       "      <th>key</th>\n",
       "      <th>loudness</th>\n",
       "      <th>mode</th>\n",
       "      <th>speechiness</th>\n",
       "      <th>acousticness</th>\n",
       "      <th>instrumentalness</th>\n",
       "      <th>liveness</th>\n",
       "      <th>valence</th>\n",
       "      <th>tempo</th>\n",
       "      <th>time_signature</th>\n",
       "    </tr>\n",
       "  </thead>\n",
       "  <tbody>\n",
       "    <tr>\n",
       "      <th>count</th>\n",
       "      <td>113836.000000</td>\n",
       "      <td>1.138360e+05</td>\n",
       "      <td>113836.000000</td>\n",
       "      <td>113836.000000</td>\n",
       "      <td>113836.000000</td>\n",
       "      <td>113836.000000</td>\n",
       "      <td>113836.000000</td>\n",
       "      <td>113836.000000</td>\n",
       "      <td>113836.000000</td>\n",
       "      <td>113836.000000</td>\n",
       "      <td>113836.000000</td>\n",
       "      <td>113836.000000</td>\n",
       "      <td>113836.000000</td>\n",
       "      <td>113836.000000</td>\n",
       "    </tr>\n",
       "    <tr>\n",
       "      <th>mean</th>\n",
       "      <td>33.233476</td>\n",
       "      <td>2.281096e+05</td>\n",
       "      <td>0.567590</td>\n",
       "      <td>0.642112</td>\n",
       "      <td>5.309199</td>\n",
       "      <td>-8.239513</td>\n",
       "      <td>0.637496</td>\n",
       "      <td>0.084770</td>\n",
       "      <td>0.314642</td>\n",
       "      <td>0.155362</td>\n",
       "      <td>0.213228</td>\n",
       "      <td>0.474725</td>\n",
       "      <td>122.316220</td>\n",
       "      <td>3.909624</td>\n",
       "    </tr>\n",
       "    <tr>\n",
       "      <th>std</th>\n",
       "      <td>22.316549</td>\n",
       "      <td>1.063084e+05</td>\n",
       "      <td>0.172379</td>\n",
       "      <td>0.250786</td>\n",
       "      <td>3.559429</td>\n",
       "      <td>4.992758</td>\n",
       "      <td>0.480725</td>\n",
       "      <td>0.105762</td>\n",
       "      <td>0.332332</td>\n",
       "      <td>0.308884</td>\n",
       "      <td>0.189932</td>\n",
       "      <td>0.258841</td>\n",
       "      <td>29.653809</td>\n",
       "      <td>0.406909</td>\n",
       "    </tr>\n",
       "    <tr>\n",
       "      <th>min</th>\n",
       "      <td>0.000000</td>\n",
       "      <td>1.580000e+04</td>\n",
       "      <td>0.051300</td>\n",
       "      <td>0.000020</td>\n",
       "      <td>0.000000</td>\n",
       "      <td>-46.591000</td>\n",
       "      <td>0.000000</td>\n",
       "      <td>0.022100</td>\n",
       "      <td>0.000000</td>\n",
       "      <td>0.000000</td>\n",
       "      <td>0.009250</td>\n",
       "      <td>0.000000</td>\n",
       "      <td>30.200000</td>\n",
       "      <td>1.000000</td>\n",
       "    </tr>\n",
       "    <tr>\n",
       "      <th>25%</th>\n",
       "      <td>17.000000</td>\n",
       "      <td>1.741980e+05</td>\n",
       "      <td>0.456000</td>\n",
       "      <td>0.473000</td>\n",
       "      <td>2.000000</td>\n",
       "      <td>-10.002000</td>\n",
       "      <td>0.000000</td>\n",
       "      <td>0.035900</td>\n",
       "      <td>0.016900</td>\n",
       "      <td>0.000000</td>\n",
       "      <td>0.098000</td>\n",
       "      <td>0.261000</td>\n",
       "      <td>99.430500</td>\n",
       "      <td>4.000000</td>\n",
       "    </tr>\n",
       "    <tr>\n",
       "      <th>50%</th>\n",
       "      <td>34.000000</td>\n",
       "      <td>2.130000e+05</td>\n",
       "      <td>0.580000</td>\n",
       "      <td>0.685000</td>\n",
       "      <td>5.000000</td>\n",
       "      <td>-6.998000</td>\n",
       "      <td>1.000000</td>\n",
       "      <td>0.048900</td>\n",
       "      <td>0.168000</td>\n",
       "      <td>0.000041</td>\n",
       "      <td>0.132000</td>\n",
       "      <td>0.464000</td>\n",
       "      <td>122.023000</td>\n",
       "      <td>4.000000</td>\n",
       "    </tr>\n",
       "    <tr>\n",
       "      <th>75%</th>\n",
       "      <td>50.000000</td>\n",
       "      <td>2.615870e+05</td>\n",
       "      <td>0.695000</td>\n",
       "      <td>0.854000</td>\n",
       "      <td>8.000000</td>\n",
       "      <td>-5.000000</td>\n",
       "      <td>1.000000</td>\n",
       "      <td>0.084600</td>\n",
       "      <td>0.597000</td>\n",
       "      <td>0.047700</td>\n",
       "      <td>0.273000</td>\n",
       "      <td>0.683000</td>\n",
       "      <td>140.078000</td>\n",
       "      <td>4.000000</td>\n",
       "    </tr>\n",
       "    <tr>\n",
       "      <th>max</th>\n",
       "      <td>100.000000</td>\n",
       "      <td>5.237295e+06</td>\n",
       "      <td>0.985000</td>\n",
       "      <td>1.000000</td>\n",
       "      <td>11.000000</td>\n",
       "      <td>4.532000</td>\n",
       "      <td>1.000000</td>\n",
       "      <td>0.965000</td>\n",
       "      <td>0.996000</td>\n",
       "      <td>1.000000</td>\n",
       "      <td>1.000000</td>\n",
       "      <td>0.995000</td>\n",
       "      <td>243.372000</td>\n",
       "      <td>5.000000</td>\n",
       "    </tr>\n",
       "  </tbody>\n",
       "</table>\n",
       "</div>"
      ],
      "text/plain": [
       "          popularity   duration_ms   danceability         energy  \\\n",
       "count  113836.000000  1.138360e+05  113836.000000  113836.000000   \n",
       "mean       33.233476  2.281096e+05       0.567590       0.642112   \n",
       "std        22.316549  1.063084e+05       0.172379       0.250786   \n",
       "min         0.000000  1.580000e+04       0.051300       0.000020   \n",
       "25%        17.000000  1.741980e+05       0.456000       0.473000   \n",
       "50%        34.000000  2.130000e+05       0.580000       0.685000   \n",
       "75%        50.000000  2.615870e+05       0.695000       0.854000   \n",
       "max       100.000000  5.237295e+06       0.985000       1.000000   \n",
       "\n",
       "                 key       loudness           mode    speechiness  \\\n",
       "count  113836.000000  113836.000000  113836.000000  113836.000000   \n",
       "mean        5.309199      -8.239513       0.637496       0.084770   \n",
       "std         3.559429       4.992758       0.480725       0.105762   \n",
       "min         0.000000     -46.591000       0.000000       0.022100   \n",
       "25%         2.000000     -10.002000       0.000000       0.035900   \n",
       "50%         5.000000      -6.998000       1.000000       0.048900   \n",
       "75%         8.000000      -5.000000       1.000000       0.084600   \n",
       "max        11.000000       4.532000       1.000000       0.965000   \n",
       "\n",
       "        acousticness  instrumentalness       liveness        valence  \\\n",
       "count  113836.000000     113836.000000  113836.000000  113836.000000   \n",
       "mean        0.314642          0.155362       0.213228       0.474725   \n",
       "std         0.332332          0.308884       0.189932       0.258841   \n",
       "min         0.000000          0.000000       0.009250       0.000000   \n",
       "25%         0.016900          0.000000       0.098000       0.261000   \n",
       "50%         0.168000          0.000041       0.132000       0.464000   \n",
       "75%         0.597000          0.047700       0.273000       0.683000   \n",
       "max         0.996000          1.000000       1.000000       0.995000   \n",
       "\n",
       "               tempo  time_signature  \n",
       "count  113836.000000   113836.000000  \n",
       "mean      122.316220        3.909624  \n",
       "std        29.653809        0.406909  \n",
       "min        30.200000        1.000000  \n",
       "25%        99.430500        4.000000  \n",
       "50%       122.023000        4.000000  \n",
       "75%       140.078000        4.000000  \n",
       "max       243.372000        5.000000  "
      ]
     },
     "execution_count": 10,
     "metadata": {},
     "output_type": "execute_result"
    }
   ],
   "source": [
    "df1.describe()"
   ]
  },
  {
   "cell_type": "code",
   "execution_count": 11,
   "metadata": {},
   "outputs": [
    {
     "data": {
      "text/plain": [
       "1    0.637496\n",
       "0    0.362504\n",
       "Name: mode, dtype: float64"
      ]
     },
     "execution_count": 11,
     "metadata": {},
     "output_type": "execute_result"
    }
   ],
   "source": [
    "df1['mode'].value_counts(normalize=True)"
   ]
  },
  {
   "cell_type": "code",
   "execution_count": 12,
   "metadata": {},
   "outputs": [
    {
     "data": {
      "text/plain": [
       "<AxesSubplot:xlabel='tempo', ylabel='Count'>"
      ]
     },
     "execution_count": 12,
     "metadata": {},
     "output_type": "execute_result"
    },
    {
     "data": {
      "image/png": "[encoded data removed]",
      "text/plain": [
       "<Figure size 640x480 with 1 Axes>"
      ]
     },
     "metadata": {},
     "output_type": "display_data"
    }
   ],
   "source": [
    "sns.histplot(df.tempo, kde=True)"
   ]
  },
  {
   "cell_type": "code",
   "execution_count": 13,
   "metadata": {},
   "outputs": [
    {
     "data": {
      "text/plain": [
       "<AxesSubplot:xlabel='tempo', ylabel='Count'>"
      ]
     },
     "execution_count": 13,
     "metadata": {},
     "output_type": "execute_result"
    },
    {
     "data": {
      "image/png": "[encoded data removed]",
      "text/plain": [
       "<Figure size 640x480 with 1 Axes>"
      ]
     },
     "metadata": {},
     "output_type": "display_data"
    }
   ],
   "source": [
    "sns.histplot(df1.tempo, kde=True)"
   ]
  },
  {
   "cell_type": "code",
   "execution_count": 14,
   "metadata": {},
   "outputs": [
    {
     "data": {
      "text/plain": [
       "<AxesSubplot:xlabel='popularity', ylabel='Count'>"
      ]
     },
     "execution_count": 14,
     "metadata": {},
     "output_type": "execute_result"
    },
    {
     "data": {
      "image/png": "[encoded data removed]",
      "text/plain": [
       "<Figure size 640x480 with 1 Axes>"
      ]
     },
     "metadata": {},
     "output_type": "display_data"
    }
   ],
   "source": [
    "sns.histplot(df1.popularity, kde=True)"
   ]
  },
  {
   "cell_type": "code",
   "execution_count": 15,
   "metadata": {},
   "outputs": [
    {
     "data": {
      "text/html": [
       "<div>\n",
       "<style scoped>\n",
       "    .dataframe tbody tr th:only-of-type {\n",
       "        vertical-align: middle;\n",
       "    }\n",
       "\n",
       "    .dataframe tbody tr th {\n",
       "        vertical-align: top;\n",
       "    }\n",
       "\n",
       "    .dataframe thead th {\n",
       "        text-align: right;\n",
       "    }\n",
       "</style>\n",
       "<table border=\"1\" class=\"dataframe\">\n",
       "  <thead>\n",
       "    <tr style=\"text-align: right;\">\n",
       "      <th></th>\n",
       "      <th>track_id</th>\n",
       "      <th>artists</th>\n",
       "      <th>album_name</th>\n",
       "      <th>track_name</th>\n",
       "      <th>popularity</th>\n",
       "      <th>duration_ms</th>\n",
       "      <th>explicit</th>\n",
       "      <th>danceability</th>\n",
       "      <th>energy</th>\n",
       "      <th>key</th>\n",
       "      <th>loudness</th>\n",
       "      <th>mode</th>\n",
       "      <th>speechiness</th>\n",
       "      <th>acousticness</th>\n",
       "      <th>instrumentalness</th>\n",
       "      <th>liveness</th>\n",
       "      <th>valence</th>\n",
       "      <th>tempo</th>\n",
       "      <th>time_signature</th>\n",
       "      <th>track_genre</th>\n",
       "    </tr>\n",
       "  </thead>\n",
       "  <tbody>\n",
       "    <tr>\n",
       "      <th>39106</th>\n",
       "      <td>0TNarhIeerCvP5d7W29wXU</td>\n",
       "      <td>Topic;A7S;Lil Baby</td>\n",
       "      <td>pov: it's 2020</td>\n",
       "      <td>Why Do You Lie To Me</td>\n",
       "      <td>0</td>\n",
       "      <td>171290</td>\n",
       "      <td>True</td>\n",
       "      <td>0.6500</td>\n",
       "      <td>0.7380</td>\n",
       "      <td>4</td>\n",
       "      <td>-6.460</td>\n",
       "      <td>0</td>\n",
       "      <td>0.1580</td>\n",
       "      <td>0.0539</td>\n",
       "      <td>0.000000</td>\n",
       "      <td>0.2060</td>\n",
       "      <td>0.3360</td>\n",
       "      <td>119.827</td>\n",
       "      <td>4</td>\n",
       "      <td>german</td>\n",
       "    </tr>\n",
       "    <tr>\n",
       "      <th>19734</th>\n",
       "      <td>5z7GGdAezDWdJxBlAM4Hkf</td>\n",
       "      <td>Steppenwolf</td>\n",
       "      <td>On air 70's Hits</td>\n",
       "      <td>Hey Lawdy Mama - Single Version</td>\n",
       "      <td>0</td>\n",
       "      <td>178760</td>\n",
       "      <td>False</td>\n",
       "      <td>0.5890</td>\n",
       "      <td>0.8310</td>\n",
       "      <td>4</td>\n",
       "      <td>-12.373</td>\n",
       "      <td>1</td>\n",
       "      <td>0.0615</td>\n",
       "      <td>0.0195</td>\n",
       "      <td>0.000024</td>\n",
       "      <td>0.0635</td>\n",
       "      <td>0.5110</td>\n",
       "      <td>98.813</td>\n",
       "      <td>4</td>\n",
       "      <td>country</td>\n",
       "    </tr>\n",
       "    <tr>\n",
       "      <th>16117</th>\n",
       "      <td>58ina5MM56CHWVlIbXiAZT</td>\n",
       "      <td>Antonio Vivaldi;Gidon Kremer;Leslie Pearson;Lo...</td>\n",
       "      <td>Klassische Weihnachtsmusik</td>\n",
       "      <td>Violin Concerto in F Minor, Op. 8, No. 4, RV 2...</td>\n",
       "      <td>0</td>\n",
       "      <td>89840</td>\n",
       "      <td>False</td>\n",
       "      <td>0.5130</td>\n",
       "      <td>0.2870</td>\n",
       "      <td>10</td>\n",
       "      <td>-19.716</td>\n",
       "      <td>1</td>\n",
       "      <td>0.0472</td>\n",
       "      <td>0.9760</td>\n",
       "      <td>0.002470</td>\n",
       "      <td>0.0991</td>\n",
       "      <td>0.2650</td>\n",
       "      <td>100.492</td>\n",
       "      <td>4</td>\n",
       "      <td>classical</td>\n",
       "    </tr>\n",
       "    <tr>\n",
       "      <th>67085</th>\n",
       "      <td>0w6KXQRbURk23AtKn3q5Wr</td>\n",
       "      <td>Daddy Yankee</td>\n",
       "      <td>Halloween con perreito</td>\n",
       "      <td>RUMBATÓN</td>\n",
       "      <td>0</td>\n",
       "      <td>248768</td>\n",
       "      <td>False</td>\n",
       "      <td>0.6850</td>\n",
       "      <td>0.9090</td>\n",
       "      <td>3</td>\n",
       "      <td>-4.034</td>\n",
       "      <td>0</td>\n",
       "      <td>0.0396</td>\n",
       "      <td>0.0471</td>\n",
       "      <td>0.000000</td>\n",
       "      <td>0.3500</td>\n",
       "      <td>0.9220</td>\n",
       "      <td>95.004</td>\n",
       "      <td>4</td>\n",
       "      <td>latin</td>\n",
       "    </tr>\n",
       "    <tr>\n",
       "      <th>30035</th>\n",
       "      <td>0LdrgIn0po8wRxpv2USlys</td>\n",
       "      <td>David Guetta;Bebe Rexha;J Balvin</td>\n",
       "      <td>Dance Dance Dance</td>\n",
       "      <td>Say My Name</td>\n",
       "      <td>0</td>\n",
       "      <td>198946</td>\n",
       "      <td>False</td>\n",
       "      <td>0.7030</td>\n",
       "      <td>0.6600</td>\n",
       "      <td>10</td>\n",
       "      <td>-5.119</td>\n",
       "      <td>0</td>\n",
       "      <td>0.1230</td>\n",
       "      <td>0.1370</td>\n",
       "      <td>0.000000</td>\n",
       "      <td>0.1920</td>\n",
       "      <td>0.7900</td>\n",
       "      <td>95.033</td>\n",
       "      <td>4</td>\n",
       "      <td>edm</td>\n",
       "    </tr>\n",
       "    <tr>\n",
       "      <th>23082</th>\n",
       "      <td>0rerkqLNTgHXpHP8NGEaeF</td>\n",
       "      <td>Robin Schulz;Tom Walker;James Carter</td>\n",
       "      <td>Sun Will Shine (James Carter Remix)</td>\n",
       "      <td>Sun Will Shine - James Carter Remix</td>\n",
       "      <td>0</td>\n",
       "      <td>188697</td>\n",
       "      <td>False</td>\n",
       "      <td>0.7150</td>\n",
       "      <td>0.7400</td>\n",
       "      <td>4</td>\n",
       "      <td>-7.009</td>\n",
       "      <td>0</td>\n",
       "      <td>0.0434</td>\n",
       "      <td>0.0118</td>\n",
       "      <td>0.000755</td>\n",
       "      <td>0.3130</td>\n",
       "      <td>0.4670</td>\n",
       "      <td>126.004</td>\n",
       "      <td>4</td>\n",
       "      <td>deep-house</td>\n",
       "    </tr>\n",
       "    <tr>\n",
       "      <th>91372</th>\n",
       "      <td>4QKt4JmQK1x791t5MSCnFP</td>\n",
       "      <td>Bryan Adams</td>\n",
       "      <td>Christmas Dinner 2022</td>\n",
       "      <td>Christmas Time</td>\n",
       "      <td>0</td>\n",
       "      <td>243057</td>\n",
       "      <td>False</td>\n",
       "      <td>0.5030</td>\n",
       "      <td>0.5820</td>\n",
       "      <td>0</td>\n",
       "      <td>-4.324</td>\n",
       "      <td>1</td>\n",
       "      <td>0.0253</td>\n",
       "      <td>0.4720</td>\n",
       "      <td>0.000000</td>\n",
       "      <td>0.1030</td>\n",
       "      <td>0.3260</td>\n",
       "      <td>77.321</td>\n",
       "      <td>4</td>\n",
       "      <td>rock</td>\n",
       "    </tr>\n",
       "    <tr>\n",
       "      <th>8056</th>\n",
       "      <td>4UGYAzxUtzLllltVU4gaS8</td>\n",
       "      <td>Ella Fitzgerald</td>\n",
       "      <td>Holidays Are Coming</td>\n",
       "      <td>Frosty The Snowman</td>\n",
       "      <td>0</td>\n",
       "      <td>131733</td>\n",
       "      <td>False</td>\n",
       "      <td>0.5790</td>\n",
       "      <td>0.5020</td>\n",
       "      <td>8</td>\n",
       "      <td>-7.570</td>\n",
       "      <td>1</td>\n",
       "      <td>0.0513</td>\n",
       "      <td>0.7330</td>\n",
       "      <td>0.000000</td>\n",
       "      <td>0.2810</td>\n",
       "      <td>0.8360</td>\n",
       "      <td>76.783</td>\n",
       "      <td>4</td>\n",
       "      <td>blues</td>\n",
       "    </tr>\n",
       "    <tr>\n",
       "      <th>39198</th>\n",
       "      <td>2XB7HlnIbMafSQuRRq7lm4</td>\n",
       "      <td>Johannes Brahms;Mischa Maisky;Pavel Gililov</td>\n",
       "      <td>Clásica para los niños de hoy</td>\n",
       "      <td>Wiegenlied, Op. 49, No. 4</td>\n",
       "      <td>0</td>\n",
       "      <td>146773</td>\n",
       "      <td>False</td>\n",
       "      <td>0.0827</td>\n",
       "      <td>0.0134</td>\n",
       "      <td>5</td>\n",
       "      <td>-31.089</td>\n",
       "      <td>1</td>\n",
       "      <td>0.0520</td>\n",
       "      <td>0.9920</td>\n",
       "      <td>0.961000</td>\n",
       "      <td>0.0660</td>\n",
       "      <td>0.0606</td>\n",
       "      <td>81.694</td>\n",
       "      <td>5</td>\n",
       "      <td>german</td>\n",
       "    </tr>\n",
       "    <tr>\n",
       "      <th>59267</th>\n",
       "      <td>4jukNZntVjeszWQcAtMsr4</td>\n",
       "      <td>Pouya Pour-Amin</td>\n",
       "      <td>Prison Episodes</td>\n",
       "      <td>For I Wasn't Steel</td>\n",
       "      <td>0</td>\n",
       "      <td>417375</td>\n",
       "      <td>False</td>\n",
       "      <td>0.1400</td>\n",
       "      <td>0.1120</td>\n",
       "      <td>7</td>\n",
       "      <td>-23.918</td>\n",
       "      <td>1</td>\n",
       "      <td>0.0448</td>\n",
       "      <td>0.9390</td>\n",
       "      <td>0.880000</td>\n",
       "      <td>0.0525</td>\n",
       "      <td>0.0752</td>\n",
       "      <td>140.392</td>\n",
       "      <td>5</td>\n",
       "      <td>iranian</td>\n",
       "    </tr>\n",
       "    <tr>\n",
       "      <th>87073</th>\n",
       "      <td>3jjT8uAXdwIgXCbRjfnsSE</td>\n",
       "      <td>Chuck Berry</td>\n",
       "      <td>Christmas Dinner 2022</td>\n",
       "      <td>Run Rudolph Run</td>\n",
       "      <td>0</td>\n",
       "      <td>162897</td>\n",
       "      <td>False</td>\n",
       "      <td>0.6470</td>\n",
       "      <td>0.8760</td>\n",
       "      <td>10</td>\n",
       "      <td>-5.662</td>\n",
       "      <td>1</td>\n",
       "      <td>0.1850</td>\n",
       "      <td>0.8810</td>\n",
       "      <td>0.000036</td>\n",
       "      <td>0.2600</td>\n",
       "      <td>0.9490</td>\n",
       "      <td>151.925</td>\n",
       "      <td>4</td>\n",
       "      <td>r-n-b</td>\n",
       "    </tr>\n",
       "    <tr>\n",
       "      <th>47065</th>\n",
       "      <td>5JVe7nJ0MqVBiKAkjE9UXW</td>\n",
       "      <td>Foreigner</td>\n",
       "      <td>80's</td>\n",
       "      <td>Waiting for a Girl Like You</td>\n",
       "      <td>0</td>\n",
       "      <td>292066</td>\n",
       "      <td>False</td>\n",
       "      <td>0.3220</td>\n",
       "      <td>0.4690</td>\n",
       "      <td>10</td>\n",
       "      <td>-9.286</td>\n",
       "      <td>0</td>\n",
       "      <td>0.0342</td>\n",
       "      <td>0.3080</td>\n",
       "      <td>0.000002</td>\n",
       "      <td>0.0402</td>\n",
       "      <td>0.4280</td>\n",
       "      <td>202.308</td>\n",
       "      <td>4</td>\n",
       "      <td>hard-rock</td>\n",
       "    </tr>\n",
       "    <tr>\n",
       "      <th>8281</th>\n",
       "      <td>2yEi49EFQdtO8EkPkJ0G5U</td>\n",
       "      <td>J.J. Cale</td>\n",
       "      <td>On air 70's Hits</td>\n",
       "      <td>Cocaine</td>\n",
       "      <td>0</td>\n",
       "      <td>172066</td>\n",
       "      <td>False</td>\n",
       "      <td>0.7970</td>\n",
       "      <td>0.4960</td>\n",
       "      <td>6</td>\n",
       "      <td>-10.054</td>\n",
       "      <td>1</td>\n",
       "      <td>0.0382</td>\n",
       "      <td>0.3960</td>\n",
       "      <td>0.111000</td>\n",
       "      <td>0.1490</td>\n",
       "      <td>0.5870</td>\n",
       "      <td>103.703</td>\n",
       "      <td>4</td>\n",
       "      <td>blues</td>\n",
       "    </tr>\n",
       "    <tr>\n",
       "      <th>104038</th>\n",
       "      <td>28kat5VccKACzCXiQe25FK</td>\n",
       "      <td>Alejandro Sanz;Camila Cabello</td>\n",
       "      <td>Dulce Balada</td>\n",
       "      <td>Mi Persona Favorita</td>\n",
       "      <td>0</td>\n",
       "      <td>239972</td>\n",
       "      <td>False</td>\n",
       "      <td>0.5810</td>\n",
       "      <td>0.6590</td>\n",
       "      <td>8</td>\n",
       "      <td>-7.511</td>\n",
       "      <td>1</td>\n",
       "      <td>0.1160</td>\n",
       "      <td>0.5380</td>\n",
       "      <td>0.000000</td>\n",
       "      <td>0.0656</td>\n",
       "      <td>0.5770</td>\n",
       "      <td>155.945</td>\n",
       "      <td>4</td>\n",
       "      <td>spanish</td>\n",
       "    </tr>\n",
       "    <tr>\n",
       "      <th>56645</th>\n",
       "      <td>382oL7ul0X7UKEsyRXpvAB</td>\n",
       "      <td>The Knocks;Rivers Cuomo;Royal &amp; the Serpent</td>\n",
       "      <td>20's Rock</td>\n",
       "      <td>Sound the Alarm</td>\n",
       "      <td>0</td>\n",
       "      <td>171587</td>\n",
       "      <td>False</td>\n",
       "      <td>0.6880</td>\n",
       "      <td>0.7880</td>\n",
       "      <td>5</td>\n",
       "      <td>-3.064</td>\n",
       "      <td>0</td>\n",
       "      <td>0.0436</td>\n",
       "      <td>0.0164</td>\n",
       "      <td>0.000306</td>\n",
       "      <td>0.5410</td>\n",
       "      <td>0.7740</td>\n",
       "      <td>101.006</td>\n",
       "      <td>4</td>\n",
       "      <td>indie-pop</td>\n",
       "    </tr>\n",
       "  </tbody>\n",
       "</table>\n",
       "</div>"
      ],
      "text/plain": [
       "                      track_id  \\\n",
       "39106   0TNarhIeerCvP5d7W29wXU   \n",
       "19734   5z7GGdAezDWdJxBlAM4Hkf   \n",
       "16117   58ina5MM56CHWVlIbXiAZT   \n",
       "67085   0w6KXQRbURk23AtKn3q5Wr   \n",
       "30035   0LdrgIn0po8wRxpv2USlys   \n",
       "23082   0rerkqLNTgHXpHP8NGEaeF   \n",
       "91372   4QKt4JmQK1x791t5MSCnFP   \n",
       "8056    4UGYAzxUtzLllltVU4gaS8   \n",
       "39198   2XB7HlnIbMafSQuRRq7lm4   \n",
       "59267   4jukNZntVjeszWQcAtMsr4   \n",
       "87073   3jjT8uAXdwIgXCbRjfnsSE   \n",
       "47065   5JVe7nJ0MqVBiKAkjE9UXW   \n",
       "8281    2yEi49EFQdtO8EkPkJ0G5U   \n",
       "104038  28kat5VccKACzCXiQe25FK   \n",
       "56645   382oL7ul0X7UKEsyRXpvAB   \n",
       "\n",
       "                                                  artists  \\\n",
       "39106                                  Topic;A7S;Lil Baby   \n",
       "19734                                         Steppenwolf   \n",
       "16117   Antonio Vivaldi;Gidon Kremer;Leslie Pearson;Lo...   \n",
       "67085                                        Daddy Yankee   \n",
       "30035                    David Guetta;Bebe Rexha;J Balvin   \n",
       "23082                Robin Schulz;Tom Walker;James Carter   \n",
       "91372                                         Bryan Adams   \n",
       "8056                                      Ella Fitzgerald   \n",
       "39198         Johannes Brahms;Mischa Maisky;Pavel Gililov   \n",
       "59267                                     Pouya Pour-Amin   \n",
       "87073                                         Chuck Berry   \n",
       "47065                                           Foreigner   \n",
       "8281                                            J.J. Cale   \n",
       "104038                      Alejandro Sanz;Camila Cabello   \n",
       "56645         The Knocks;Rivers Cuomo;Royal & the Serpent   \n",
       "\n",
       "                                 album_name  \\\n",
       "39106                        pov: it's 2020   \n",
       "19734                      On air 70's Hits   \n",
       "16117            Klassische Weihnachtsmusik   \n",
       "67085                Halloween con perreito   \n",
       "30035                     Dance Dance Dance   \n",
       "23082   Sun Will Shine (James Carter Remix)   \n",
       "91372                 Christmas Dinner 2022   \n",
       "8056                    Holidays Are Coming   \n",
       "39198         Clásica para los niños de hoy   \n",
       "59267                       Prison Episodes   \n",
       "87073                 Christmas Dinner 2022   \n",
       "47065                                  80's   \n",
       "8281                       On air 70's Hits   \n",
       "104038                         Dulce Balada   \n",
       "56645                             20's Rock   \n",
       "\n",
       "                                               track_name  popularity  \\\n",
       "39106                                Why Do You Lie To Me           0   \n",
       "19734                     Hey Lawdy Mama - Single Version           0   \n",
       "16117   Violin Concerto in F Minor, Op. 8, No. 4, RV 2...           0   \n",
       "67085                                            RUMBATÓN           0   \n",
       "30035                                         Say My Name           0   \n",
       "23082                 Sun Will Shine - James Carter Remix           0   \n",
       "91372                                      Christmas Time           0   \n",
       "8056                                   Frosty The Snowman           0   \n",
       "39198                           Wiegenlied, Op. 49, No. 4           0   \n",
       "59267                                  For I Wasn't Steel           0   \n",
       "87073                                     Run Rudolph Run           0   \n",
       "47065                         Waiting for a Girl Like You           0   \n",
       "8281                                              Cocaine           0   \n",
       "104038                                Mi Persona Favorita           0   \n",
       "56645                                     Sound the Alarm           0   \n",
       "\n",
       "        duration_ms  explicit  danceability  energy  key  loudness  mode  \\\n",
       "39106        171290      True        0.6500  0.7380    4    -6.460     0   \n",
       "19734        178760     False        0.5890  0.8310    4   -12.373     1   \n",
       "16117         89840     False        0.5130  0.2870   10   -19.716     1   \n",
       "67085        248768     False        0.6850  0.9090    3    -4.034     0   \n",
       "30035        198946     False        0.7030  0.6600   10    -5.119     0   \n",
       "23082        188697     False        0.7150  0.7400    4    -7.009     0   \n",
       "91372        243057     False        0.5030  0.5820    0    -4.324     1   \n",
       "8056         131733     False        0.5790  0.5020    8    -7.570     1   \n",
       "39198        146773     False        0.0827  0.0134    5   -31.089     1   \n",
       "59267        417375     False        0.1400  0.1120    7   -23.918     1   \n",
       "87073        162897     False        0.6470  0.8760   10    -5.662     1   \n",
       "47065        292066     False        0.3220  0.4690   10    -9.286     0   \n",
       "8281         172066     False        0.7970  0.4960    6   -10.054     1   \n",
       "104038       239972     False        0.5810  0.6590    8    -7.511     1   \n",
       "56645        171587     False        0.6880  0.7880    5    -3.064     0   \n",
       "\n",
       "        speechiness  acousticness  instrumentalness  liveness  valence  \\\n",
       "39106        0.1580        0.0539          0.000000    0.2060   0.3360   \n",
       "19734        0.0615        0.0195          0.000024    0.0635   0.5110   \n",
       "16117        0.0472        0.9760          0.002470    0.0991   0.2650   \n",
       "67085        0.0396        0.0471          0.000000    0.3500   0.9220   \n",
       "30035        0.1230        0.1370          0.000000    0.1920   0.7900   \n",
       "23082        0.0434        0.0118          0.000755    0.3130   0.4670   \n",
       "91372        0.0253        0.4720          0.000000    0.1030   0.3260   \n",
       "8056         0.0513        0.7330          0.000000    0.2810   0.8360   \n",
       "39198        0.0520        0.9920          0.961000    0.0660   0.0606   \n",
       "59267        0.0448        0.9390          0.880000    0.0525   0.0752   \n",
       "87073        0.1850        0.8810          0.000036    0.2600   0.9490   \n",
       "47065        0.0342        0.3080          0.000002    0.0402   0.4280   \n",
       "8281         0.0382        0.3960          0.111000    0.1490   0.5870   \n",
       "104038       0.1160        0.5380          0.000000    0.0656   0.5770   \n",
       "56645        0.0436        0.0164          0.000306    0.5410   0.7740   \n",
       "\n",
       "          tempo  time_signature track_genre  \n",
       "39106   119.827               4      german  \n",
       "19734    98.813               4     country  \n",
       "16117   100.492               4   classical  \n",
       "67085    95.004               4       latin  \n",
       "30035    95.033               4         edm  \n",
       "23082   126.004               4  deep-house  \n",
       "91372    77.321               4        rock  \n",
       "8056     76.783               4       blues  \n",
       "39198    81.694               5      german  \n",
       "59267   140.392               5     iranian  \n",
       "87073   151.925               4       r-n-b  \n",
       "47065   202.308               4   hard-rock  \n",
       "8281    103.703               4       blues  \n",
       "104038  155.945               4     spanish  \n",
       "56645   101.006               4   indie-pop  "
      ]
     },
     "execution_count": 15,
     "metadata": {},
     "output_type": "execute_result"
    }
   ],
   "source": [
    "df1[df1.popularity==0].sample(15)"
   ]
  },
  {
   "cell_type": "code",
   "execution_count": 16,
   "metadata": {},
   "outputs": [
    {
     "name": "stdout",
     "output_type": "stream",
     "text": [
      "<class 'pandas.core.frame.DataFrame'>\n",
      "Int64Index: 97821 entries, 0 to 113999\n",
      "Data columns (total 20 columns):\n",
      " #   Column            Non-Null Count  Dtype  \n",
      "---  ------            --------------  -----  \n",
      " 0   track_id          97821 non-null  object \n",
      " 1   artists           97821 non-null  object \n",
      " 2   album_name        97821 non-null  object \n",
      " 3   track_name        97821 non-null  object \n",
      " 4   popularity        97821 non-null  int64  \n",
      " 5   duration_ms       97821 non-null  int64  \n",
      " 6   explicit          97821 non-null  bool   \n",
      " 7   danceability      97821 non-null  float64\n",
      " 8   energy            97821 non-null  float64\n",
      " 9   key               97821 non-null  int64  \n",
      " 10  loudness          97821 non-null  float64\n",
      " 11  mode              97821 non-null  int64  \n",
      " 12  speechiness       97821 non-null  float64\n",
      " 13  acousticness      97821 non-null  float64\n",
      " 14  instrumentalness  97821 non-null  float64\n",
      " 15  liveness          97821 non-null  float64\n",
      " 16  valence           97821 non-null  float64\n",
      " 17  tempo             97821 non-null  float64\n",
      " 18  time_signature    97821 non-null  int64  \n",
      " 19  track_genre       97821 non-null  object \n",
      "dtypes: bool(1), float64(9), int64(5), object(5)\n",
      "memory usage: 15.0+ MB\n"
     ]
    }
   ],
   "source": [
    "df2 = df1[df1.popularity!=0]\n",
    "df2.info()"
   ]
  },
  {
   "cell_type": "code",
   "execution_count": 17,
   "metadata": {},
   "outputs": [
    {
     "data": {
      "text/html": [
       "<div>\n",
       "<style scoped>\n",
       "    .dataframe tbody tr th:only-of-type {\n",
       "        vertical-align: middle;\n",
       "    }\n",
       "\n",
       "    .dataframe tbody tr th {\n",
       "        vertical-align: top;\n",
       "    }\n",
       "\n",
       "    .dataframe thead th {\n",
       "        text-align: right;\n",
       "    }\n",
       "</style>\n",
       "<table border=\"1\" class=\"dataframe\">\n",
       "  <thead>\n",
       "    <tr style=\"text-align: right;\">\n",
       "      <th></th>\n",
       "      <th>popularity</th>\n",
       "      <th>duration_ms</th>\n",
       "      <th>danceability</th>\n",
       "      <th>energy</th>\n",
       "      <th>key</th>\n",
       "      <th>loudness</th>\n",
       "      <th>mode</th>\n",
       "      <th>speechiness</th>\n",
       "      <th>acousticness</th>\n",
       "      <th>instrumentalness</th>\n",
       "      <th>liveness</th>\n",
       "      <th>valence</th>\n",
       "      <th>tempo</th>\n",
       "      <th>time_signature</th>\n",
       "    </tr>\n",
       "  </thead>\n",
       "  <tbody>\n",
       "    <tr>\n",
       "      <th>count</th>\n",
       "      <td>97821.000000</td>\n",
       "      <td>9.782100e+04</td>\n",
       "      <td>97821.000000</td>\n",
       "      <td>97821.000000</td>\n",
       "      <td>97821.000000</td>\n",
       "      <td>97821.000000</td>\n",
       "      <td>97821.000000</td>\n",
       "      <td>97821.000000</td>\n",
       "      <td>97821.000000</td>\n",
       "      <td>97821.000000</td>\n",
       "      <td>97821.000000</td>\n",
       "      <td>97821.000000</td>\n",
       "      <td>97821.000000</td>\n",
       "      <td>97821.000000</td>\n",
       "    </tr>\n",
       "    <tr>\n",
       "      <th>mean</th>\n",
       "      <td>38.674375</td>\n",
       "      <td>2.304803e+05</td>\n",
       "      <td>0.566562</td>\n",
       "      <td>0.646554</td>\n",
       "      <td>5.305660</td>\n",
       "      <td>-8.243929</td>\n",
       "      <td>0.634424</td>\n",
       "      <td>0.086542</td>\n",
       "      <td>0.310430</td>\n",
       "      <td>0.164002</td>\n",
       "      <td>0.217556</td>\n",
       "      <td>0.469450</td>\n",
       "      <td>122.874967</td>\n",
       "      <td>3.912442</td>\n",
       "    </tr>\n",
       "    <tr>\n",
       "      <th>std</th>\n",
       "      <td>19.213006</td>\n",
       "      <td>1.095880e+05</td>\n",
       "      <td>0.171381</td>\n",
       "      <td>0.249533</td>\n",
       "      <td>3.552816</td>\n",
       "      <td>4.945889</td>\n",
       "      <td>0.481594</td>\n",
       "      <td>0.110241</td>\n",
       "      <td>0.329577</td>\n",
       "      <td>0.315355</td>\n",
       "      <td>0.195331</td>\n",
       "      <td>0.258156</td>\n",
       "      <td>29.591444</td>\n",
       "      <td>0.403738</td>\n",
       "    </tr>\n",
       "    <tr>\n",
       "      <th>min</th>\n",
       "      <td>1.000000</td>\n",
       "      <td>2.426600e+04</td>\n",
       "      <td>0.051300</td>\n",
       "      <td>0.000020</td>\n",
       "      <td>0.000000</td>\n",
       "      <td>-46.591000</td>\n",
       "      <td>0.000000</td>\n",
       "      <td>0.022100</td>\n",
       "      <td>0.000000</td>\n",
       "      <td>0.000000</td>\n",
       "      <td>0.009250</td>\n",
       "      <td>0.000000</td>\n",
       "      <td>30.322000</td>\n",
       "      <td>1.000000</td>\n",
       "    </tr>\n",
       "    <tr>\n",
       "      <th>25%</th>\n",
       "      <td>23.000000</td>\n",
       "      <td>1.756130e+05</td>\n",
       "      <td>0.457000</td>\n",
       "      <td>0.477000</td>\n",
       "      <td>2.000000</td>\n",
       "      <td>-10.044000</td>\n",
       "      <td>0.000000</td>\n",
       "      <td>0.035900</td>\n",
       "      <td>0.014600</td>\n",
       "      <td>0.000000</td>\n",
       "      <td>0.098500</td>\n",
       "      <td>0.256000</td>\n",
       "      <td>99.977000</td>\n",
       "      <td>4.000000</td>\n",
       "    </tr>\n",
       "    <tr>\n",
       "      <th>50%</th>\n",
       "      <td>39.000000</td>\n",
       "      <td>2.155040e+05</td>\n",
       "      <td>0.578000</td>\n",
       "      <td>0.688000</td>\n",
       "      <td>5.000000</td>\n",
       "      <td>-7.064000</td>\n",
       "      <td>1.000000</td>\n",
       "      <td>0.049100</td>\n",
       "      <td>0.167000</td>\n",
       "      <td>0.000059</td>\n",
       "      <td>0.133000</td>\n",
       "      <td>0.456000</td>\n",
       "      <td>122.866000</td>\n",
       "      <td>4.000000</td>\n",
       "    </tr>\n",
       "    <tr>\n",
       "      <th>75%</th>\n",
       "      <td>53.000000</td>\n",
       "      <td>2.654260e+05</td>\n",
       "      <td>0.693000</td>\n",
       "      <td>0.858000</td>\n",
       "      <td>8.000000</td>\n",
       "      <td>-5.024000</td>\n",
       "      <td>1.000000</td>\n",
       "      <td>0.085700</td>\n",
       "      <td>0.588000</td>\n",
       "      <td>0.070300</td>\n",
       "      <td>0.280000</td>\n",
       "      <td>0.676000</td>\n",
       "      <td>141.167000</td>\n",
       "      <td>4.000000</td>\n",
       "    </tr>\n",
       "    <tr>\n",
       "      <th>max</th>\n",
       "      <td>100.000000</td>\n",
       "      <td>5.237295e+06</td>\n",
       "      <td>0.985000</td>\n",
       "      <td>1.000000</td>\n",
       "      <td>11.000000</td>\n",
       "      <td>4.532000</td>\n",
       "      <td>1.000000</td>\n",
       "      <td>0.965000</td>\n",
       "      <td>0.996000</td>\n",
       "      <td>1.000000</td>\n",
       "      <td>1.000000</td>\n",
       "      <td>0.995000</td>\n",
       "      <td>243.372000</td>\n",
       "      <td>5.000000</td>\n",
       "    </tr>\n",
       "  </tbody>\n",
       "</table>\n",
       "</div>"
      ],
      "text/plain": [
       "         popularity   duration_ms  danceability        energy           key  \\\n",
       "count  97821.000000  9.782100e+04  97821.000000  97821.000000  97821.000000   \n",
       "mean      38.674375  2.304803e+05      0.566562      0.646554      5.305660   \n",
       "std       19.213006  1.095880e+05      0.171381      0.249533      3.552816   \n",
       "min        1.000000  2.426600e+04      0.051300      0.000020      0.000000   \n",
       "25%       23.000000  1.756130e+05      0.457000      0.477000      2.000000   \n",
       "50%       39.000000  2.155040e+05      0.578000      0.688000      5.000000   \n",
       "75%       53.000000  2.654260e+05      0.693000      0.858000      8.000000   \n",
       "max      100.000000  5.237295e+06      0.985000      1.000000     11.000000   \n",
       "\n",
       "           loudness          mode   speechiness  acousticness  \\\n",
       "count  97821.000000  97821.000000  97821.000000  97821.000000   \n",
       "mean      -8.243929      0.634424      0.086542      0.310430   \n",
       "std        4.945889      0.481594      0.110241      0.329577   \n",
       "min      -46.591000      0.000000      0.022100      0.000000   \n",
       "25%      -10.044000      0.000000      0.035900      0.014600   \n",
       "50%       -7.064000      1.000000      0.049100      0.167000   \n",
       "75%       -5.024000      1.000000      0.085700      0.588000   \n",
       "max        4.532000      1.000000      0.965000      0.996000   \n",
       "\n",
       "       instrumentalness      liveness       valence         tempo  \\\n",
       "count      97821.000000  97821.000000  97821.000000  97821.000000   \n",
       "mean           0.164002      0.217556      0.469450    122.874967   \n",
       "std            0.315355      0.195331      0.258156     29.591444   \n",
       "min            0.000000      0.009250      0.000000     30.322000   \n",
       "25%            0.000000      0.098500      0.256000     99.977000   \n",
       "50%            0.000059      0.133000      0.456000    122.866000   \n",
       "75%            0.070300      0.280000      0.676000    141.167000   \n",
       "max            1.000000      1.000000      0.995000    243.372000   \n",
       "\n",
       "       time_signature  \n",
       "count    97821.000000  \n",
       "mean         3.912442  \n",
       "std          0.403738  \n",
       "min          1.000000  \n",
       "25%          4.000000  \n",
       "50%          4.000000  \n",
       "75%          4.000000  \n",
       "max          5.000000  "
      ]
     },
     "execution_count": 17,
     "metadata": {},
     "output_type": "execute_result"
    }
   ],
   "source": [
    "df2.describe()"
   ]
  },
  {
   "cell_type": "code",
   "execution_count": 18,
   "metadata": {},
   "outputs": [
    {
     "data": {
      "text/plain": [
       "4    0.898437\n",
       "3    0.077284\n",
       "5    0.015641\n",
       "1    0.008638\n",
       "Name: time_signature, dtype: float64"
      ]
     },
     "execution_count": 18,
     "metadata": {},
     "output_type": "execute_result"
    }
   ],
   "source": [
    "df2.time_signature.value_counts(normalize=True)"
   ]
  },
  {
   "cell_type": "code",
   "execution_count": 20,
   "metadata": {},
   "outputs": [
    {
     "data": {
      "text/plain": [
       "<AxesSubplot:xlabel='valence', ylabel='Count'>"
      ]
     },
     "execution_count": 20,
     "metadata": {},
     "output_type": "execute_result"
    },
    {
     "data": {
      "image/png": "[encoded data removed]",
      "text/plain": [
       "<Figure size 640x480 with 1 Axes>"
      ]
     },
     "metadata": {},
     "output_type": "display_data"
    }
   ],
   "source": [
    "sns.histplot(df2.valence, kde=True)"
   ]
  },
  {
   "cell_type": "code",
   "execution_count": 21,
   "metadata": {},
   "outputs": [
    {
     "data": {
      "text/plain": [
       "<AxesSubplot:xlabel='loudness', ylabel='danceability'>"
      ]
     },
     "execution_count": 21,
     "metadata": {},
     "output_type": "execute_result"
    },
    {
     "data": {
      "image/png": "[encoded data removed]",
      "text/plain": [
       "<Figure size 640x480 with 1 Axes>"
      ]
     },
     "metadata": {},
     "output_type": "display_data"
    }
   ],
   "source": [
    "sns.scatterplot(data=df2, x='loudness', y='danceability')"
   ]
  },
  {
   "cell_type": "code",
   "execution_count": 22,
   "metadata": {},
   "outputs": [
    {
     "data": {
      "text/plain": [
       "Index(['track_id', 'artists', 'album_name', 'track_name', 'popularity',\n",
       "       'duration_ms', 'explicit', 'danceability', 'energy', 'key', 'loudness',\n",
       "       'mode', 'speechiness', 'acousticness', 'instrumentalness', 'liveness',\n",
       "       'valence', 'tempo', 'time_signature', 'track_genre'],\n",
       "      dtype='object')"
      ]
     },
     "execution_count": 22,
     "metadata": {},
     "output_type": "execute_result"
    }
   ],
   "source": [
    "df2.columns"
   ]
  },
  {
   "cell_type": "markdown",
   "metadata": {},
   "source": [
    "# Preproc"
   ]
  },
  {
   "cell_type": "code",
   "execution_count": 23,
   "metadata": {},
   "outputs": [],
   "source": [
    "from sklearn.preprocessing import RobustScaler, OneHotEncoder\n",
    "from sklearn.pipeline import make_pipeline, Pipeline\n",
    "from sklearn.compose import ColumnTransformer, make_column_transformer"
   ]
  },
  {
   "cell_type": "code",
   "execution_count": 24,
   "metadata": {},
   "outputs": [],
   "source": [
    "keep_columns = ['duration_ms', 'danceability', 'energy', 'key', 'loudness',\n",
    "       'mode', 'speechiness', 'acousticness', 'instrumentalness', 'liveness',\n",
    "       'valence', 'tempo', 'time_signature']\n",
    "\n",
    "cat_col = ['key', 'mode', 'time_signature']\n",
    "\n",
    "num_col = ['duration_ms', 'danceability', 'energy','loudness',\n",
    "       'speechiness', 'acousticness', 'instrumentalness', 'liveness',\n",
    "       'valence', 'tempo']"
   ]
  },
  {
   "cell_type": "code",
   "execution_count": 25,
   "metadata": {},
   "outputs": [
    {
     "name": "stdout",
     "output_type": "stream",
     "text": [
      "7     0.117592\n",
      "0     0.112215\n",
      "2     0.104732\n",
      "9     0.099580\n",
      "1     0.094796\n",
      "11    0.081864\n",
      "4     0.081434\n",
      "5     0.081026\n",
      "6     0.069453\n",
      "10    0.064158\n",
      "8     0.062584\n",
      "3     0.030566\n",
      "Name: key, dtype: float64\n",
      "---------------\n",
      "1    0.634424\n",
      "0    0.365576\n",
      "Name: mode, dtype: float64\n",
      "---------------\n",
      "4    0.898437\n",
      "3    0.077284\n",
      "5    0.015641\n",
      "1    0.008638\n",
      "Name: time_signature, dtype: float64\n",
      "---------------\n"
     ]
    }
   ],
   "source": [
    "for col in cat_col:\n",
    "    print(df2[col].value_counts(normalize=True))\n",
    "    print('---------------')"
   ]
  },
  {
   "cell_type": "code",
   "execution_count": 26,
   "metadata": {},
   "outputs": [
    {
     "data": {
      "text/plain": [
       "<AxesSubplot:>"
      ]
     },
     "execution_count": 26,
     "metadata": {},
     "output_type": "execute_result"
    },
    {
     "data": {
      "image/png": "[encoded data removed]",
      "text/plain": [
       "<Figure size 640x480 with 1 Axes>"
      ]
     },
     "metadata": {},
     "output_type": "display_data"
    }
   ],
   "source": [
    "df2[['danceability', 'energy',\n",
    "       'speechiness', 'acousticness', 'instrumentalness', 'liveness',\n",
    "       'valence']].boxplot()"
   ]
  },
  {
   "cell_type": "markdown",
   "metadata": {},
   "source": [
    "## Features preprocessing"
   ]
  },
  {
   "cell_type": "code",
   "execution_count": 27,
   "metadata": {},
   "outputs": [],
   "source": [
    "import string\n",
    "def basic_cleaning(sentence):\n",
    "    # TODO: Apply all cleaning methods used above\n",
    "    # 1. Lowercasing\n",
    "    sentence = sentence.lower()\n",
    "    # 2. Removing whitespaces\n",
    "    sentence = sentence.strip()\n",
    "\n",
    "    return sentence"
   ]
  },
  {
   "cell_type": "code",
   "execution_count": 28,
   "metadata": {},
   "outputs": [],
   "source": [
    "df2_copy = df2.copy()"
   ]
  },
  {
   "cell_type": "code",
   "execution_count": 29,
   "metadata": {},
   "outputs": [],
   "source": [
    "df2_copy['track_name'] = df2_copy['track_name'].map(lambda x: basic_cleaning(x))\n",
    "df2_copy['artists'] = df2_copy['artists'].map(lambda x: basic_cleaning(x))\n"
   ]
  },
  {
   "cell_type": "code",
   "execution_count": 30,
   "metadata": {},
   "outputs": [],
   "source": [
    "# Groupby artist name and track name, keeping only the most popular version of the song\n",
    "df2_copy = df2_copy.groupby(['track_name', 'artists'], as_index=False).max()"
   ]
  },
  {
   "cell_type": "code",
   "execution_count": 31,
   "metadata": {},
   "outputs": [],
   "source": [
    "X = df2_copy[keep_columns]"
   ]
  },
  {
   "cell_type": "code",
   "execution_count": 32,
   "metadata": {},
   "outputs": [],
   "source": [
    "num_preproc = Pipeline([\n",
    "    (\"scaler\", RobustScaler())\n",
    "])\n",
    "cat_preproc = Pipeline([\n",
    "    (\"ohe\", OneHotEncoder(handle_unknown=\"ignore\", sparse_output=False))\n",
    "])"
   ]
  },
  {
   "cell_type": "code",
   "execution_count": 33,
   "metadata": {},
   "outputs": [],
   "source": [
    "preproc = make_column_transformer(\n",
    "    (num_preproc, num_col),\n",
    "    (cat_preproc, cat_col),\n",
    "    remainder='drop'\n",
    ")\n",
    "preproc_pipe = make_pipeline(preproc)"
   ]
  },
  {
   "cell_type": "code",
   "execution_count": 34,
   "metadata": {},
   "outputs": [],
   "source": [
    "X_preproc = preproc_pipe.fit_transform(X)"
   ]
  },
  {
   "cell_type": "code",
   "execution_count": 36,
   "metadata": {},
   "outputs": [
    {
     "data": {
      "text/plain": [
       "(76314, 28)"
      ]
     },
     "execution_count": 36,
     "metadata": {},
     "output_type": "execute_result"
    }
   ],
   "source": [
    "X_preproc.shape"
   ]
  },
  {
   "cell_type": "markdown",
   "metadata": {},
   "source": [
    "# Model test"
   ]
  },
  {
   "cell_type": "code",
   "execution_count": 37,
   "metadata": {},
   "outputs": [],
   "source": [
    "from sklearn.decomposition import PCA\n",
    "from sklearn.cluster import KMeans\n",
    "import numpy as np"
   ]
  },
  {
   "cell_type": "code",
   "execution_count": 38,
   "metadata": {},
   "outputs": [
    {
     "data": {
      "text/html": [
       "<style>#sk-container-id-1 {color: black;}#sk-container-id-1 pre{padding: 0;}#sk-container-id-1 div.sk-toggleable {background-color: white;}#sk-container-id-1 label.sk-toggleable__label {cursor: pointer;display: block;width: 100%;margin-bottom: 0;padding: 0.3em;box-sizing: border-box;text-align: center;}#sk-container-id-1 label.sk-toggleable__label-arrow:before {content: \"▸\";float: left;margin-right: 0.25em;color: #696969;}#sk-container-id-1 label.sk-toggleable__label-arrow:hover:before {color: black;}#sk-container-id-1 div.sk-estimator:hover label.sk-toggleable__label-arrow:before {color: black;}#sk-container-id-1 div.sk-toggleable__content {max-height: 0;max-width: 0;overflow: hidden;text-align: left;background-color: #f0f8ff;}#sk-container-id-1 div.sk-toggleable__content pre {margin: 0.2em;color: black;border-radius: 0.25em;background-color: #f0f8ff;}#sk-container-id-1 input.sk-toggleable__control:checked~div.sk-toggleable__content {max-height: 200px;max-width: 100%;overflow: auto;}#sk-container-id-1 input.sk-toggleable__control:checked~label.sk-toggleable__label-arrow:before {content: \"▾\";}#sk-container-id-1 div.sk-estimator input.sk-toggleable__control:checked~label.sk-toggleable__label {background-color: #d4ebff;}#sk-container-id-1 div.sk-label input.sk-toggleable__control:checked~label.sk-toggleable__label {background-color: #d4ebff;}#sk-container-id-1 input.sk-hidden--visually {border: 0;clip: rect(1px 1px 1px 1px);clip: rect(1px, 1px, 1px, 1px);height: 1px;margin: -1px;overflow: hidden;padding: 0;position: absolute;width: 1px;}#sk-container-id-1 div.sk-estimator {font-family: monospace;background-color: #f0f8ff;border: 1px dotted black;border-radius: 0.25em;box-sizing: border-box;margin-bottom: 0.5em;}#sk-container-id-1 div.sk-estimator:hover {background-color: #d4ebff;}#sk-container-id-1 div.sk-parallel-item::after {content: \"\";width: 100%;border-bottom: 1px solid gray;flex-grow: 1;}#sk-container-id-1 div.sk-label:hover label.sk-toggleable__label {background-color: #d4ebff;}#sk-container-id-1 div.sk-serial::before {content: \"\";position: absolute;border-left: 1px solid gray;box-sizing: border-box;top: 0;bottom: 0;left: 50%;z-index: 0;}#sk-container-id-1 div.sk-serial {display: flex;flex-direction: column;align-items: center;background-color: white;padding-right: 0.2em;padding-left: 0.2em;position: relative;}#sk-container-id-1 div.sk-item {position: relative;z-index: 1;}#sk-container-id-1 div.sk-parallel {display: flex;align-items: stretch;justify-content: center;background-color: white;position: relative;}#sk-container-id-1 div.sk-item::before, #sk-container-id-1 div.sk-parallel-item::before {content: \"\";position: absolute;border-left: 1px solid gray;box-sizing: border-box;top: 0;bottom: 0;left: 50%;z-index: -1;}#sk-container-id-1 div.sk-parallel-item {display: flex;flex-direction: column;z-index: 1;position: relative;background-color: white;}#sk-container-id-1 div.sk-parallel-item:first-child::after {align-self: flex-end;width: 50%;}#sk-container-id-1 div.sk-parallel-item:last-child::after {align-self: flex-start;width: 50%;}#sk-container-id-1 div.sk-parallel-item:only-child::after {width: 0;}#sk-container-id-1 div.sk-dashed-wrapped {border: 1px dashed gray;margin: 0 0.4em 0.5em 0.4em;box-sizing: border-box;padding-bottom: 0.4em;background-color: white;}#sk-container-id-1 div.sk-label label {font-family: monospace;font-weight: bold;display: inline-block;line-height: 1.2em;}#sk-container-id-1 div.sk-label-container {text-align: center;}#sk-container-id-1 div.sk-container {/* jupyter's `normalize.less` sets `[hidden] { display: none; }` but bootstrap.min.css set `[hidden] { display: none !important; }` so we also need the `!important` here to be able to override the default hidden behavior on the sphinx rendered scikit-learn.org. See: https://github.com/scikit-learn/scikit-learn/issues/21755 */display: inline-block !important;position: relative;}#sk-container-id-1 div.sk-text-repr-fallback {display: none;}</style><div id=\"sk-container-id-1\" class=\"sk-top-container\"><div class=\"sk-text-repr-fallback\"><pre>PCA()</pre><b>In a Jupyter environment, please rerun this cell to show the HTML representation or trust the notebook. <br />On GitHub, the HTML representation is unable to render, please try loading this page with nbviewer.org.</b></div><div class=\"sk-container\" hidden><div class=\"sk-item\"><div class=\"sk-estimator sk-toggleable\"><input class=\"sk-toggleable__control sk-hidden--visually\" id=\"sk-estimator-id-1\" type=\"checkbox\" checked><label for=\"sk-estimator-id-1\" class=\"sk-toggleable__label sk-toggleable__label-arrow\">PCA</label><div class=\"sk-toggleable__content\"><pre>PCA()</pre></div></div></div></div></div>"
      ],
      "text/plain": [
       "PCA()"
      ]
     },
     "execution_count": 38,
     "metadata": {},
     "output_type": "execute_result"
    }
   ],
   "source": [
    "pca = PCA()\n",
    "pca.fit(X_preproc)"
   ]
  },
  {
   "cell_type": "code",
   "execution_count": 39,
   "metadata": {},
   "outputs": [
    {
     "data": {
      "image/png": "[encoded data removed]",
      "text/plain": [
       "<Figure size 1000x600 with 1 Axes>"
      ]
     },
     "metadata": {},
     "output_type": "display_data"
    }
   ],
   "source": [
    "with plt.style.context('fast'):\n",
    "    # figsize\n",
    "    plt.figure(figsize=(10,6))\n",
    "    # getting axes\n",
    "    ax = plt.gca()\n",
    "    # plotting\n",
    "    explained_variance_ratio_cumulated = np.cumsum(pca.explained_variance_ratio_)\n",
    "    x_axis_ticks = np.arange(1,explained_variance_ratio_cumulated.shape[0]+1)\n",
    "    ax.plot(x_axis_ticks,explained_variance_ratio_cumulated,label=\"cumulated variance ratio\",color=\"purple\",linestyle=\":\",marker=\"D\",markersize=10)\n",
    "    # customizing\n",
    "    ax.set_xlabel('Number of Principal Components')\n",
    "    ax.set_ylabel('% cumulated explained variance')\n",
    "    ax.legend(loc=\"upper left\")\n",
    "    ax.set_title('The Elbow Method')\n",
    "    ax.set_xticks(x_axis_ticks)\n",
    "\n",
    "    ax.grid(axis=\"x\",linewidth=0.5)\n",
    "    ax.grid(axis=\"y\",linewidth=0.5)"
   ]
  },
  {
   "cell_type": "code",
   "execution_count": 40,
   "metadata": {},
   "outputs": [
    {
     "data": {
      "text/html": [
       "<div>\n",
       "<style scoped>\n",
       "    .dataframe tbody tr th:only-of-type {\n",
       "        vertical-align: middle;\n",
       "    }\n",
       "\n",
       "    .dataframe tbody tr th {\n",
       "        vertical-align: top;\n",
       "    }\n",
       "\n",
       "    .dataframe thead th {\n",
       "        text-align: right;\n",
       "    }\n",
       "</style>\n",
       "<table border=\"1\" class=\"dataframe\">\n",
       "  <thead>\n",
       "    <tr style=\"text-align: right;\">\n",
       "      <th></th>\n",
       "      <th>0</th>\n",
       "      <th>1</th>\n",
       "      <th>2</th>\n",
       "      <th>3</th>\n",
       "      <th>4</th>\n",
       "      <th>5</th>\n",
       "      <th>6</th>\n",
       "      <th>7</th>\n",
       "      <th>8</th>\n",
       "      <th>9</th>\n",
       "    </tr>\n",
       "  </thead>\n",
       "  <tbody>\n",
       "    <tr>\n",
       "      <th>0</th>\n",
       "      <td>1.147457</td>\n",
       "      <td>0.725275</td>\n",
       "      <td>-0.415206</td>\n",
       "      <td>-0.212712</td>\n",
       "      <td>1.180385</td>\n",
       "      <td>0.372320</td>\n",
       "      <td>1.289341</td>\n",
       "      <td>0.496068</td>\n",
       "      <td>-0.683058</td>\n",
       "      <td>0.695473</td>\n",
       "    </tr>\n",
       "    <tr>\n",
       "      <th>1</th>\n",
       "      <td>0.131647</td>\n",
       "      <td>-0.755679</td>\n",
       "      <td>-0.985748</td>\n",
       "      <td>0.332862</td>\n",
       "      <td>0.452679</td>\n",
       "      <td>0.923095</td>\n",
       "      <td>-0.823170</td>\n",
       "      <td>0.982791</td>\n",
       "      <td>1.537006</td>\n",
       "      <td>-0.068688</td>\n",
       "    </tr>\n",
       "    <tr>\n",
       "      <th>2</th>\n",
       "      <td>0.506131</td>\n",
       "      <td>-0.442884</td>\n",
       "      <td>-1.018229</td>\n",
       "      <td>-0.954980</td>\n",
       "      <td>0.713855</td>\n",
       "      <td>0.316088</td>\n",
       "      <td>0.723221</td>\n",
       "      <td>-0.485167</td>\n",
       "      <td>1.060377</td>\n",
       "      <td>0.579586</td>\n",
       "    </tr>\n",
       "    <tr>\n",
       "      <th>3</th>\n",
       "      <td>0.402432</td>\n",
       "      <td>-0.599335</td>\n",
       "      <td>0.112982</td>\n",
       "      <td>-0.900261</td>\n",
       "      <td>-1.106089</td>\n",
       "      <td>0.151341</td>\n",
       "      <td>0.032027</td>\n",
       "      <td>-1.219591</td>\n",
       "      <td>-0.576868</td>\n",
       "      <td>0.572759</td>\n",
       "    </tr>\n",
       "    <tr>\n",
       "      <th>4</th>\n",
       "      <td>0.495699</td>\n",
       "      <td>0.119877</td>\n",
       "      <td>0.912800</td>\n",
       "      <td>0.238720</td>\n",
       "      <td>0.332345</td>\n",
       "      <td>-2.358365</td>\n",
       "      <td>0.342560</td>\n",
       "      <td>-0.655129</td>\n",
       "      <td>0.146480</td>\n",
       "      <td>1.331501</td>\n",
       "    </tr>\n",
       "    <tr>\n",
       "      <th>...</th>\n",
       "      <td>...</td>\n",
       "      <td>...</td>\n",
       "      <td>...</td>\n",
       "      <td>...</td>\n",
       "      <td>...</td>\n",
       "      <td>...</td>\n",
       "      <td>...</td>\n",
       "      <td>...</td>\n",
       "      <td>...</td>\n",
       "      <td>...</td>\n",
       "    </tr>\n",
       "    <tr>\n",
       "      <th>76309</th>\n",
       "      <td>0.019298</td>\n",
       "      <td>-0.681387</td>\n",
       "      <td>-0.600044</td>\n",
       "      <td>1.390025</td>\n",
       "      <td>0.139955</td>\n",
       "      <td>-1.292505</td>\n",
       "      <td>0.386882</td>\n",
       "      <td>-0.026086</td>\n",
       "      <td>-0.948496</td>\n",
       "      <td>-1.472404</td>\n",
       "    </tr>\n",
       "    <tr>\n",
       "      <th>76310</th>\n",
       "      <td>0.409286</td>\n",
       "      <td>-0.541776</td>\n",
       "      <td>-0.029347</td>\n",
       "      <td>-0.543359</td>\n",
       "      <td>0.481665</td>\n",
       "      <td>0.005833</td>\n",
       "      <td>0.258295</td>\n",
       "      <td>-1.140591</td>\n",
       "      <td>0.315246</td>\n",
       "      <td>-0.151656</td>\n",
       "    </tr>\n",
       "    <tr>\n",
       "      <th>76311</th>\n",
       "      <td>-1.936830</td>\n",
       "      <td>1.323293</td>\n",
       "      <td>-1.369493</td>\n",
       "      <td>0.461175</td>\n",
       "      <td>-0.027711</td>\n",
       "      <td>-0.631349</td>\n",
       "      <td>1.137384</td>\n",
       "      <td>0.826204</td>\n",
       "      <td>-1.479079</td>\n",
       "      <td>-0.653339</td>\n",
       "    </tr>\n",
       "    <tr>\n",
       "      <th>76312</th>\n",
       "      <td>-1.970917</td>\n",
       "      <td>1.170385</td>\n",
       "      <td>-0.521381</td>\n",
       "      <td>0.129003</td>\n",
       "      <td>0.044899</td>\n",
       "      <td>-0.135185</td>\n",
       "      <td>1.702485</td>\n",
       "      <td>1.245191</td>\n",
       "      <td>0.131113</td>\n",
       "      <td>-1.250862</td>\n",
       "    </tr>\n",
       "    <tr>\n",
       "      <th>76313</th>\n",
       "      <td>0.098431</td>\n",
       "      <td>-0.744179</td>\n",
       "      <td>-0.551538</td>\n",
       "      <td>0.465285</td>\n",
       "      <td>0.126214</td>\n",
       "      <td>-0.579509</td>\n",
       "      <td>-2.002585</td>\n",
       "      <td>-0.527819</td>\n",
       "      <td>0.511618</td>\n",
       "      <td>-1.322923</td>\n",
       "    </tr>\n",
       "  </tbody>\n",
       "</table>\n",
       "<p>76314 rows × 10 columns</p>\n",
       "</div>"
      ],
      "text/plain": [
       "              0         1         2         3         4         5         6  \\\n",
       "0      1.147457  0.725275 -0.415206 -0.212712  1.180385  0.372320  1.289341   \n",
       "1      0.131647 -0.755679 -0.985748  0.332862  0.452679  0.923095 -0.823170   \n",
       "2      0.506131 -0.442884 -1.018229 -0.954980  0.713855  0.316088  0.723221   \n",
       "3      0.402432 -0.599335  0.112982 -0.900261 -1.106089  0.151341  0.032027   \n",
       "4      0.495699  0.119877  0.912800  0.238720  0.332345 -2.358365  0.342560   \n",
       "...         ...       ...       ...       ...       ...       ...       ...   \n",
       "76309  0.019298 -0.681387 -0.600044  1.390025  0.139955 -1.292505  0.386882   \n",
       "76310  0.409286 -0.541776 -0.029347 -0.543359  0.481665  0.005833  0.258295   \n",
       "76311 -1.936830  1.323293 -1.369493  0.461175 -0.027711 -0.631349  1.137384   \n",
       "76312 -1.970917  1.170385 -0.521381  0.129003  0.044899 -0.135185  1.702485   \n",
       "76313  0.098431 -0.744179 -0.551538  0.465285  0.126214 -0.579509 -2.002585   \n",
       "\n",
       "              7         8         9  \n",
       "0      0.496068 -0.683058  0.695473  \n",
       "1      0.982791  1.537006 -0.068688  \n",
       "2     -0.485167  1.060377  0.579586  \n",
       "3     -1.219591 -0.576868  0.572759  \n",
       "4     -0.655129  0.146480  1.331501  \n",
       "...         ...       ...       ...  \n",
       "76309 -0.026086 -0.948496 -1.472404  \n",
       "76310 -1.140591  0.315246 -0.151656  \n",
       "76311  0.826204 -1.479079 -0.653339  \n",
       "76312  1.245191  0.131113 -1.250862  \n",
       "76313 -0.527819  0.511618 -1.322923  \n",
       "\n",
       "[76314 rows x 10 columns]"
      ]
     },
     "execution_count": 40,
     "metadata": {},
     "output_type": "execute_result"
    }
   ],
   "source": [
    "threhsold_pca = 10\n",
    "pca = PCA(n_components=threhsold_pca, whiten=True)\n",
    "pca.fit(X_preproc)\n",
    "X_proj = pd.DataFrame(pca.transform(X_preproc))\n",
    "X_proj"
   ]
  },
  {
   "cell_type": "code",
   "execution_count": 41,
   "metadata": {},
   "outputs": [
    {
     "name": "stderr",
     "output_type": "stream",
     "text": [
      "/Users/youssef/.pyenv/versions/lewagon/lib/python3.10/site-packages/sklearn/cluster/_kmeans.py:1416: FutureWarning: The default value of `n_init` will change from 10 to 'auto' in 1.4. Set the value of `n_init` explicitly to suppress the warning\n",
      "  super()._check_params_vs_input(X, default_n_init=10)\n"
     ]
    },
    {
     "data": {
      "text/html": [
       "<style>#sk-container-id-2 {color: black;}#sk-container-id-2 pre{padding: 0;}#sk-container-id-2 div.sk-toggleable {background-color: white;}#sk-container-id-2 label.sk-toggleable__label {cursor: pointer;display: block;width: 100%;margin-bottom: 0;padding: 0.3em;box-sizing: border-box;text-align: center;}#sk-container-id-2 label.sk-toggleable__label-arrow:before {content: \"▸\";float: left;margin-right: 0.25em;color: #696969;}#sk-container-id-2 label.sk-toggleable__label-arrow:hover:before {color: black;}#sk-container-id-2 div.sk-estimator:hover label.sk-toggleable__label-arrow:before {color: black;}#sk-container-id-2 div.sk-toggleable__content {max-height: 0;max-width: 0;overflow: hidden;text-align: left;background-color: #f0f8ff;}#sk-container-id-2 div.sk-toggleable__content pre {margin: 0.2em;color: black;border-radius: 0.25em;background-color: #f0f8ff;}#sk-container-id-2 input.sk-toggleable__control:checked~div.sk-toggleable__content {max-height: 200px;max-width: 100%;overflow: auto;}#sk-container-id-2 input.sk-toggleable__control:checked~label.sk-toggleable__label-arrow:before {content: \"▾\";}#sk-container-id-2 div.sk-estimator input.sk-toggleable__control:checked~label.sk-toggleable__label {background-color: #d4ebff;}#sk-container-id-2 div.sk-label input.sk-toggleable__control:checked~label.sk-toggleable__label {background-color: #d4ebff;}#sk-container-id-2 input.sk-hidden--visually {border: 0;clip: rect(1px 1px 1px 1px);clip: rect(1px, 1px, 1px, 1px);height: 1px;margin: -1px;overflow: hidden;padding: 0;position: absolute;width: 1px;}#sk-container-id-2 div.sk-estimator {font-family: monospace;background-color: #f0f8ff;border: 1px dotted black;border-radius: 0.25em;box-sizing: border-box;margin-bottom: 0.5em;}#sk-container-id-2 div.sk-estimator:hover {background-color: #d4ebff;}#sk-container-id-2 div.sk-parallel-item::after {content: \"\";width: 100%;border-bottom: 1px solid gray;flex-grow: 1;}#sk-container-id-2 div.sk-label:hover label.sk-toggleable__label {background-color: #d4ebff;}#sk-container-id-2 div.sk-serial::before {content: \"\";position: absolute;border-left: 1px solid gray;box-sizing: border-box;top: 0;bottom: 0;left: 50%;z-index: 0;}#sk-container-id-2 div.sk-serial {display: flex;flex-direction: column;align-items: center;background-color: white;padding-right: 0.2em;padding-left: 0.2em;position: relative;}#sk-container-id-2 div.sk-item {position: relative;z-index: 1;}#sk-container-id-2 div.sk-parallel {display: flex;align-items: stretch;justify-content: center;background-color: white;position: relative;}#sk-container-id-2 div.sk-item::before, #sk-container-id-2 div.sk-parallel-item::before {content: \"\";position: absolute;border-left: 1px solid gray;box-sizing: border-box;top: 0;bottom: 0;left: 50%;z-index: -1;}#sk-container-id-2 div.sk-parallel-item {display: flex;flex-direction: column;z-index: 1;position: relative;background-color: white;}#sk-container-id-2 div.sk-parallel-item:first-child::after {align-self: flex-end;width: 50%;}#sk-container-id-2 div.sk-parallel-item:last-child::after {align-self: flex-start;width: 50%;}#sk-container-id-2 div.sk-parallel-item:only-child::after {width: 0;}#sk-container-id-2 div.sk-dashed-wrapped {border: 1px dashed gray;margin: 0 0.4em 0.5em 0.4em;box-sizing: border-box;padding-bottom: 0.4em;background-color: white;}#sk-container-id-2 div.sk-label label {font-family: monospace;font-weight: bold;display: inline-block;line-height: 1.2em;}#sk-container-id-2 div.sk-label-container {text-align: center;}#sk-container-id-2 div.sk-container {/* jupyter's `normalize.less` sets `[hidden] { display: none; }` but bootstrap.min.css set `[hidden] { display: none !important; }` so we also need the `!important` here to be able to override the default hidden behavior on the sphinx rendered scikit-learn.org. See: https://github.com/scikit-learn/scikit-learn/issues/21755 */display: inline-block !important;position: relative;}#sk-container-id-2 div.sk-text-repr-fallback {display: none;}</style><div id=\"sk-container-id-2\" class=\"sk-top-container\"><div class=\"sk-text-repr-fallback\"><pre>KMeans()</pre><b>In a Jupyter environment, please rerun this cell to show the HTML representation or trust the notebook. <br />On GitHub, the HTML representation is unable to render, please try loading this page with nbviewer.org.</b></div><div class=\"sk-container\" hidden><div class=\"sk-item\"><div class=\"sk-estimator sk-toggleable\"><input class=\"sk-toggleable__control sk-hidden--visually\" id=\"sk-estimator-id-2\" type=\"checkbox\" checked><label for=\"sk-estimator-id-2\" class=\"sk-toggleable__label sk-toggleable__label-arrow\">KMeans</label><div class=\"sk-toggleable__content\"><pre>KMeans()</pre></div></div></div></div></div>"
      ],
      "text/plain": [
       "KMeans()"
      ]
     },
     "execution_count": 41,
     "metadata": {},
     "output_type": "execute_result"
    }
   ],
   "source": [
    "kmeans_pca = KMeans(n_clusters = 8)\n",
    "kmeans_pca.fit(X_proj)\n",
    "kmeans_pca"
   ]
  },
  {
   "cell_type": "code",
   "execution_count": 42,
   "metadata": {},
   "outputs": [
    {
     "data": {
      "text/plain": [
       "array([  1,   2,   3,   4,   5,   6,   7,   8,   9,  10,  11,  12,  13,\n",
       "        14,  15,  16,  17,  18,  19,  20,  21,  22,  23,  24,  25,  26,\n",
       "        27,  28,  29,  30,  31,  32,  33,  34,  35,  36,  37,  38,  39,\n",
       "        40,  41,  42,  43,  44,  45,  46,  47,  48,  49,  50,  51,  52,\n",
       "        53,  54,  55,  56,  57,  58,  59,  60,  61,  62,  63,  64,  65,\n",
       "        66,  67,  68,  69,  70,  71,  72,  73,  74,  75,  76,  77,  78,\n",
       "        79,  80,  81,  82,  83,  84,  85,  86,  87,  88,  89,  90,  91,\n",
       "        92,  93,  94,  95,  96,  97,  98,  99, 100, 101, 102, 103, 104,\n",
       "       105, 106, 107, 108, 109, 110, 111, 112, 113, 114])"
      ]
     },
     "execution_count": 42,
     "metadata": {},
     "output_type": "execute_result"
    }
   ],
   "source": [
    "nb_clusters_to_try = np.arange(1,115,1)\n",
    "nb_clusters_to_try"
   ]
  },
  {
   "cell_type": "code",
   "execution_count": 43,
   "metadata": {},
   "outputs": [
    {
     "name": "stdout",
     "output_type": "stream",
     "text": [
      "working with 1 clusters...\n",
      "working with 2 clusters...\n"
     ]
    },
    {
     "name": "stderr",
     "output_type": "stream",
     "text": [
      "/Users/youssef/.pyenv/versions/lewagon/lib/python3.10/site-packages/sklearn/cluster/_kmeans.py:1416: FutureWarning: The default value of `n_init` will change from 10 to 'auto' in 1.4. Set the value of `n_init` explicitly to suppress the warning\n",
      "  super()._check_params_vs_input(X, default_n_init=10)\n",
      "/Users/youssef/.pyenv/versions/lewagon/lib/python3.10/site-packages/sklearn/cluster/_kmeans.py:1416: FutureWarning: The default value of `n_init` will change from 10 to 'auto' in 1.4. Set the value of `n_init` explicitly to suppress the warning\n",
      "  super()._check_params_vs_input(X, default_n_init=10)\n"
     ]
    },
    {
     "name": "stdout",
     "output_type": "stream",
     "text": [
      "working with 3 clusters...\n"
     ]
    },
    {
     "name": "stderr",
     "output_type": "stream",
     "text": [
      "/Users/youssef/.pyenv/versions/lewagon/lib/python3.10/site-packages/sklearn/cluster/_kmeans.py:1416: FutureWarning: The default value of `n_init` will change from 10 to 'auto' in 1.4. Set the value of `n_init` explicitly to suppress the warning\n",
      "  super()._check_params_vs_input(X, default_n_init=10)\n"
     ]
    },
    {
     "name": "stdout",
     "output_type": "stream",
     "text": [
      "working with 4 clusters...\n"
     ]
    },
    {
     "name": "stderr",
     "output_type": "stream",
     "text": [
      "/Users/youssef/.pyenv/versions/lewagon/lib/python3.10/site-packages/sklearn/cluster/_kmeans.py:1416: FutureWarning: The default value of `n_init` will change from 10 to 'auto' in 1.4. Set the value of `n_init` explicitly to suppress the warning\n",
      "  super()._check_params_vs_input(X, default_n_init=10)\n"
     ]
    },
    {
     "name": "stdout",
     "output_type": "stream",
     "text": [
      "working with 5 clusters...\n"
     ]
    },
    {
     "name": "stderr",
     "output_type": "stream",
     "text": [
      "/Users/youssef/.pyenv/versions/lewagon/lib/python3.10/site-packages/sklearn/cluster/_kmeans.py:1416: FutureWarning: The default value of `n_init` will change from 10 to 'auto' in 1.4. Set the value of `n_init` explicitly to suppress the warning\n",
      "  super()._check_params_vs_input(X, default_n_init=10)\n"
     ]
    },
    {
     "name": "stdout",
     "output_type": "stream",
     "text": [
      "working with 6 clusters...\n"
     ]
    },
    {
     "name": "stderr",
     "output_type": "stream",
     "text": [
      "/Users/youssef/.pyenv/versions/lewagon/lib/python3.10/site-packages/sklearn/cluster/_kmeans.py:1416: FutureWarning: The default value of `n_init` will change from 10 to 'auto' in 1.4. Set the value of `n_init` explicitly to suppress the warning\n",
      "  super()._check_params_vs_input(X, default_n_init=10)\n"
     ]
    },
    {
     "name": "stdout",
     "output_type": "stream",
     "text": [
      "working with 7 clusters...\n"
     ]
    },
    {
     "name": "stderr",
     "output_type": "stream",
     "text": [
      "/Users/youssef/.pyenv/versions/lewagon/lib/python3.10/site-packages/sklearn/cluster/_kmeans.py:1416: FutureWarning: The default value of `n_init` will change from 10 to 'auto' in 1.4. Set the value of `n_init` explicitly to suppress the warning\n",
      "  super()._check_params_vs_input(X, default_n_init=10)\n"
     ]
    },
    {
     "name": "stdout",
     "output_type": "stream",
     "text": [
      "working with 8 clusters...\n"
     ]
    },
    {
     "name": "stderr",
     "output_type": "stream",
     "text": [
      "/Users/youssef/.pyenv/versions/lewagon/lib/python3.10/site-packages/sklearn/cluster/_kmeans.py:1416: FutureWarning: The default value of `n_init` will change from 10 to 'auto' in 1.4. Set the value of `n_init` explicitly to suppress the warning\n",
      "  super()._check_params_vs_input(X, default_n_init=10)\n"
     ]
    },
    {
     "name": "stdout",
     "output_type": "stream",
     "text": [
      "working with 9 clusters...\n"
     ]
    },
    {
     "name": "stderr",
     "output_type": "stream",
     "text": [
      "/Users/youssef/.pyenv/versions/lewagon/lib/python3.10/site-packages/sklearn/cluster/_kmeans.py:1416: FutureWarning: The default value of `n_init` will change from 10 to 'auto' in 1.4. Set the value of `n_init` explicitly to suppress the warning\n",
      "  super()._check_params_vs_input(X, default_n_init=10)\n"
     ]
    },
    {
     "name": "stdout",
     "output_type": "stream",
     "text": [
      "working with 10 clusters...\n"
     ]
    },
    {
     "name": "stderr",
     "output_type": "stream",
     "text": [
      "/Users/youssef/.pyenv/versions/lewagon/lib/python3.10/site-packages/sklearn/cluster/_kmeans.py:1416: FutureWarning: The default value of `n_init` will change from 10 to 'auto' in 1.4. Set the value of `n_init` explicitly to suppress the warning\n",
      "  super()._check_params_vs_input(X, default_n_init=10)\n"
     ]
    },
    {
     "name": "stdout",
     "output_type": "stream",
     "text": [
      "working with 11 clusters...\n"
     ]
    },
    {
     "name": "stderr",
     "output_type": "stream",
     "text": [
      "/Users/youssef/.pyenv/versions/lewagon/lib/python3.10/site-packages/sklearn/cluster/_kmeans.py:1416: FutureWarning: The default value of `n_init` will change from 10 to 'auto' in 1.4. Set the value of `n_init` explicitly to suppress the warning\n",
      "  super()._check_params_vs_input(X, default_n_init=10)\n"
     ]
    },
    {
     "name": "stdout",
     "output_type": "stream",
     "text": [
      "working with 12 clusters...\n"
     ]
    },
    {
     "name": "stderr",
     "output_type": "stream",
     "text": [
      "/Users/youssef/.pyenv/versions/lewagon/lib/python3.10/site-packages/sklearn/cluster/_kmeans.py:1416: FutureWarning: The default value of `n_init` will change from 10 to 'auto' in 1.4. Set the value of `n_init` explicitly to suppress the warning\n",
      "  super()._check_params_vs_input(X, default_n_init=10)\n"
     ]
    },
    {
     "name": "stdout",
     "output_type": "stream",
     "text": [
      "working with 13 clusters...\n"
     ]
    },
    {
     "name": "stderr",
     "output_type": "stream",
     "text": [
      "/Users/youssef/.pyenv/versions/lewagon/lib/python3.10/site-packages/sklearn/cluster/_kmeans.py:1416: FutureWarning: The default value of `n_init` will change from 10 to 'auto' in 1.4. Set the value of `n_init` explicitly to suppress the warning\n",
      "  super()._check_params_vs_input(X, default_n_init=10)\n"
     ]
    },
    {
     "name": "stdout",
     "output_type": "stream",
     "text": [
      "working with 14 clusters...\n"
     ]
    },
    {
     "name": "stderr",
     "output_type": "stream",
     "text": [
      "/Users/youssef/.pyenv/versions/lewagon/lib/python3.10/site-packages/sklearn/cluster/_kmeans.py:1416: FutureWarning: The default value of `n_init` will change from 10 to 'auto' in 1.4. Set the value of `n_init` explicitly to suppress the warning\n",
      "  super()._check_params_vs_input(X, default_n_init=10)\n"
     ]
    },
    {
     "name": "stdout",
     "output_type": "stream",
     "text": [
      "working with 15 clusters...\n"
     ]
    },
    {
     "name": "stderr",
     "output_type": "stream",
     "text": [
      "/Users/youssef/.pyenv/versions/lewagon/lib/python3.10/site-packages/sklearn/cluster/_kmeans.py:1416: FutureWarning: The default value of `n_init` will change from 10 to 'auto' in 1.4. Set the value of `n_init` explicitly to suppress the warning\n",
      "  super()._check_params_vs_input(X, default_n_init=10)\n"
     ]
    },
    {
     "name": "stdout",
     "output_type": "stream",
     "text": [
      "working with 16 clusters...\n"
     ]
    },
    {
     "name": "stderr",
     "output_type": "stream",
     "text": [
      "/Users/youssef/.pyenv/versions/lewagon/lib/python3.10/site-packages/sklearn/cluster/_kmeans.py:1416: FutureWarning: The default value of `n_init` will change from 10 to 'auto' in 1.4. Set the value of `n_init` explicitly to suppress the warning\n",
      "  super()._check_params_vs_input(X, default_n_init=10)\n"
     ]
    },
    {
     "name": "stdout",
     "output_type": "stream",
     "text": [
      "working with 17 clusters...\n"
     ]
    },
    {
     "name": "stderr",
     "output_type": "stream",
     "text": [
      "/Users/youssef/.pyenv/versions/lewagon/lib/python3.10/site-packages/sklearn/cluster/_kmeans.py:1416: FutureWarning: The default value of `n_init` will change from 10 to 'auto' in 1.4. Set the value of `n_init` explicitly to suppress the warning\n",
      "  super()._check_params_vs_input(X, default_n_init=10)\n"
     ]
    },
    {
     "name": "stdout",
     "output_type": "stream",
     "text": [
      "working with 18 clusters...\n"
     ]
    },
    {
     "name": "stderr",
     "output_type": "stream",
     "text": [
      "/Users/youssef/.pyenv/versions/lewagon/lib/python3.10/site-packages/sklearn/cluster/_kmeans.py:1416: FutureWarning: The default value of `n_init` will change from 10 to 'auto' in 1.4. Set the value of `n_init` explicitly to suppress the warning\n",
      "  super()._check_params_vs_input(X, default_n_init=10)\n"
     ]
    },
    {
     "name": "stdout",
     "output_type": "stream",
     "text": [
      "working with 19 clusters...\n"
     ]
    },
    {
     "name": "stderr",
     "output_type": "stream",
     "text": [
      "/Users/youssef/.pyenv/versions/lewagon/lib/python3.10/site-packages/sklearn/cluster/_kmeans.py:1416: FutureWarning: The default value of `n_init` will change from 10 to 'auto' in 1.4. Set the value of `n_init` explicitly to suppress the warning\n",
      "  super()._check_params_vs_input(X, default_n_init=10)\n"
     ]
    },
    {
     "name": "stdout",
     "output_type": "stream",
     "text": [
      "working with 20 clusters...\n"
     ]
    },
    {
     "name": "stderr",
     "output_type": "stream",
     "text": [
      "/Users/youssef/.pyenv/versions/lewagon/lib/python3.10/site-packages/sklearn/cluster/_kmeans.py:1416: FutureWarning: The default value of `n_init` will change from 10 to 'auto' in 1.4. Set the value of `n_init` explicitly to suppress the warning\n",
      "  super()._check_params_vs_input(X, default_n_init=10)\n"
     ]
    },
    {
     "name": "stdout",
     "output_type": "stream",
     "text": [
      "working with 21 clusters...\n"
     ]
    },
    {
     "name": "stderr",
     "output_type": "stream",
     "text": [
      "/Users/youssef/.pyenv/versions/lewagon/lib/python3.10/site-packages/sklearn/cluster/_kmeans.py:1416: FutureWarning: The default value of `n_init` will change from 10 to 'auto' in 1.4. Set the value of `n_init` explicitly to suppress the warning\n",
      "  super()._check_params_vs_input(X, default_n_init=10)\n"
     ]
    },
    {
     "name": "stdout",
     "output_type": "stream",
     "text": [
      "working with 22 clusters...\n"
     ]
    },
    {
     "name": "stderr",
     "output_type": "stream",
     "text": [
      "/Users/youssef/.pyenv/versions/lewagon/lib/python3.10/site-packages/sklearn/cluster/_kmeans.py:1416: FutureWarning: The default value of `n_init` will change from 10 to 'auto' in 1.4. Set the value of `n_init` explicitly to suppress the warning\n",
      "  super()._check_params_vs_input(X, default_n_init=10)\n"
     ]
    },
    {
     "name": "stdout",
     "output_type": "stream",
     "text": [
      "working with 23 clusters...\n"
     ]
    },
    {
     "name": "stderr",
     "output_type": "stream",
     "text": [
      "/Users/youssef/.pyenv/versions/lewagon/lib/python3.10/site-packages/sklearn/cluster/_kmeans.py:1416: FutureWarning: The default value of `n_init` will change from 10 to 'auto' in 1.4. Set the value of `n_init` explicitly to suppress the warning\n",
      "  super()._check_params_vs_input(X, default_n_init=10)\n"
     ]
    },
    {
     "name": "stdout",
     "output_type": "stream",
     "text": [
      "working with 24 clusters...\n"
     ]
    },
    {
     "name": "stderr",
     "output_type": "stream",
     "text": [
      "/Users/youssef/.pyenv/versions/lewagon/lib/python3.10/site-packages/sklearn/cluster/_kmeans.py:1416: FutureWarning: The default value of `n_init` will change from 10 to 'auto' in 1.4. Set the value of `n_init` explicitly to suppress the warning\n",
      "  super()._check_params_vs_input(X, default_n_init=10)\n"
     ]
    },
    {
     "name": "stdout",
     "output_type": "stream",
     "text": [
      "working with 25 clusters...\n"
     ]
    },
    {
     "name": "stderr",
     "output_type": "stream",
     "text": [
      "/Users/youssef/.pyenv/versions/lewagon/lib/python3.10/site-packages/sklearn/cluster/_kmeans.py:1416: FutureWarning: The default value of `n_init` will change from 10 to 'auto' in 1.4. Set the value of `n_init` explicitly to suppress the warning\n",
      "  super()._check_params_vs_input(X, default_n_init=10)\n"
     ]
    },
    {
     "name": "stdout",
     "output_type": "stream",
     "text": [
      "working with 26 clusters...\n"
     ]
    },
    {
     "name": "stderr",
     "output_type": "stream",
     "text": [
      "/Users/youssef/.pyenv/versions/lewagon/lib/python3.10/site-packages/sklearn/cluster/_kmeans.py:1416: FutureWarning: The default value of `n_init` will change from 10 to 'auto' in 1.4. Set the value of `n_init` explicitly to suppress the warning\n",
      "  super()._check_params_vs_input(X, default_n_init=10)\n"
     ]
    },
    {
     "name": "stdout",
     "output_type": "stream",
     "text": [
      "working with 27 clusters...\n"
     ]
    },
    {
     "name": "stderr",
     "output_type": "stream",
     "text": [
      "/Users/youssef/.pyenv/versions/lewagon/lib/python3.10/site-packages/sklearn/cluster/_kmeans.py:1416: FutureWarning: The default value of `n_init` will change from 10 to 'auto' in 1.4. Set the value of `n_init` explicitly to suppress the warning\n",
      "  super()._check_params_vs_input(X, default_n_init=10)\n"
     ]
    },
    {
     "name": "stdout",
     "output_type": "stream",
     "text": [
      "working with 28 clusters...\n"
     ]
    },
    {
     "name": "stderr",
     "output_type": "stream",
     "text": [
      "/Users/youssef/.pyenv/versions/lewagon/lib/python3.10/site-packages/sklearn/cluster/_kmeans.py:1416: FutureWarning: The default value of `n_init` will change from 10 to 'auto' in 1.4. Set the value of `n_init` explicitly to suppress the warning\n",
      "  super()._check_params_vs_input(X, default_n_init=10)\n"
     ]
    },
    {
     "name": "stdout",
     "output_type": "stream",
     "text": [
      "working with 29 clusters...\n"
     ]
    },
    {
     "name": "stderr",
     "output_type": "stream",
     "text": [
      "/Users/youssef/.pyenv/versions/lewagon/lib/python3.10/site-packages/sklearn/cluster/_kmeans.py:1416: FutureWarning: The default value of `n_init` will change from 10 to 'auto' in 1.4. Set the value of `n_init` explicitly to suppress the warning\n",
      "  super()._check_params_vs_input(X, default_n_init=10)\n"
     ]
    },
    {
     "name": "stdout",
     "output_type": "stream",
     "text": [
      "working with 30 clusters...\n"
     ]
    },
    {
     "name": "stderr",
     "output_type": "stream",
     "text": [
      "/Users/youssef/.pyenv/versions/lewagon/lib/python3.10/site-packages/sklearn/cluster/_kmeans.py:1416: FutureWarning: The default value of `n_init` will change from 10 to 'auto' in 1.4. Set the value of `n_init` explicitly to suppress the warning\n",
      "  super()._check_params_vs_input(X, default_n_init=10)\n"
     ]
    },
    {
     "name": "stdout",
     "output_type": "stream",
     "text": [
      "working with 31 clusters...\n"
     ]
    },
    {
     "name": "stderr",
     "output_type": "stream",
     "text": [
      "/Users/youssef/.pyenv/versions/lewagon/lib/python3.10/site-packages/sklearn/cluster/_kmeans.py:1416: FutureWarning: The default value of `n_init` will change from 10 to 'auto' in 1.4. Set the value of `n_init` explicitly to suppress the warning\n",
      "  super()._check_params_vs_input(X, default_n_init=10)\n"
     ]
    },
    {
     "name": "stdout",
     "output_type": "stream",
     "text": [
      "working with 32 clusters...\n"
     ]
    },
    {
     "name": "stderr",
     "output_type": "stream",
     "text": [
      "/Users/youssef/.pyenv/versions/lewagon/lib/python3.10/site-packages/sklearn/cluster/_kmeans.py:1416: FutureWarning: The default value of `n_init` will change from 10 to 'auto' in 1.4. Set the value of `n_init` explicitly to suppress the warning\n",
      "  super()._check_params_vs_input(X, default_n_init=10)\n"
     ]
    },
    {
     "name": "stdout",
     "output_type": "stream",
     "text": [
      "working with 33 clusters...\n"
     ]
    },
    {
     "name": "stderr",
     "output_type": "stream",
     "text": [
      "/Users/youssef/.pyenv/versions/lewagon/lib/python3.10/site-packages/sklearn/cluster/_kmeans.py:1416: FutureWarning: The default value of `n_init` will change from 10 to 'auto' in 1.4. Set the value of `n_init` explicitly to suppress the warning\n",
      "  super()._check_params_vs_input(X, default_n_init=10)\n"
     ]
    },
    {
     "name": "stdout",
     "output_type": "stream",
     "text": [
      "working with 34 clusters...\n"
     ]
    },
    {
     "name": "stderr",
     "output_type": "stream",
     "text": [
      "/Users/youssef/.pyenv/versions/lewagon/lib/python3.10/site-packages/sklearn/cluster/_kmeans.py:1416: FutureWarning: The default value of `n_init` will change from 10 to 'auto' in 1.4. Set the value of `n_init` explicitly to suppress the warning\n",
      "  super()._check_params_vs_input(X, default_n_init=10)\n"
     ]
    },
    {
     "name": "stdout",
     "output_type": "stream",
     "text": [
      "working with 35 clusters...\n"
     ]
    },
    {
     "name": "stderr",
     "output_type": "stream",
     "text": [
      "/Users/youssef/.pyenv/versions/lewagon/lib/python3.10/site-packages/sklearn/cluster/_kmeans.py:1416: FutureWarning: The default value of `n_init` will change from 10 to 'auto' in 1.4. Set the value of `n_init` explicitly to suppress the warning\n",
      "  super()._check_params_vs_input(X, default_n_init=10)\n"
     ]
    },
    {
     "name": "stdout",
     "output_type": "stream",
     "text": [
      "working with 36 clusters...\n"
     ]
    },
    {
     "name": "stderr",
     "output_type": "stream",
     "text": [
      "/Users/youssef/.pyenv/versions/lewagon/lib/python3.10/site-packages/sklearn/cluster/_kmeans.py:1416: FutureWarning: The default value of `n_init` will change from 10 to 'auto' in 1.4. Set the value of `n_init` explicitly to suppress the warning\n",
      "  super()._check_params_vs_input(X, default_n_init=10)\n"
     ]
    },
    {
     "name": "stdout",
     "output_type": "stream",
     "text": [
      "working with 37 clusters...\n"
     ]
    },
    {
     "name": "stderr",
     "output_type": "stream",
     "text": [
      "/Users/youssef/.pyenv/versions/lewagon/lib/python3.10/site-packages/sklearn/cluster/_kmeans.py:1416: FutureWarning: The default value of `n_init` will change from 10 to 'auto' in 1.4. Set the value of `n_init` explicitly to suppress the warning\n",
      "  super()._check_params_vs_input(X, default_n_init=10)\n"
     ]
    },
    {
     "name": "stdout",
     "output_type": "stream",
     "text": [
      "working with 38 clusters...\n"
     ]
    },
    {
     "name": "stderr",
     "output_type": "stream",
     "text": [
      "/Users/youssef/.pyenv/versions/lewagon/lib/python3.10/site-packages/sklearn/cluster/_kmeans.py:1416: FutureWarning: The default value of `n_init` will change from 10 to 'auto' in 1.4. Set the value of `n_init` explicitly to suppress the warning\n",
      "  super()._check_params_vs_input(X, default_n_init=10)\n"
     ]
    },
    {
     "name": "stdout",
     "output_type": "stream",
     "text": [
      "working with 39 clusters...\n"
     ]
    },
    {
     "name": "stderr",
     "output_type": "stream",
     "text": [
      "/Users/youssef/.pyenv/versions/lewagon/lib/python3.10/site-packages/sklearn/cluster/_kmeans.py:1416: FutureWarning: The default value of `n_init` will change from 10 to 'auto' in 1.4. Set the value of `n_init` explicitly to suppress the warning\n",
      "  super()._check_params_vs_input(X, default_n_init=10)\n"
     ]
    },
    {
     "name": "stdout",
     "output_type": "stream",
     "text": [
      "working with 40 clusters...\n"
     ]
    },
    {
     "name": "stderr",
     "output_type": "stream",
     "text": [
      "/Users/youssef/.pyenv/versions/lewagon/lib/python3.10/site-packages/sklearn/cluster/_kmeans.py:1416: FutureWarning: The default value of `n_init` will change from 10 to 'auto' in 1.4. Set the value of `n_init` explicitly to suppress the warning\n",
      "  super()._check_params_vs_input(X, default_n_init=10)\n"
     ]
    },
    {
     "name": "stdout",
     "output_type": "stream",
     "text": [
      "working with 41 clusters...\n"
     ]
    },
    {
     "name": "stderr",
     "output_type": "stream",
     "text": [
      "/Users/youssef/.pyenv/versions/lewagon/lib/python3.10/site-packages/sklearn/cluster/_kmeans.py:1416: FutureWarning: The default value of `n_init` will change from 10 to 'auto' in 1.4. Set the value of `n_init` explicitly to suppress the warning\n",
      "  super()._check_params_vs_input(X, default_n_init=10)\n"
     ]
    },
    {
     "name": "stdout",
     "output_type": "stream",
     "text": [
      "working with 42 clusters...\n"
     ]
    },
    {
     "name": "stderr",
     "output_type": "stream",
     "text": [
      "/Users/youssef/.pyenv/versions/lewagon/lib/python3.10/site-packages/sklearn/cluster/_kmeans.py:1416: FutureWarning: The default value of `n_init` will change from 10 to 'auto' in 1.4. Set the value of `n_init` explicitly to suppress the warning\n",
      "  super()._check_params_vs_input(X, default_n_init=10)\n"
     ]
    },
    {
     "name": "stdout",
     "output_type": "stream",
     "text": [
      "working with 43 clusters...\n"
     ]
    },
    {
     "name": "stderr",
     "output_type": "stream",
     "text": [
      "/Users/youssef/.pyenv/versions/lewagon/lib/python3.10/site-packages/sklearn/cluster/_kmeans.py:1416: FutureWarning: The default value of `n_init` will change from 10 to 'auto' in 1.4. Set the value of `n_init` explicitly to suppress the warning\n",
      "  super()._check_params_vs_input(X, default_n_init=10)\n"
     ]
    },
    {
     "name": "stdout",
     "output_type": "stream",
     "text": [
      "working with 44 clusters...\n"
     ]
    },
    {
     "name": "stderr",
     "output_type": "stream",
     "text": [
      "/Users/youssef/.pyenv/versions/lewagon/lib/python3.10/site-packages/sklearn/cluster/_kmeans.py:1416: FutureWarning: The default value of `n_init` will change from 10 to 'auto' in 1.4. Set the value of `n_init` explicitly to suppress the warning\n",
      "  super()._check_params_vs_input(X, default_n_init=10)\n"
     ]
    },
    {
     "name": "stdout",
     "output_type": "stream",
     "text": [
      "working with 45 clusters...\n"
     ]
    },
    {
     "name": "stderr",
     "output_type": "stream",
     "text": [
      "/Users/youssef/.pyenv/versions/lewagon/lib/python3.10/site-packages/sklearn/cluster/_kmeans.py:1416: FutureWarning: The default value of `n_init` will change from 10 to 'auto' in 1.4. Set the value of `n_init` explicitly to suppress the warning\n",
      "  super()._check_params_vs_input(X, default_n_init=10)\n"
     ]
    },
    {
     "name": "stdout",
     "output_type": "stream",
     "text": [
      "working with 46 clusters...\n"
     ]
    },
    {
     "name": "stderr",
     "output_type": "stream",
     "text": [
      "/Users/youssef/.pyenv/versions/lewagon/lib/python3.10/site-packages/sklearn/cluster/_kmeans.py:1416: FutureWarning: The default value of `n_init` will change from 10 to 'auto' in 1.4. Set the value of `n_init` explicitly to suppress the warning\n",
      "  super()._check_params_vs_input(X, default_n_init=10)\n"
     ]
    },
    {
     "name": "stdout",
     "output_type": "stream",
     "text": [
      "working with 47 clusters...\n"
     ]
    },
    {
     "name": "stderr",
     "output_type": "stream",
     "text": [
      "/Users/youssef/.pyenv/versions/lewagon/lib/python3.10/site-packages/sklearn/cluster/_kmeans.py:1416: FutureWarning: The default value of `n_init` will change from 10 to 'auto' in 1.4. Set the value of `n_init` explicitly to suppress the warning\n",
      "  super()._check_params_vs_input(X, default_n_init=10)\n"
     ]
    },
    {
     "name": "stdout",
     "output_type": "stream",
     "text": [
      "working with 48 clusters...\n"
     ]
    },
    {
     "name": "stderr",
     "output_type": "stream",
     "text": [
      "/Users/youssef/.pyenv/versions/lewagon/lib/python3.10/site-packages/sklearn/cluster/_kmeans.py:1416: FutureWarning: The default value of `n_init` will change from 10 to 'auto' in 1.4. Set the value of `n_init` explicitly to suppress the warning\n",
      "  super()._check_params_vs_input(X, default_n_init=10)\n"
     ]
    },
    {
     "name": "stdout",
     "output_type": "stream",
     "text": [
      "working with 49 clusters...\n"
     ]
    },
    {
     "name": "stderr",
     "output_type": "stream",
     "text": [
      "/Users/youssef/.pyenv/versions/lewagon/lib/python3.10/site-packages/sklearn/cluster/_kmeans.py:1416: FutureWarning: The default value of `n_init` will change from 10 to 'auto' in 1.4. Set the value of `n_init` explicitly to suppress the warning\n",
      "  super()._check_params_vs_input(X, default_n_init=10)\n"
     ]
    },
    {
     "name": "stdout",
     "output_type": "stream",
     "text": [
      "working with 50 clusters...\n"
     ]
    },
    {
     "name": "stderr",
     "output_type": "stream",
     "text": [
      "/Users/youssef/.pyenv/versions/lewagon/lib/python3.10/site-packages/sklearn/cluster/_kmeans.py:1416: FutureWarning: The default value of `n_init` will change from 10 to 'auto' in 1.4. Set the value of `n_init` explicitly to suppress the warning\n",
      "  super()._check_params_vs_input(X, default_n_init=10)\n"
     ]
    },
    {
     "name": "stdout",
     "output_type": "stream",
     "text": [
      "working with 51 clusters...\n"
     ]
    },
    {
     "name": "stderr",
     "output_type": "stream",
     "text": [
      "/Users/youssef/.pyenv/versions/lewagon/lib/python3.10/site-packages/sklearn/cluster/_kmeans.py:1416: FutureWarning: The default value of `n_init` will change from 10 to 'auto' in 1.4. Set the value of `n_init` explicitly to suppress the warning\n",
      "  super()._check_params_vs_input(X, default_n_init=10)\n"
     ]
    },
    {
     "name": "stdout",
     "output_type": "stream",
     "text": [
      "working with 52 clusters...\n"
     ]
    },
    {
     "name": "stderr",
     "output_type": "stream",
     "text": [
      "/Users/youssef/.pyenv/versions/lewagon/lib/python3.10/site-packages/sklearn/cluster/_kmeans.py:1416: FutureWarning: The default value of `n_init` will change from 10 to 'auto' in 1.4. Set the value of `n_init` explicitly to suppress the warning\n",
      "  super()._check_params_vs_input(X, default_n_init=10)\n"
     ]
    },
    {
     "name": "stdout",
     "output_type": "stream",
     "text": [
      "working with 53 clusters...\n"
     ]
    },
    {
     "name": "stderr",
     "output_type": "stream",
     "text": [
      "/Users/youssef/.pyenv/versions/lewagon/lib/python3.10/site-packages/sklearn/cluster/_kmeans.py:1416: FutureWarning: The default value of `n_init` will change from 10 to 'auto' in 1.4. Set the value of `n_init` explicitly to suppress the warning\n",
      "  super()._check_params_vs_input(X, default_n_init=10)\n"
     ]
    },
    {
     "name": "stdout",
     "output_type": "stream",
     "text": [
      "working with 54 clusters...\n"
     ]
    },
    {
     "name": "stderr",
     "output_type": "stream",
     "text": [
      "/Users/youssef/.pyenv/versions/lewagon/lib/python3.10/site-packages/sklearn/cluster/_kmeans.py:1416: FutureWarning: The default value of `n_init` will change from 10 to 'auto' in 1.4. Set the value of `n_init` explicitly to suppress the warning\n",
      "  super()._check_params_vs_input(X, default_n_init=10)\n"
     ]
    },
    {
     "name": "stdout",
     "output_type": "stream",
     "text": [
      "working with 55 clusters...\n"
     ]
    },
    {
     "name": "stderr",
     "output_type": "stream",
     "text": [
      "/Users/youssef/.pyenv/versions/lewagon/lib/python3.10/site-packages/sklearn/cluster/_kmeans.py:1416: FutureWarning: The default value of `n_init` will change from 10 to 'auto' in 1.4. Set the value of `n_init` explicitly to suppress the warning\n",
      "  super()._check_params_vs_input(X, default_n_init=10)\n"
     ]
    },
    {
     "name": "stdout",
     "output_type": "stream",
     "text": [
      "working with 56 clusters...\n"
     ]
    },
    {
     "name": "stderr",
     "output_type": "stream",
     "text": [
      "/Users/youssef/.pyenv/versions/lewagon/lib/python3.10/site-packages/sklearn/cluster/_kmeans.py:1416: FutureWarning: The default value of `n_init` will change from 10 to 'auto' in 1.4. Set the value of `n_init` explicitly to suppress the warning\n",
      "  super()._check_params_vs_input(X, default_n_init=10)\n"
     ]
    },
    {
     "name": "stdout",
     "output_type": "stream",
     "text": [
      "working with 57 clusters...\n"
     ]
    },
    {
     "name": "stderr",
     "output_type": "stream",
     "text": [
      "/Users/youssef/.pyenv/versions/lewagon/lib/python3.10/site-packages/sklearn/cluster/_kmeans.py:1416: FutureWarning: The default value of `n_init` will change from 10 to 'auto' in 1.4. Set the value of `n_init` explicitly to suppress the warning\n",
      "  super()._check_params_vs_input(X, default_n_init=10)\n"
     ]
    },
    {
     "name": "stdout",
     "output_type": "stream",
     "text": [
      "working with 58 clusters...\n"
     ]
    },
    {
     "name": "stderr",
     "output_type": "stream",
     "text": [
      "/Users/youssef/.pyenv/versions/lewagon/lib/python3.10/site-packages/sklearn/cluster/_kmeans.py:1416: FutureWarning: The default value of `n_init` will change from 10 to 'auto' in 1.4. Set the value of `n_init` explicitly to suppress the warning\n",
      "  super()._check_params_vs_input(X, default_n_init=10)\n"
     ]
    },
    {
     "name": "stdout",
     "output_type": "stream",
     "text": [
      "working with 59 clusters...\n"
     ]
    },
    {
     "name": "stderr",
     "output_type": "stream",
     "text": [
      "/Users/youssef/.pyenv/versions/lewagon/lib/python3.10/site-packages/sklearn/cluster/_kmeans.py:1416: FutureWarning: The default value of `n_init` will change from 10 to 'auto' in 1.4. Set the value of `n_init` explicitly to suppress the warning\n",
      "  super()._check_params_vs_input(X, default_n_init=10)\n"
     ]
    },
    {
     "name": "stdout",
     "output_type": "stream",
     "text": [
      "working with 60 clusters...\n"
     ]
    },
    {
     "name": "stderr",
     "output_type": "stream",
     "text": [
      "/Users/youssef/.pyenv/versions/lewagon/lib/python3.10/site-packages/sklearn/cluster/_kmeans.py:1416: FutureWarning: The default value of `n_init` will change from 10 to 'auto' in 1.4. Set the value of `n_init` explicitly to suppress the warning\n",
      "  super()._check_params_vs_input(X, default_n_init=10)\n"
     ]
    },
    {
     "name": "stdout",
     "output_type": "stream",
     "text": [
      "working with 61 clusters...\n"
     ]
    },
    {
     "name": "stderr",
     "output_type": "stream",
     "text": [
      "/Users/youssef/.pyenv/versions/lewagon/lib/python3.10/site-packages/sklearn/cluster/_kmeans.py:1416: FutureWarning: The default value of `n_init` will change from 10 to 'auto' in 1.4. Set the value of `n_init` explicitly to suppress the warning\n",
      "  super()._check_params_vs_input(X, default_n_init=10)\n"
     ]
    },
    {
     "name": "stdout",
     "output_type": "stream",
     "text": [
      "working with 62 clusters...\n"
     ]
    },
    {
     "name": "stderr",
     "output_type": "stream",
     "text": [
      "/Users/youssef/.pyenv/versions/lewagon/lib/python3.10/site-packages/sklearn/cluster/_kmeans.py:1416: FutureWarning: The default value of `n_init` will change from 10 to 'auto' in 1.4. Set the value of `n_init` explicitly to suppress the warning\n",
      "  super()._check_params_vs_input(X, default_n_init=10)\n"
     ]
    },
    {
     "name": "stdout",
     "output_type": "stream",
     "text": [
      "working with 63 clusters...\n"
     ]
    },
    {
     "name": "stderr",
     "output_type": "stream",
     "text": [
      "/Users/youssef/.pyenv/versions/lewagon/lib/python3.10/site-packages/sklearn/cluster/_kmeans.py:1416: FutureWarning: The default value of `n_init` will change from 10 to 'auto' in 1.4. Set the value of `n_init` explicitly to suppress the warning\n",
      "  super()._check_params_vs_input(X, default_n_init=10)\n"
     ]
    },
    {
     "name": "stdout",
     "output_type": "stream",
     "text": [
      "working with 64 clusters...\n"
     ]
    },
    {
     "name": "stderr",
     "output_type": "stream",
     "text": [
      "/Users/youssef/.pyenv/versions/lewagon/lib/python3.10/site-packages/sklearn/cluster/_kmeans.py:1416: FutureWarning: The default value of `n_init` will change from 10 to 'auto' in 1.4. Set the value of `n_init` explicitly to suppress the warning\n",
      "  super()._check_params_vs_input(X, default_n_init=10)\n"
     ]
    },
    {
     "name": "stdout",
     "output_type": "stream",
     "text": [
      "working with 65 clusters...\n"
     ]
    },
    {
     "name": "stderr",
     "output_type": "stream",
     "text": [
      "/Users/youssef/.pyenv/versions/lewagon/lib/python3.10/site-packages/sklearn/cluster/_kmeans.py:1416: FutureWarning: The default value of `n_init` will change from 10 to 'auto' in 1.4. Set the value of `n_init` explicitly to suppress the warning\n",
      "  super()._check_params_vs_input(X, default_n_init=10)\n"
     ]
    },
    {
     "name": "stdout",
     "output_type": "stream",
     "text": [
      "working with 66 clusters...\n"
     ]
    },
    {
     "name": "stderr",
     "output_type": "stream",
     "text": [
      "/Users/youssef/.pyenv/versions/lewagon/lib/python3.10/site-packages/sklearn/cluster/_kmeans.py:1416: FutureWarning: The default value of `n_init` will change from 10 to 'auto' in 1.4. Set the value of `n_init` explicitly to suppress the warning\n",
      "  super()._check_params_vs_input(X, default_n_init=10)\n"
     ]
    },
    {
     "name": "stdout",
     "output_type": "stream",
     "text": [
      "working with 67 clusters...\n"
     ]
    },
    {
     "name": "stderr",
     "output_type": "stream",
     "text": [
      "/Users/youssef/.pyenv/versions/lewagon/lib/python3.10/site-packages/sklearn/cluster/_kmeans.py:1416: FutureWarning: The default value of `n_init` will change from 10 to 'auto' in 1.4. Set the value of `n_init` explicitly to suppress the warning\n",
      "  super()._check_params_vs_input(X, default_n_init=10)\n"
     ]
    },
    {
     "name": "stdout",
     "output_type": "stream",
     "text": [
      "working with 68 clusters...\n"
     ]
    },
    {
     "name": "stderr",
     "output_type": "stream",
     "text": [
      "/Users/youssef/.pyenv/versions/lewagon/lib/python3.10/site-packages/sklearn/cluster/_kmeans.py:1416: FutureWarning: The default value of `n_init` will change from 10 to 'auto' in 1.4. Set the value of `n_init` explicitly to suppress the warning\n",
      "  super()._check_params_vs_input(X, default_n_init=10)\n"
     ]
    },
    {
     "name": "stdout",
     "output_type": "stream",
     "text": [
      "working with 69 clusters...\n"
     ]
    },
    {
     "name": "stderr",
     "output_type": "stream",
     "text": [
      "/Users/youssef/.pyenv/versions/lewagon/lib/python3.10/site-packages/sklearn/cluster/_kmeans.py:1416: FutureWarning: The default value of `n_init` will change from 10 to 'auto' in 1.4. Set the value of `n_init` explicitly to suppress the warning\n",
      "  super()._check_params_vs_input(X, default_n_init=10)\n"
     ]
    },
    {
     "name": "stdout",
     "output_type": "stream",
     "text": [
      "working with 70 clusters...\n"
     ]
    },
    {
     "name": "stderr",
     "output_type": "stream",
     "text": [
      "/Users/youssef/.pyenv/versions/lewagon/lib/python3.10/site-packages/sklearn/cluster/_kmeans.py:1416: FutureWarning: The default value of `n_init` will change from 10 to 'auto' in 1.4. Set the value of `n_init` explicitly to suppress the warning\n",
      "  super()._check_params_vs_input(X, default_n_init=10)\n"
     ]
    },
    {
     "name": "stdout",
     "output_type": "stream",
     "text": [
      "working with 71 clusters...\n"
     ]
    },
    {
     "name": "stderr",
     "output_type": "stream",
     "text": [
      "/Users/youssef/.pyenv/versions/lewagon/lib/python3.10/site-packages/sklearn/cluster/_kmeans.py:1416: FutureWarning: The default value of `n_init` will change from 10 to 'auto' in 1.4. Set the value of `n_init` explicitly to suppress the warning\n",
      "  super()._check_params_vs_input(X, default_n_init=10)\n"
     ]
    },
    {
     "name": "stdout",
     "output_type": "stream",
     "text": [
      "working with 72 clusters...\n"
     ]
    },
    {
     "name": "stderr",
     "output_type": "stream",
     "text": [
      "/Users/youssef/.pyenv/versions/lewagon/lib/python3.10/site-packages/sklearn/cluster/_kmeans.py:1416: FutureWarning: The default value of `n_init` will change from 10 to 'auto' in 1.4. Set the value of `n_init` explicitly to suppress the warning\n",
      "  super()._check_params_vs_input(X, default_n_init=10)\n"
     ]
    },
    {
     "name": "stdout",
     "output_type": "stream",
     "text": [
      "working with 73 clusters...\n"
     ]
    },
    {
     "name": "stderr",
     "output_type": "stream",
     "text": [
      "/Users/youssef/.pyenv/versions/lewagon/lib/python3.10/site-packages/sklearn/cluster/_kmeans.py:1416: FutureWarning: The default value of `n_init` will change from 10 to 'auto' in 1.4. Set the value of `n_init` explicitly to suppress the warning\n",
      "  super()._check_params_vs_input(X, default_n_init=10)\n"
     ]
    },
    {
     "name": "stdout",
     "output_type": "stream",
     "text": [
      "working with 74 clusters...\n"
     ]
    },
    {
     "name": "stderr",
     "output_type": "stream",
     "text": [
      "/Users/youssef/.pyenv/versions/lewagon/lib/python3.10/site-packages/sklearn/cluster/_kmeans.py:1416: FutureWarning: The default value of `n_init` will change from 10 to 'auto' in 1.4. Set the value of `n_init` explicitly to suppress the warning\n",
      "  super()._check_params_vs_input(X, default_n_init=10)\n"
     ]
    },
    {
     "name": "stdout",
     "output_type": "stream",
     "text": [
      "working with 75 clusters...\n"
     ]
    },
    {
     "name": "stderr",
     "output_type": "stream",
     "text": [
      "/Users/youssef/.pyenv/versions/lewagon/lib/python3.10/site-packages/sklearn/cluster/_kmeans.py:1416: FutureWarning: The default value of `n_init` will change from 10 to 'auto' in 1.4. Set the value of `n_init` explicitly to suppress the warning\n",
      "  super()._check_params_vs_input(X, default_n_init=10)\n"
     ]
    },
    {
     "name": "stdout",
     "output_type": "stream",
     "text": [
      "working with 76 clusters...\n"
     ]
    },
    {
     "name": "stderr",
     "output_type": "stream",
     "text": [
      "/Users/youssef/.pyenv/versions/lewagon/lib/python3.10/site-packages/sklearn/cluster/_kmeans.py:1416: FutureWarning: The default value of `n_init` will change from 10 to 'auto' in 1.4. Set the value of `n_init` explicitly to suppress the warning\n",
      "  super()._check_params_vs_input(X, default_n_init=10)\n"
     ]
    },
    {
     "name": "stdout",
     "output_type": "stream",
     "text": [
      "working with 77 clusters...\n"
     ]
    },
    {
     "name": "stderr",
     "output_type": "stream",
     "text": [
      "/Users/youssef/.pyenv/versions/lewagon/lib/python3.10/site-packages/sklearn/cluster/_kmeans.py:1416: FutureWarning: The default value of `n_init` will change from 10 to 'auto' in 1.4. Set the value of `n_init` explicitly to suppress the warning\n",
      "  super()._check_params_vs_input(X, default_n_init=10)\n"
     ]
    },
    {
     "name": "stdout",
     "output_type": "stream",
     "text": [
      "working with 78 clusters...\n"
     ]
    },
    {
     "name": "stderr",
     "output_type": "stream",
     "text": [
      "/Users/youssef/.pyenv/versions/lewagon/lib/python3.10/site-packages/sklearn/cluster/_kmeans.py:1416: FutureWarning: The default value of `n_init` will change from 10 to 'auto' in 1.4. Set the value of `n_init` explicitly to suppress the warning\n",
      "  super()._check_params_vs_input(X, default_n_init=10)\n"
     ]
    },
    {
     "name": "stdout",
     "output_type": "stream",
     "text": [
      "working with 79 clusters...\n"
     ]
    },
    {
     "name": "stderr",
     "output_type": "stream",
     "text": [
      "/Users/youssef/.pyenv/versions/lewagon/lib/python3.10/site-packages/sklearn/cluster/_kmeans.py:1416: FutureWarning: The default value of `n_init` will change from 10 to 'auto' in 1.4. Set the value of `n_init` explicitly to suppress the warning\n",
      "  super()._check_params_vs_input(X, default_n_init=10)\n"
     ]
    },
    {
     "name": "stdout",
     "output_type": "stream",
     "text": [
      "working with 80 clusters...\n"
     ]
    },
    {
     "name": "stderr",
     "output_type": "stream",
     "text": [
      "/Users/youssef/.pyenv/versions/lewagon/lib/python3.10/site-packages/sklearn/cluster/_kmeans.py:1416: FutureWarning: The default value of `n_init` will change from 10 to 'auto' in 1.4. Set the value of `n_init` explicitly to suppress the warning\n",
      "  super()._check_params_vs_input(X, default_n_init=10)\n"
     ]
    },
    {
     "name": "stdout",
     "output_type": "stream",
     "text": [
      "working with 81 clusters...\n"
     ]
    },
    {
     "name": "stderr",
     "output_type": "stream",
     "text": [
      "/Users/youssef/.pyenv/versions/lewagon/lib/python3.10/site-packages/sklearn/cluster/_kmeans.py:1416: FutureWarning: The default value of `n_init` will change from 10 to 'auto' in 1.4. Set the value of `n_init` explicitly to suppress the warning\n",
      "  super()._check_params_vs_input(X, default_n_init=10)\n"
     ]
    },
    {
     "name": "stdout",
     "output_type": "stream",
     "text": [
      "working with 82 clusters...\n"
     ]
    },
    {
     "name": "stderr",
     "output_type": "stream",
     "text": [
      "/Users/youssef/.pyenv/versions/lewagon/lib/python3.10/site-packages/sklearn/cluster/_kmeans.py:1416: FutureWarning: The default value of `n_init` will change from 10 to 'auto' in 1.4. Set the value of `n_init` explicitly to suppress the warning\n",
      "  super()._check_params_vs_input(X, default_n_init=10)\n"
     ]
    },
    {
     "name": "stdout",
     "output_type": "stream",
     "text": [
      "working with 83 clusters...\n"
     ]
    },
    {
     "name": "stderr",
     "output_type": "stream",
     "text": [
      "/Users/youssef/.pyenv/versions/lewagon/lib/python3.10/site-packages/sklearn/cluster/_kmeans.py:1416: FutureWarning: The default value of `n_init` will change from 10 to 'auto' in 1.4. Set the value of `n_init` explicitly to suppress the warning\n",
      "  super()._check_params_vs_input(X, default_n_init=10)\n"
     ]
    },
    {
     "name": "stdout",
     "output_type": "stream",
     "text": [
      "working with 84 clusters...\n"
     ]
    },
    {
     "name": "stderr",
     "output_type": "stream",
     "text": [
      "/Users/youssef/.pyenv/versions/lewagon/lib/python3.10/site-packages/sklearn/cluster/_kmeans.py:1416: FutureWarning: The default value of `n_init` will change from 10 to 'auto' in 1.4. Set the value of `n_init` explicitly to suppress the warning\n",
      "  super()._check_params_vs_input(X, default_n_init=10)\n"
     ]
    },
    {
     "name": "stdout",
     "output_type": "stream",
     "text": [
      "working with 85 clusters...\n"
     ]
    },
    {
     "name": "stderr",
     "output_type": "stream",
     "text": [
      "/Users/youssef/.pyenv/versions/lewagon/lib/python3.10/site-packages/sklearn/cluster/_kmeans.py:1416: FutureWarning: The default value of `n_init` will change from 10 to 'auto' in 1.4. Set the value of `n_init` explicitly to suppress the warning\n",
      "  super()._check_params_vs_input(X, default_n_init=10)\n"
     ]
    },
    {
     "name": "stdout",
     "output_type": "stream",
     "text": [
      "working with 86 clusters...\n"
     ]
    },
    {
     "name": "stderr",
     "output_type": "stream",
     "text": [
      "/Users/youssef/.pyenv/versions/lewagon/lib/python3.10/site-packages/sklearn/cluster/_kmeans.py:1416: FutureWarning: The default value of `n_init` will change from 10 to 'auto' in 1.4. Set the value of `n_init` explicitly to suppress the warning\n",
      "  super()._check_params_vs_input(X, default_n_init=10)\n"
     ]
    },
    {
     "name": "stdout",
     "output_type": "stream",
     "text": [
      "working with 87 clusters...\n"
     ]
    },
    {
     "name": "stderr",
     "output_type": "stream",
     "text": [
      "/Users/youssef/.pyenv/versions/lewagon/lib/python3.10/site-packages/sklearn/cluster/_kmeans.py:1416: FutureWarning: The default value of `n_init` will change from 10 to 'auto' in 1.4. Set the value of `n_init` explicitly to suppress the warning\n",
      "  super()._check_params_vs_input(X, default_n_init=10)\n"
     ]
    },
    {
     "name": "stdout",
     "output_type": "stream",
     "text": [
      "working with 88 clusters...\n"
     ]
    },
    {
     "name": "stderr",
     "output_type": "stream",
     "text": [
      "/Users/youssef/.pyenv/versions/lewagon/lib/python3.10/site-packages/sklearn/cluster/_kmeans.py:1416: FutureWarning: The default value of `n_init` will change from 10 to 'auto' in 1.4. Set the value of `n_init` explicitly to suppress the warning\n",
      "  super()._check_params_vs_input(X, default_n_init=10)\n"
     ]
    },
    {
     "name": "stdout",
     "output_type": "stream",
     "text": [
      "working with 89 clusters...\n"
     ]
    },
    {
     "name": "stderr",
     "output_type": "stream",
     "text": [
      "/Users/youssef/.pyenv/versions/lewagon/lib/python3.10/site-packages/sklearn/cluster/_kmeans.py:1416: FutureWarning: The default value of `n_init` will change from 10 to 'auto' in 1.4. Set the value of `n_init` explicitly to suppress the warning\n",
      "  super()._check_params_vs_input(X, default_n_init=10)\n"
     ]
    },
    {
     "name": "stdout",
     "output_type": "stream",
     "text": [
      "working with 90 clusters...\n"
     ]
    },
    {
     "name": "stderr",
     "output_type": "stream",
     "text": [
      "/Users/youssef/.pyenv/versions/lewagon/lib/python3.10/site-packages/sklearn/cluster/_kmeans.py:1416: FutureWarning: The default value of `n_init` will change from 10 to 'auto' in 1.4. Set the value of `n_init` explicitly to suppress the warning\n",
      "  super()._check_params_vs_input(X, default_n_init=10)\n"
     ]
    },
    {
     "name": "stdout",
     "output_type": "stream",
     "text": [
      "working with 91 clusters...\n"
     ]
    },
    {
     "name": "stderr",
     "output_type": "stream",
     "text": [
      "/Users/youssef/.pyenv/versions/lewagon/lib/python3.10/site-packages/sklearn/cluster/_kmeans.py:1416: FutureWarning: The default value of `n_init` will change from 10 to 'auto' in 1.4. Set the value of `n_init` explicitly to suppress the warning\n",
      "  super()._check_params_vs_input(X, default_n_init=10)\n"
     ]
    },
    {
     "name": "stdout",
     "output_type": "stream",
     "text": [
      "working with 92 clusters...\n"
     ]
    },
    {
     "name": "stderr",
     "output_type": "stream",
     "text": [
      "/Users/youssef/.pyenv/versions/lewagon/lib/python3.10/site-packages/sklearn/cluster/_kmeans.py:1416: FutureWarning: The default value of `n_init` will change from 10 to 'auto' in 1.4. Set the value of `n_init` explicitly to suppress the warning\n",
      "  super()._check_params_vs_input(X, default_n_init=10)\n"
     ]
    },
    {
     "name": "stdout",
     "output_type": "stream",
     "text": [
      "working with 93 clusters...\n"
     ]
    },
    {
     "name": "stderr",
     "output_type": "stream",
     "text": [
      "/Users/youssef/.pyenv/versions/lewagon/lib/python3.10/site-packages/sklearn/cluster/_kmeans.py:1416: FutureWarning: The default value of `n_init` will change from 10 to 'auto' in 1.4. Set the value of `n_init` explicitly to suppress the warning\n",
      "  super()._check_params_vs_input(X, default_n_init=10)\n"
     ]
    },
    {
     "name": "stdout",
     "output_type": "stream",
     "text": [
      "working with 94 clusters...\n"
     ]
    },
    {
     "name": "stderr",
     "output_type": "stream",
     "text": [
      "/Users/youssef/.pyenv/versions/lewagon/lib/python3.10/site-packages/sklearn/cluster/_kmeans.py:1416: FutureWarning: The default value of `n_init` will change from 10 to 'auto' in 1.4. Set the value of `n_init` explicitly to suppress the warning\n",
      "  super()._check_params_vs_input(X, default_n_init=10)\n"
     ]
    },
    {
     "name": "stdout",
     "output_type": "stream",
     "text": [
      "working with 95 clusters...\n"
     ]
    },
    {
     "name": "stderr",
     "output_type": "stream",
     "text": [
      "/Users/youssef/.pyenv/versions/lewagon/lib/python3.10/site-packages/sklearn/cluster/_kmeans.py:1416: FutureWarning: The default value of `n_init` will change from 10 to 'auto' in 1.4. Set the value of `n_init` explicitly to suppress the warning\n",
      "  super()._check_params_vs_input(X, default_n_init=10)\n"
     ]
    },
    {
     "name": "stdout",
     "output_type": "stream",
     "text": [
      "working with 96 clusters...\n"
     ]
    },
    {
     "name": "stderr",
     "output_type": "stream",
     "text": [
      "/Users/youssef/.pyenv/versions/lewagon/lib/python3.10/site-packages/sklearn/cluster/_kmeans.py:1416: FutureWarning: The default value of `n_init` will change from 10 to 'auto' in 1.4. Set the value of `n_init` explicitly to suppress the warning\n",
      "  super()._check_params_vs_input(X, default_n_init=10)\n"
     ]
    },
    {
     "name": "stdout",
     "output_type": "stream",
     "text": [
      "working with 97 clusters...\n"
     ]
    },
    {
     "name": "stderr",
     "output_type": "stream",
     "text": [
      "/Users/youssef/.pyenv/versions/lewagon/lib/python3.10/site-packages/sklearn/cluster/_kmeans.py:1416: FutureWarning: The default value of `n_init` will change from 10 to 'auto' in 1.4. Set the value of `n_init` explicitly to suppress the warning\n",
      "  super()._check_params_vs_input(X, default_n_init=10)\n"
     ]
    },
    {
     "name": "stdout",
     "output_type": "stream",
     "text": [
      "working with 98 clusters...\n"
     ]
    },
    {
     "name": "stderr",
     "output_type": "stream",
     "text": [
      "/Users/youssef/.pyenv/versions/lewagon/lib/python3.10/site-packages/sklearn/cluster/_kmeans.py:1416: FutureWarning: The default value of `n_init` will change from 10 to 'auto' in 1.4. Set the value of `n_init` explicitly to suppress the warning\n",
      "  super()._check_params_vs_input(X, default_n_init=10)\n"
     ]
    },
    {
     "name": "stdout",
     "output_type": "stream",
     "text": [
      "working with 99 clusters...\n"
     ]
    },
    {
     "name": "stderr",
     "output_type": "stream",
     "text": [
      "/Users/youssef/.pyenv/versions/lewagon/lib/python3.10/site-packages/sklearn/cluster/_kmeans.py:1416: FutureWarning: The default value of `n_init` will change from 10 to 'auto' in 1.4. Set the value of `n_init` explicitly to suppress the warning\n",
      "  super()._check_params_vs_input(X, default_n_init=10)\n"
     ]
    },
    {
     "name": "stdout",
     "output_type": "stream",
     "text": [
      "working with 100 clusters...\n"
     ]
    },
    {
     "name": "stderr",
     "output_type": "stream",
     "text": [
      "/Users/youssef/.pyenv/versions/lewagon/lib/python3.10/site-packages/sklearn/cluster/_kmeans.py:1416: FutureWarning: The default value of `n_init` will change from 10 to 'auto' in 1.4. Set the value of `n_init` explicitly to suppress the warning\n",
      "  super()._check_params_vs_input(X, default_n_init=10)\n"
     ]
    },
    {
     "name": "stdout",
     "output_type": "stream",
     "text": [
      "working with 101 clusters...\n"
     ]
    },
    {
     "name": "stderr",
     "output_type": "stream",
     "text": [
      "/Users/youssef/.pyenv/versions/lewagon/lib/python3.10/site-packages/sklearn/cluster/_kmeans.py:1416: FutureWarning: The default value of `n_init` will change from 10 to 'auto' in 1.4. Set the value of `n_init` explicitly to suppress the warning\n",
      "  super()._check_params_vs_input(X, default_n_init=10)\n"
     ]
    },
    {
     "name": "stdout",
     "output_type": "stream",
     "text": [
      "working with 102 clusters...\n"
     ]
    },
    {
     "name": "stderr",
     "output_type": "stream",
     "text": [
      "/Users/youssef/.pyenv/versions/lewagon/lib/python3.10/site-packages/sklearn/cluster/_kmeans.py:1416: FutureWarning: The default value of `n_init` will change from 10 to 'auto' in 1.4. Set the value of `n_init` explicitly to suppress the warning\n",
      "  super()._check_params_vs_input(X, default_n_init=10)\n"
     ]
    },
    {
     "name": "stdout",
     "output_type": "stream",
     "text": [
      "working with 103 clusters...\n"
     ]
    },
    {
     "name": "stderr",
     "output_type": "stream",
     "text": [
      "/Users/youssef/.pyenv/versions/lewagon/lib/python3.10/site-packages/sklearn/cluster/_kmeans.py:1416: FutureWarning: The default value of `n_init` will change from 10 to 'auto' in 1.4. Set the value of `n_init` explicitly to suppress the warning\n",
      "  super()._check_params_vs_input(X, default_n_init=10)\n"
     ]
    },
    {
     "name": "stdout",
     "output_type": "stream",
     "text": [
      "working with 104 clusters...\n"
     ]
    },
    {
     "name": "stderr",
     "output_type": "stream",
     "text": [
      "/Users/youssef/.pyenv/versions/lewagon/lib/python3.10/site-packages/sklearn/cluster/_kmeans.py:1416: FutureWarning: The default value of `n_init` will change from 10 to 'auto' in 1.4. Set the value of `n_init` explicitly to suppress the warning\n",
      "  super()._check_params_vs_input(X, default_n_init=10)\n"
     ]
    },
    {
     "name": "stdout",
     "output_type": "stream",
     "text": [
      "working with 105 clusters...\n"
     ]
    },
    {
     "name": "stderr",
     "output_type": "stream",
     "text": [
      "/Users/youssef/.pyenv/versions/lewagon/lib/python3.10/site-packages/sklearn/cluster/_kmeans.py:1416: FutureWarning: The default value of `n_init` will change from 10 to 'auto' in 1.4. Set the value of `n_init` explicitly to suppress the warning\n",
      "  super()._check_params_vs_input(X, default_n_init=10)\n"
     ]
    },
    {
     "name": "stdout",
     "output_type": "stream",
     "text": [
      "working with 106 clusters...\n"
     ]
    },
    {
     "name": "stderr",
     "output_type": "stream",
     "text": [
      "/Users/youssef/.pyenv/versions/lewagon/lib/python3.10/site-packages/sklearn/cluster/_kmeans.py:1416: FutureWarning: The default value of `n_init` will change from 10 to 'auto' in 1.4. Set the value of `n_init` explicitly to suppress the warning\n",
      "  super()._check_params_vs_input(X, default_n_init=10)\n"
     ]
    },
    {
     "name": "stdout",
     "output_type": "stream",
     "text": [
      "working with 107 clusters...\n"
     ]
    },
    {
     "name": "stderr",
     "output_type": "stream",
     "text": [
      "/Users/youssef/.pyenv/versions/lewagon/lib/python3.10/site-packages/sklearn/cluster/_kmeans.py:1416: FutureWarning: The default value of `n_init` will change from 10 to 'auto' in 1.4. Set the value of `n_init` explicitly to suppress the warning\n",
      "  super()._check_params_vs_input(X, default_n_init=10)\n"
     ]
    },
    {
     "name": "stdout",
     "output_type": "stream",
     "text": [
      "working with 108 clusters...\n"
     ]
    },
    {
     "name": "stderr",
     "output_type": "stream",
     "text": [
      "/Users/youssef/.pyenv/versions/lewagon/lib/python3.10/site-packages/sklearn/cluster/_kmeans.py:1416: FutureWarning: The default value of `n_init` will change from 10 to 'auto' in 1.4. Set the value of `n_init` explicitly to suppress the warning\n",
      "  super()._check_params_vs_input(X, default_n_init=10)\n"
     ]
    },
    {
     "name": "stdout",
     "output_type": "stream",
     "text": [
      "working with 109 clusters...\n"
     ]
    },
    {
     "name": "stderr",
     "output_type": "stream",
     "text": [
      "/Users/youssef/.pyenv/versions/lewagon/lib/python3.10/site-packages/sklearn/cluster/_kmeans.py:1416: FutureWarning: The default value of `n_init` will change from 10 to 'auto' in 1.4. Set the value of `n_init` explicitly to suppress the warning\n",
      "  super()._check_params_vs_input(X, default_n_init=10)\n"
     ]
    },
    {
     "name": "stdout",
     "output_type": "stream",
     "text": [
      "working with 110 clusters...\n"
     ]
    },
    {
     "name": "stderr",
     "output_type": "stream",
     "text": [
      "/Users/youssef/.pyenv/versions/lewagon/lib/python3.10/site-packages/sklearn/cluster/_kmeans.py:1416: FutureWarning: The default value of `n_init` will change from 10 to 'auto' in 1.4. Set the value of `n_init` explicitly to suppress the warning\n",
      "  super()._check_params_vs_input(X, default_n_init=10)\n"
     ]
    },
    {
     "name": "stdout",
     "output_type": "stream",
     "text": [
      "working with 111 clusters...\n"
     ]
    },
    {
     "name": "stderr",
     "output_type": "stream",
     "text": [
      "/Users/youssef/.pyenv/versions/lewagon/lib/python3.10/site-packages/sklearn/cluster/_kmeans.py:1416: FutureWarning: The default value of `n_init` will change from 10 to 'auto' in 1.4. Set the value of `n_init` explicitly to suppress the warning\n",
      "  super()._check_params_vs_input(X, default_n_init=10)\n"
     ]
    },
    {
     "name": "stdout",
     "output_type": "stream",
     "text": [
      "working with 112 clusters...\n"
     ]
    },
    {
     "name": "stderr",
     "output_type": "stream",
     "text": [
      "/Users/youssef/.pyenv/versions/lewagon/lib/python3.10/site-packages/sklearn/cluster/_kmeans.py:1416: FutureWarning: The default value of `n_init` will change from 10 to 'auto' in 1.4. Set the value of `n_init` explicitly to suppress the warning\n",
      "  super()._check_params_vs_input(X, default_n_init=10)\n"
     ]
    },
    {
     "name": "stdout",
     "output_type": "stream",
     "text": [
      "working with 113 clusters...\n"
     ]
    },
    {
     "name": "stderr",
     "output_type": "stream",
     "text": [
      "/Users/youssef/.pyenv/versions/lewagon/lib/python3.10/site-packages/sklearn/cluster/_kmeans.py:1416: FutureWarning: The default value of `n_init` will change from 10 to 'auto' in 1.4. Set the value of `n_init` explicitly to suppress the warning\n",
      "  super()._check_params_vs_input(X, default_n_init=10)\n"
     ]
    },
    {
     "name": "stdout",
     "output_type": "stream",
     "text": [
      "working with 114 clusters...\n"
     ]
    },
    {
     "name": "stderr",
     "output_type": "stream",
     "text": [
      "/Users/youssef/.pyenv/versions/lewagon/lib/python3.10/site-packages/sklearn/cluster/_kmeans.py:1416: FutureWarning: The default value of `n_init` will change from 10 to 'auto' in 1.4. Set the value of `n_init` explicitly to suppress the warning\n",
      "  super()._check_params_vs_input(X, default_n_init=10)\n"
     ]
    },
    {
     "name": "stdout",
     "output_type": "stream",
     "text": [
      "DONE !\n"
     ]
    }
   ],
   "source": [
    "# Apply the elbow method to find the optimal number of clusters.\n",
    "\n",
    "wcss = []\n",
    "\n",
    "for K in nb_clusters_to_try:\n",
    "    print('working with ' + str(K) + ' clusters...', flush=True)\n",
    "    kmeans = KMeans(n_clusters = K)\n",
    "    kmeans.fit(X_proj)\n",
    "    wcss.append(kmeans.inertia_)\n",
    "print(\"DONE !\")"
   ]
  },
  {
   "cell_type": "code",
   "execution_count": 96,
   "metadata": {},
   "outputs": [
    {
     "data": {
      "image/png": "[encoded data removed]",
      "text/plain": [
       "<Figure size 2000x1000 with 1 Axes>"
      ]
     },
     "metadata": {},
     "output_type": "display_data"
    }
   ],
   "source": [
    "with plt.style.context('fast'):\n",
    "    # figsize\n",
    "    plt.figure(figsize=(20,10))\n",
    "    # getting axes\n",
    "    ax = plt.gca()\n",
    "    # plotting\n",
    "    ax.plot(nb_clusters_to_try, wcss,color=\"blue\",linestyle=\":\",marker=\"D\",label=\"Inertia\")\n",
    "    # customizing\n",
    "    ax.legend(loc=\"upper right\")\n",
    "    ax.set_title('The Elbow Method')\n",
    "    ax.set_xticks(nb_clusters_to_try)\n",
    "    ax.set_xlabel('Number of clusters')\n",
    "    ax.set_ylabel('Within-Cluster Sums of Squares')\n",
    "    # annotate\n",
    "\n",
    "\n",
    "    ax.grid(axis=\"y\",linewidth=0.5)\n",
    "    plt.show()"
   ]
  },
  {
   "cell_type": "code",
   "execution_count": 141,
   "metadata": {},
   "outputs": [],
   "source": [
    "kmeans_114 = KMeans(n_clusters = 114)\n",
    "kmeans_114.fit(X_proj)\n",
    "labelling_114 = kmeans_114.labels_"
   ]
  },
  {
   "cell_type": "code",
   "execution_count": 143,
   "metadata": {},
   "outputs": [
    {
     "data": {
      "text/html": [
       "<div>\n",
       "<style scoped>\n",
       "    .dataframe tbody tr th:only-of-type {\n",
       "        vertical-align: middle;\n",
       "    }\n",
       "\n",
       "    .dataframe tbody tr th {\n",
       "        vertical-align: top;\n",
       "    }\n",
       "\n",
       "    .dataframe thead th {\n",
       "        text-align: right;\n",
       "    }\n",
       "</style>\n",
       "<table border=\"1\" class=\"dataframe\">\n",
       "  <thead>\n",
       "    <tr style=\"text-align: right;\">\n",
       "      <th></th>\n",
       "      <th>track_name</th>\n",
       "      <th>artists</th>\n",
       "      <th>track_id</th>\n",
       "      <th>album_name</th>\n",
       "      <th>popularity</th>\n",
       "      <th>duration_ms</th>\n",
       "      <th>explicit</th>\n",
       "      <th>danceability</th>\n",
       "      <th>energy</th>\n",
       "      <th>key</th>\n",
       "      <th>...</th>\n",
       "      <th>mode</th>\n",
       "      <th>speechiness</th>\n",
       "      <th>acousticness</th>\n",
       "      <th>instrumentalness</th>\n",
       "      <th>liveness</th>\n",
       "      <th>valence</th>\n",
       "      <th>tempo</th>\n",
       "      <th>time_signature</th>\n",
       "      <th>track_genre</th>\n",
       "      <th>label</th>\n",
       "    </tr>\n",
       "  </thead>\n",
       "  <tbody>\n",
       "    <tr>\n",
       "      <th>5214</th>\n",
       "      <td>automobile</td>\n",
       "      <td>kaleo</td>\n",
       "      <td>5IL61OxHy3t9W42qZOnw3m</td>\n",
       "      <td>All Bops</td>\n",
       "      <td>1</td>\n",
       "      <td>186906</td>\n",
       "      <td>False</td>\n",
       "      <td>0.692</td>\n",
       "      <td>0.5530</td>\n",
       "      <td>2</td>\n",
       "      <td>...</td>\n",
       "      <td>1</td>\n",
       "      <td>0.0389</td>\n",
       "      <td>0.596</td>\n",
       "      <td>0.000030</td>\n",
       "      <td>0.3050</td>\n",
       "      <td>0.3560</td>\n",
       "      <td>125.903</td>\n",
       "      <td>4</td>\n",
       "      <td>indie</td>\n",
       "      <td>3</td>\n",
       "    </tr>\n",
       "    <tr>\n",
       "      <th>5226</th>\n",
       "      <td>autumn</td>\n",
       "      <td>paolo nutini</td>\n",
       "      <td>2RVWKbMCQwaIAJS5FXNanZ</td>\n",
       "      <td>Autumn Hits</td>\n",
       "      <td>2</td>\n",
       "      <td>170240</td>\n",
       "      <td>False</td>\n",
       "      <td>0.599</td>\n",
       "      <td>0.0854</td>\n",
       "      <td>9</td>\n",
       "      <td>...</td>\n",
       "      <td>1</td>\n",
       "      <td>0.0414</td>\n",
       "      <td>0.978</td>\n",
       "      <td>0.000080</td>\n",
       "      <td>0.0858</td>\n",
       "      <td>0.3230</td>\n",
       "      <td>111.954</td>\n",
       "      <td>4</td>\n",
       "      <td>soul</td>\n",
       "      <td>3</td>\n",
       "    </tr>\n",
       "    <tr>\n",
       "      <th>12093</th>\n",
       "      <td>coffee time</td>\n",
       "      <td>natalie cole</td>\n",
       "      <td>0VXJD6Gf5pUmEvMdvgcuBM</td>\n",
       "      <td>Coffee Break</td>\n",
       "      <td>1</td>\n",
       "      <td>148333</td>\n",
       "      <td>False</td>\n",
       "      <td>0.748</td>\n",
       "      <td>0.3100</td>\n",
       "      <td>8</td>\n",
       "      <td>...</td>\n",
       "      <td>1</td>\n",
       "      <td>0.0448</td>\n",
       "      <td>0.488</td>\n",
       "      <td>0.000000</td>\n",
       "      <td>0.1360</td>\n",
       "      <td>0.4990</td>\n",
       "      <td>129.924</td>\n",
       "      <td>4</td>\n",
       "      <td>soul</td>\n",
       "      <td>3</td>\n",
       "    </tr>\n",
       "    <tr>\n",
       "      <th>14008</th>\n",
       "      <td>damn love</td>\n",
       "      <td>the dirt drifters</td>\n",
       "      <td>37BsVvcowpcSncSooQPVCg</td>\n",
       "      <td>Origins (Demos, Vol. 1)</td>\n",
       "      <td>9</td>\n",
       "      <td>187193</td>\n",
       "      <td>False</td>\n",
       "      <td>0.667</td>\n",
       "      <td>0.4080</td>\n",
       "      <td>3</td>\n",
       "      <td>...</td>\n",
       "      <td>1</td>\n",
       "      <td>0.0331</td>\n",
       "      <td>0.379</td>\n",
       "      <td>0.000360</td>\n",
       "      <td>0.1160</td>\n",
       "      <td>0.4030</td>\n",
       "      <td>120.965</td>\n",
       "      <td>4</td>\n",
       "      <td>honky-tonk</td>\n",
       "      <td>3</td>\n",
       "    </tr>\n",
       "    <tr>\n",
       "      <th>14120</th>\n",
       "      <td>dancing in the dark</td>\n",
       "      <td>juanes</td>\n",
       "      <td>0N8d25eR5OMLON40UYIukg</td>\n",
       "      <td>tardes tranqui</td>\n",
       "      <td>1</td>\n",
       "      <td>244680</td>\n",
       "      <td>False</td>\n",
       "      <td>0.629</td>\n",
       "      <td>0.4860</td>\n",
       "      <td>8</td>\n",
       "      <td>...</td>\n",
       "      <td>1</td>\n",
       "      <td>0.0305</td>\n",
       "      <td>0.497</td>\n",
       "      <td>0.000000</td>\n",
       "      <td>0.1170</td>\n",
       "      <td>0.3820</td>\n",
       "      <td>122.011</td>\n",
       "      <td>4</td>\n",
       "      <td>rock</td>\n",
       "      <td>3</td>\n",
       "    </tr>\n",
       "    <tr>\n",
       "      <th>14273</th>\n",
       "      <td>dark side</td>\n",
       "      <td>bishop briggs</td>\n",
       "      <td>7EcqMNBI50oElY49no2wYY</td>\n",
       "      <td>LoFi &amp; Halloween</td>\n",
       "      <td>2</td>\n",
       "      <td>208773</td>\n",
       "      <td>False</td>\n",
       "      <td>0.713</td>\n",
       "      <td>0.5500</td>\n",
       "      <td>9</td>\n",
       "      <td>...</td>\n",
       "      <td>1</td>\n",
       "      <td>0.0650</td>\n",
       "      <td>0.613</td>\n",
       "      <td>0.000001</td>\n",
       "      <td>0.0887</td>\n",
       "      <td>0.1300</td>\n",
       "      <td>138.070</td>\n",
       "      <td>4</td>\n",
       "      <td>alternative</td>\n",
       "      <td>3</td>\n",
       "    </tr>\n",
       "    <tr>\n",
       "      <th>16540</th>\n",
       "      <td>doggone</td>\n",
       "      <td>tim mcgraw</td>\n",
       "      <td>6m239N2EPkMYkN5unIYT9F</td>\n",
       "      <td>Sad Country Songs</td>\n",
       "      <td>1</td>\n",
       "      <td>215906</td>\n",
       "      <td>False</td>\n",
       "      <td>0.629</td>\n",
       "      <td>0.5380</td>\n",
       "      <td>1</td>\n",
       "      <td>...</td>\n",
       "      <td>1</td>\n",
       "      <td>0.0290</td>\n",
       "      <td>0.416</td>\n",
       "      <td>0.000011</td>\n",
       "      <td>0.1070</td>\n",
       "      <td>0.3530</td>\n",
       "      <td>121.256</td>\n",
       "      <td>4</td>\n",
       "      <td>country</td>\n",
       "      <td>3</td>\n",
       "    </tr>\n",
       "    <tr>\n",
       "      <th>20192</th>\n",
       "      <td>every little thing</td>\n",
       "      <td>carly pearce</td>\n",
       "      <td>5YzfH7DTvRUf6l3ebJG0c0</td>\n",
       "      <td>Sad Country Songs</td>\n",
       "      <td>2</td>\n",
       "      <td>181053</td>\n",
       "      <td>False</td>\n",
       "      <td>0.639</td>\n",
       "      <td>0.4270</td>\n",
       "      <td>0</td>\n",
       "      <td>...</td>\n",
       "      <td>1</td>\n",
       "      <td>0.0368</td>\n",
       "      <td>0.434</td>\n",
       "      <td>0.000011</td>\n",
       "      <td>0.0903</td>\n",
       "      <td>0.3220</td>\n",
       "      <td>139.899</td>\n",
       "      <td>4</td>\n",
       "      <td>country</td>\n",
       "      <td>3</td>\n",
       "    </tr>\n",
       "    <tr>\n",
       "      <th>23423</th>\n",
       "      <td>gammi</td>\n",
       "      <td>disjecta</td>\n",
       "      <td>7AWRP5rrMaHilI2bvFXPzw</td>\n",
       "      <td>Clean Pit &amp; Lid</td>\n",
       "      <td>8</td>\n",
       "      <td>468333</td>\n",
       "      <td>False</td>\n",
       "      <td>0.715</td>\n",
       "      <td>0.3910</td>\n",
       "      <td>0</td>\n",
       "      <td>...</td>\n",
       "      <td>1</td>\n",
       "      <td>0.0562</td>\n",
       "      <td>0.307</td>\n",
       "      <td>0.042400</td>\n",
       "      <td>0.3110</td>\n",
       "      <td>0.1190</td>\n",
       "      <td>137.805</td>\n",
       "      <td>4</td>\n",
       "      <td>idm</td>\n",
       "      <td>3</td>\n",
       "    </tr>\n",
       "    <tr>\n",
       "      <th>24058</th>\n",
       "      <td>girls girls girls</td>\n",
       "      <td>fletcher</td>\n",
       "      <td>7iQeIx7Ko1Wfemi46OpQL4</td>\n",
       "      <td>Mega Hits Autumn/Fall 2022</td>\n",
       "      <td>1</td>\n",
       "      <td>161247</td>\n",
       "      <td>False</td>\n",
       "      <td>0.649</td>\n",
       "      <td>0.4780</td>\n",
       "      <td>0</td>\n",
       "      <td>...</td>\n",
       "      <td>1</td>\n",
       "      <td>0.1560</td>\n",
       "      <td>0.658</td>\n",
       "      <td>0.000000</td>\n",
       "      <td>0.1310</td>\n",
       "      <td>0.4680</td>\n",
       "      <td>139.859</td>\n",
       "      <td>4</td>\n",
       "      <td>electro</td>\n",
       "      <td>3</td>\n",
       "    </tr>\n",
       "    <tr>\n",
       "      <th>25035</th>\n",
       "      <td>green eyes</td>\n",
       "      <td>coldplay</td>\n",
       "      <td>7CsVUx8DOETj51yPK153Id</td>\n",
       "      <td>Session Acoustique</td>\n",
       "      <td>5</td>\n",
       "      <td>223040</td>\n",
       "      <td>False</td>\n",
       "      <td>0.607</td>\n",
       "      <td>0.4050</td>\n",
       "      <td>9</td>\n",
       "      <td>...</td>\n",
       "      <td>1</td>\n",
       "      <td>0.0265</td>\n",
       "      <td>0.539</td>\n",
       "      <td>0.000007</td>\n",
       "      <td>0.2310</td>\n",
       "      <td>0.2330</td>\n",
       "      <td>129.543</td>\n",
       "      <td>4</td>\n",
       "      <td>pop</td>\n",
       "      <td>3</td>\n",
       "    </tr>\n",
       "    <tr>\n",
       "      <th>27483</th>\n",
       "      <td>home</td>\n",
       "      <td>blake shelton</td>\n",
       "      <td>3GG9WXxmHL5zGm7hXwCe7L</td>\n",
       "      <td>Cuddle Up Christmas</td>\n",
       "      <td>2</td>\n",
       "      <td>230453</td>\n",
       "      <td>False</td>\n",
       "      <td>0.579</td>\n",
       "      <td>0.4430</td>\n",
       "      <td>7</td>\n",
       "      <td>...</td>\n",
       "      <td>1</td>\n",
       "      <td>0.0255</td>\n",
       "      <td>0.479</td>\n",
       "      <td>0.000003</td>\n",
       "      <td>0.1100</td>\n",
       "      <td>0.2880</td>\n",
       "      <td>127.814</td>\n",
       "      <td>4</td>\n",
       "      <td>country</td>\n",
       "      <td>3</td>\n",
       "    </tr>\n",
       "    <tr>\n",
       "      <th>27875</th>\n",
       "      <td>how can you refuse him now</td>\n",
       "      <td>hank williams;drifting cowboys</td>\n",
       "      <td>4lhN0GFwvnfAXgcJ6JRFds</td>\n",
       "      <td>The Complete Hank Williams</td>\n",
       "      <td>9</td>\n",
       "      <td>155573</td>\n",
       "      <td>False</td>\n",
       "      <td>0.527</td>\n",
       "      <td>0.1480</td>\n",
       "      <td>5</td>\n",
       "      <td>...</td>\n",
       "      <td>1</td>\n",
       "      <td>0.0285</td>\n",
       "      <td>0.923</td>\n",
       "      <td>0.000000</td>\n",
       "      <td>0.1370</td>\n",
       "      <td>0.2240</td>\n",
       "      <td>94.207</td>\n",
       "      <td>4</td>\n",
       "      <td>honky-tonk</td>\n",
       "      <td>3</td>\n",
       "    </tr>\n",
       "    <tr>\n",
       "      <th>28634</th>\n",
       "      <td>i dont fucking care</td>\n",
       "      <td>swattrex;young and broke;lofi by swattrex</td>\n",
       "      <td>7AfGHpDur5SPvUFtsKtyIV</td>\n",
       "      <td>I dont fucking care</td>\n",
       "      <td>4</td>\n",
       "      <td>262509</td>\n",
       "      <td>True</td>\n",
       "      <td>0.655</td>\n",
       "      <td>0.3440</td>\n",
       "      <td>7</td>\n",
       "      <td>...</td>\n",
       "      <td>1</td>\n",
       "      <td>0.1240</td>\n",
       "      <td>0.746</td>\n",
       "      <td>0.010900</td>\n",
       "      <td>0.1120</td>\n",
       "      <td>0.3560</td>\n",
       "      <td>128.032</td>\n",
       "      <td>4</td>\n",
       "      <td>indian</td>\n",
       "      <td>3</td>\n",
       "    </tr>\n",
       "    <tr>\n",
       "      <th>30007</th>\n",
       "      <td>if you lie down with me</td>\n",
       "      <td>lana del rey</td>\n",
       "      <td>2s694fZ36AJLuVnn3IBtFU</td>\n",
       "      <td>Herbststimmung</td>\n",
       "      <td>5</td>\n",
       "      <td>265186</td>\n",
       "      <td>False</td>\n",
       "      <td>0.641</td>\n",
       "      <td>0.3460</td>\n",
       "      <td>0</td>\n",
       "      <td>...</td>\n",
       "      <td>1</td>\n",
       "      <td>0.0360</td>\n",
       "      <td>0.913</td>\n",
       "      <td>0.000040</td>\n",
       "      <td>0.1040</td>\n",
       "      <td>0.1870</td>\n",
       "      <td>122.101</td>\n",
       "      <td>4</td>\n",
       "      <td>pop</td>\n",
       "      <td>3</td>\n",
       "    </tr>\n",
       "    <tr>\n",
       "      <th>32951</th>\n",
       "      <td>kannamma</td>\n",
       "      <td>praveen;rohan prakash;khadhijah shareef;nishit...</td>\n",
       "      <td>0yQJdXUI1sAGgMapnpqrGi</td>\n",
       "      <td>Golisoda 2 (Original Motion Picture Soundtrack)</td>\n",
       "      <td>9</td>\n",
       "      <td>269760</td>\n",
       "      <td>False</td>\n",
       "      <td>0.704</td>\n",
       "      <td>0.6220</td>\n",
       "      <td>2</td>\n",
       "      <td>...</td>\n",
       "      <td>1</td>\n",
       "      <td>0.0314</td>\n",
       "      <td>0.574</td>\n",
       "      <td>0.045400</td>\n",
       "      <td>0.0529</td>\n",
       "      <td>0.3790</td>\n",
       "      <td>132.995</td>\n",
       "      <td>4</td>\n",
       "      <td>idm</td>\n",
       "      <td>3</td>\n",
       "    </tr>\n",
       "    <tr>\n",
       "      <th>35487</th>\n",
       "      <td>let it snow</td>\n",
       "      <td>boyz ii men;brian mcknight</td>\n",
       "      <td>60ZsEbpgTbWUPvdDosRU42</td>\n",
       "      <td>Soul Christmas Greatest Hits</td>\n",
       "      <td>1</td>\n",
       "      <td>249520</td>\n",
       "      <td>False</td>\n",
       "      <td>0.694</td>\n",
       "      <td>0.4660</td>\n",
       "      <td>0</td>\n",
       "      <td>...</td>\n",
       "      <td>1</td>\n",
       "      <td>0.0374</td>\n",
       "      <td>0.715</td>\n",
       "      <td>0.000018</td>\n",
       "      <td>0.4380</td>\n",
       "      <td>0.5740</td>\n",
       "      <td>124.380</td>\n",
       "      <td>4</td>\n",
       "      <td>r-n-b</td>\n",
       "      <td>3</td>\n",
       "    </tr>\n",
       "    <tr>\n",
       "      <th>35904</th>\n",
       "      <td>life on mars? (uncut)</td>\n",
       "      <td>seal</td>\n",
       "      <td>7vcsHyOSrRgnFE5z9geman</td>\n",
       "      <td>Session Acoustique</td>\n",
       "      <td>1</td>\n",
       "      <td>236440</td>\n",
       "      <td>False</td>\n",
       "      <td>0.718</td>\n",
       "      <td>0.2930</td>\n",
       "      <td>3</td>\n",
       "      <td>...</td>\n",
       "      <td>1</td>\n",
       "      <td>0.0546</td>\n",
       "      <td>0.753</td>\n",
       "      <td>0.000000</td>\n",
       "      <td>0.1320</td>\n",
       "      <td>0.2330</td>\n",
       "      <td>109.446</td>\n",
       "      <td>4</td>\n",
       "      <td>soul</td>\n",
       "      <td>3</td>\n",
       "    </tr>\n",
       "    <tr>\n",
       "      <th>36313</th>\n",
       "      <td>little drummer boy</td>\n",
       "      <td>faith hill</td>\n",
       "      <td>6WbRhuDhbFXIqKcqOFYEcG</td>\n",
       "      <td>Country Christmas Time</td>\n",
       "      <td>1</td>\n",
       "      <td>185960</td>\n",
       "      <td>False</td>\n",
       "      <td>0.617</td>\n",
       "      <td>0.0774</td>\n",
       "      <td>4</td>\n",
       "      <td>...</td>\n",
       "      <td>1</td>\n",
       "      <td>0.0490</td>\n",
       "      <td>0.948</td>\n",
       "      <td>0.000002</td>\n",
       "      <td>0.1090</td>\n",
       "      <td>0.2510</td>\n",
       "      <td>120.234</td>\n",
       "      <td>4</td>\n",
       "      <td>country</td>\n",
       "      <td>3</td>\n",
       "    </tr>\n",
       "    <tr>\n",
       "      <th>36481</th>\n",
       "      <td>llegaste tú</td>\n",
       "      <td>luis fonsi;juan luis guerra</td>\n",
       "      <td>0sBzVSBpA9MmQDkMNs339d</td>\n",
       "      <td>tardes tranqui</td>\n",
       "      <td>1</td>\n",
       "      <td>221946</td>\n",
       "      <td>False</td>\n",
       "      <td>0.759</td>\n",
       "      <td>0.5270</td>\n",
       "      <td>1</td>\n",
       "      <td>...</td>\n",
       "      <td>1</td>\n",
       "      <td>0.0438</td>\n",
       "      <td>0.749</td>\n",
       "      <td>0.000000</td>\n",
       "      <td>0.1570</td>\n",
       "      <td>0.4820</td>\n",
       "      <td>119.936</td>\n",
       "      <td>4</td>\n",
       "      <td>latin</td>\n",
       "      <td>3</td>\n",
       "    </tr>\n",
       "    <tr>\n",
       "      <th>36953</th>\n",
       "      <td>lose you to love me</td>\n",
       "      <td>selena gomez</td>\n",
       "      <td>5uBYhOCQC4NpqmnCgfzFw4</td>\n",
       "      <td>REGNIG DAG</td>\n",
       "      <td>1</td>\n",
       "      <td>206458</td>\n",
       "      <td>False</td>\n",
       "      <td>0.516</td>\n",
       "      <td>0.3420</td>\n",
       "      <td>4</td>\n",
       "      <td>...</td>\n",
       "      <td>1</td>\n",
       "      <td>0.0425</td>\n",
       "      <td>0.550</td>\n",
       "      <td>0.000000</td>\n",
       "      <td>0.2100</td>\n",
       "      <td>0.0993</td>\n",
       "      <td>102.819</td>\n",
       "      <td>4</td>\n",
       "      <td>dance</td>\n",
       "      <td>3</td>\n",
       "    </tr>\n",
       "    <tr>\n",
       "      <th>40465</th>\n",
       "      <td>ming</td>\n",
       "      <td>b12</td>\n",
       "      <td>3dOEfI9Ohejs2CLqGUOybc</td>\n",
       "      <td>Electro-Soma II</td>\n",
       "      <td>9</td>\n",
       "      <td>130456</td>\n",
       "      <td>False</td>\n",
       "      <td>0.712</td>\n",
       "      <td>0.1790</td>\n",
       "      <td>4</td>\n",
       "      <td>...</td>\n",
       "      <td>1</td>\n",
       "      <td>0.1530</td>\n",
       "      <td>0.928</td>\n",
       "      <td>0.272000</td>\n",
       "      <td>0.1070</td>\n",
       "      <td>0.3980</td>\n",
       "      <td>135.117</td>\n",
       "      <td>4</td>\n",
       "      <td>idm</td>\n",
       "      <td>3</td>\n",
       "    </tr>\n",
       "    <tr>\n",
       "      <th>43032</th>\n",
       "      <td>never had a lover</td>\n",
       "      <td>keith sweat</td>\n",
       "      <td>4qjZvv4RX5JlfPLuEUL2HK</td>\n",
       "      <td>21st Century Soul Grooves &amp; Slow Jams</td>\n",
       "      <td>1</td>\n",
       "      <td>221906</td>\n",
       "      <td>False</td>\n",
       "      <td>0.697</td>\n",
       "      <td>0.4450</td>\n",
       "      <td>9</td>\n",
       "      <td>...</td>\n",
       "      <td>1</td>\n",
       "      <td>0.0426</td>\n",
       "      <td>0.279</td>\n",
       "      <td>0.000000</td>\n",
       "      <td>0.1260</td>\n",
       "      <td>0.4290</td>\n",
       "      <td>119.913</td>\n",
       "      <td>4</td>\n",
       "      <td>soul</td>\n",
       "      <td>3</td>\n",
       "    </tr>\n",
       "    <tr>\n",
       "      <th>51336</th>\n",
       "      <td>real thing</td>\n",
       "      <td>pink sweat$;tori kelly</td>\n",
       "      <td>2Cv9iOD22UTRwaDluwebKx</td>\n",
       "      <td>Midnight Music</td>\n",
       "      <td>1</td>\n",
       "      <td>195368</td>\n",
       "      <td>False</td>\n",
       "      <td>0.615</td>\n",
       "      <td>0.3220</td>\n",
       "      <td>1</td>\n",
       "      <td>...</td>\n",
       "      <td>1</td>\n",
       "      <td>0.0282</td>\n",
       "      <td>0.770</td>\n",
       "      <td>0.000034</td>\n",
       "      <td>0.1100</td>\n",
       "      <td>0.2560</td>\n",
       "      <td>113.064</td>\n",
       "      <td>4</td>\n",
       "      <td>soul</td>\n",
       "      <td>3</td>\n",
       "    </tr>\n",
       "    <tr>\n",
       "      <th>54117</th>\n",
       "      <td>save yourself</td>\n",
       "      <td>snoh aalegra</td>\n",
       "      <td>034QFxadzhSnGsrStsQaKB</td>\n",
       "      <td>Best R&amp;B Tunes</td>\n",
       "      <td>1</td>\n",
       "      <td>118520</td>\n",
       "      <td>False</td>\n",
       "      <td>0.538</td>\n",
       "      <td>0.3070</td>\n",
       "      <td>0</td>\n",
       "      <td>...</td>\n",
       "      <td>1</td>\n",
       "      <td>0.0695</td>\n",
       "      <td>0.821</td>\n",
       "      <td>0.000374</td>\n",
       "      <td>0.0996</td>\n",
       "      <td>0.2950</td>\n",
       "      <td>119.598</td>\n",
       "      <td>4</td>\n",
       "      <td>swedish</td>\n",
       "      <td>3</td>\n",
       "    </tr>\n",
       "    <tr>\n",
       "      <th>54562</th>\n",
       "      <td>season of the witch - from the motion picture ...</td>\n",
       "      <td>lana del rey</td>\n",
       "      <td>4IutCwE0y4Zei7ZKdGiaK8</td>\n",
       "      <td>Happy Haunted Halloween Tunes</td>\n",
       "      <td>4</td>\n",
       "      <td>247147</td>\n",
       "      <td>False</td>\n",
       "      <td>0.674</td>\n",
       "      <td>0.2050</td>\n",
       "      <td>2</td>\n",
       "      <td>...</td>\n",
       "      <td>1</td>\n",
       "      <td>0.0403</td>\n",
       "      <td>0.895</td>\n",
       "      <td>0.027500</td>\n",
       "      <td>0.1140</td>\n",
       "      <td>0.3520</td>\n",
       "      <td>95.987</td>\n",
       "      <td>4</td>\n",
       "      <td>pop</td>\n",
       "      <td>3</td>\n",
       "    </tr>\n",
       "    <tr>\n",
       "      <th>62523</th>\n",
       "      <td>the joker and the queen</td>\n",
       "      <td>ed sheeran</td>\n",
       "      <td>66tlNiBE1g0a2IJgAkCIId</td>\n",
       "      <td>Human - Best Adult Pop Tunes</td>\n",
       "      <td>2</td>\n",
       "      <td>185586</td>\n",
       "      <td>False</td>\n",
       "      <td>0.567</td>\n",
       "      <td>0.2110</td>\n",
       "      <td>0</td>\n",
       "      <td>...</td>\n",
       "      <td>1</td>\n",
       "      <td>0.0315</td>\n",
       "      <td>0.952</td>\n",
       "      <td>0.000052</td>\n",
       "      <td>0.2750</td>\n",
       "      <td>0.2890</td>\n",
       "      <td>134.019</td>\n",
       "      <td>4</td>\n",
       "      <td>pop</td>\n",
       "      <td>3</td>\n",
       "    </tr>\n",
       "    <tr>\n",
       "      <th>64437</th>\n",
       "      <td>time after time - live at abbey road studios</td>\n",
       "      <td>sam smith</td>\n",
       "      <td>7izpOP3sww7TkqfjmEI1GM</td>\n",
       "      <td>Die For You</td>\n",
       "      <td>1</td>\n",
       "      <td>232128</td>\n",
       "      <td>False</td>\n",
       "      <td>0.595</td>\n",
       "      <td>0.4590</td>\n",
       "      <td>11</td>\n",
       "      <td>...</td>\n",
       "      <td>1</td>\n",
       "      <td>0.0461</td>\n",
       "      <td>0.571</td>\n",
       "      <td>0.000165</td>\n",
       "      <td>0.1010</td>\n",
       "      <td>0.2720</td>\n",
       "      <td>129.661</td>\n",
       "      <td>4</td>\n",
       "      <td>pop</td>\n",
       "      <td>3</td>\n",
       "    </tr>\n",
       "    <tr>\n",
       "      <th>66741</th>\n",
       "      <td>unbuttoned</td>\n",
       "      <td>timothy infinite</td>\n",
       "      <td>1FU5fnmyjmf2zEPmnMqWaI</td>\n",
       "      <td>Pajamas</td>\n",
       "      <td>9</td>\n",
       "      <td>143750</td>\n",
       "      <td>False</td>\n",
       "      <td>0.751</td>\n",
       "      <td>0.6060</td>\n",
       "      <td>4</td>\n",
       "      <td>...</td>\n",
       "      <td>1</td>\n",
       "      <td>0.0537</td>\n",
       "      <td>0.534</td>\n",
       "      <td>0.031900</td>\n",
       "      <td>0.3470</td>\n",
       "      <td>0.1310</td>\n",
       "      <td>140.078</td>\n",
       "      <td>4</td>\n",
       "      <td>study</td>\n",
       "      <td>3</td>\n",
       "    </tr>\n",
       "    <tr>\n",
       "      <th>68571</th>\n",
       "      <td>vuelve</td>\n",
       "      <td>sebastian yatra;beret</td>\n",
       "      <td>6Kwo18gzpFZnZhlAwhn5cl</td>\n",
       "      <td>Café en casa</td>\n",
       "      <td>6</td>\n",
       "      <td>225213</td>\n",
       "      <td>False</td>\n",
       "      <td>0.692</td>\n",
       "      <td>0.4900</td>\n",
       "      <td>11</td>\n",
       "      <td>...</td>\n",
       "      <td>1</td>\n",
       "      <td>0.0464</td>\n",
       "      <td>0.466</td>\n",
       "      <td>0.000000</td>\n",
       "      <td>0.1090</td>\n",
       "      <td>0.2550</td>\n",
       "      <td>155.831</td>\n",
       "      <td>4</td>\n",
       "      <td>reggaeton</td>\n",
       "      <td>3</td>\n",
       "    </tr>\n",
       "    <tr>\n",
       "      <th>69533</th>\n",
       "      <td>weak lofi</td>\n",
       "      <td>creamy;untrusted;11:11 music group</td>\n",
       "      <td>4VgM8bWHJVdsUfS416FJ2L</td>\n",
       "      <td>weak lofi</td>\n",
       "      <td>9</td>\n",
       "      <td>161970</td>\n",
       "      <td>False</td>\n",
       "      <td>0.705</td>\n",
       "      <td>0.4410</td>\n",
       "      <td>7</td>\n",
       "      <td>...</td>\n",
       "      <td>1</td>\n",
       "      <td>0.0423</td>\n",
       "      <td>0.663</td>\n",
       "      <td>0.000000</td>\n",
       "      <td>0.1700</td>\n",
       "      <td>0.4930</td>\n",
       "      <td>127.888</td>\n",
       "      <td>4</td>\n",
       "      <td>sad</td>\n",
       "      <td>3</td>\n",
       "    </tr>\n",
       "    <tr>\n",
       "      <th>70737</th>\n",
       "      <td>winter wonderland</td>\n",
       "      <td>rod stewart;michael bublé</td>\n",
       "      <td>0YpFcqwLoHAuEVp0mKBa1x</td>\n",
       "      <td>Christmas Dinner 2022</td>\n",
       "      <td>1</td>\n",
       "      <td>143226</td>\n",
       "      <td>False</td>\n",
       "      <td>0.684</td>\n",
       "      <td>0.4910</td>\n",
       "      <td>0</td>\n",
       "      <td>...</td>\n",
       "      <td>1</td>\n",
       "      <td>0.0361</td>\n",
       "      <td>0.710</td>\n",
       "      <td>0.000000</td>\n",
       "      <td>0.1440</td>\n",
       "      <td>0.4000</td>\n",
       "      <td>117.916</td>\n",
       "      <td>4</td>\n",
       "      <td>rock</td>\n",
       "      <td>3</td>\n",
       "    </tr>\n",
       "    <tr>\n",
       "      <th>72241</th>\n",
       "      <td>you've got a friend in me</td>\n",
       "      <td>cooltime kids</td>\n",
       "      <td>1wuhBBb0ZfgAhPe7gWpf1R</td>\n",
       "      <td>Sunny Songs</td>\n",
       "      <td>7</td>\n",
       "      <td>153733</td>\n",
       "      <td>False</td>\n",
       "      <td>0.737</td>\n",
       "      <td>0.2170</td>\n",
       "      <td>3</td>\n",
       "      <td>...</td>\n",
       "      <td>1</td>\n",
       "      <td>0.0313</td>\n",
       "      <td>0.770</td>\n",
       "      <td>0.000162</td>\n",
       "      <td>0.1150</td>\n",
       "      <td>0.2910</td>\n",
       "      <td>111.444</td>\n",
       "      <td>4</td>\n",
       "      <td>kids</td>\n",
       "      <td>3</td>\n",
       "    </tr>\n",
       "  </tbody>\n",
       "</table>\n",
       "<p>33 rows × 21 columns</p>\n",
       "</div>"
      ],
      "text/plain": [
       "                                              track_name  \\\n",
       "5214                                          automobile   \n",
       "5226                                              autumn   \n",
       "12093                                        coffee time   \n",
       "14008                                          damn love   \n",
       "14120                                dancing in the dark   \n",
       "14273                                          dark side   \n",
       "16540                                            doggone   \n",
       "20192                                 every little thing   \n",
       "23423                                              gammi   \n",
       "24058                                  girls girls girls   \n",
       "25035                                         green eyes   \n",
       "27483                                               home   \n",
       "27875                         how can you refuse him now   \n",
       "28634                                i dont fucking care   \n",
       "30007                            if you lie down with me   \n",
       "32951                                           kannamma   \n",
       "35487                                        let it snow   \n",
       "35904                              life on mars? (uncut)   \n",
       "36313                                 little drummer boy   \n",
       "36481                                        llegaste tú   \n",
       "36953                                lose you to love me   \n",
       "40465                                               ming   \n",
       "43032                                  never had a lover   \n",
       "51336                                         real thing   \n",
       "54117                                      save yourself   \n",
       "54562  season of the witch - from the motion picture ...   \n",
       "62523                            the joker and the queen   \n",
       "64437       time after time - live at abbey road studios   \n",
       "66741                                         unbuttoned   \n",
       "68571                                             vuelve   \n",
       "69533                                          weak lofi   \n",
       "70737                                  winter wonderland   \n",
       "72241                          you've got a friend in me   \n",
       "\n",
       "                                                 artists  \\\n",
       "5214                                               kaleo   \n",
       "5226                                        paolo nutini   \n",
       "12093                                       natalie cole   \n",
       "14008                                  the dirt drifters   \n",
       "14120                                             juanes   \n",
       "14273                                      bishop briggs   \n",
       "16540                                         tim mcgraw   \n",
       "20192                                       carly pearce   \n",
       "23423                                           disjecta   \n",
       "24058                                           fletcher   \n",
       "25035                                           coldplay   \n",
       "27483                                      blake shelton   \n",
       "27875                     hank williams;drifting cowboys   \n",
       "28634          swattrex;young and broke;lofi by swattrex   \n",
       "30007                                       lana del rey   \n",
       "32951  praveen;rohan prakash;khadhijah shareef;nishit...   \n",
       "35487                         boyz ii men;brian mcknight   \n",
       "35904                                               seal   \n",
       "36313                                         faith hill   \n",
       "36481                        luis fonsi;juan luis guerra   \n",
       "36953                                       selena gomez   \n",
       "40465                                                b12   \n",
       "43032                                        keith sweat   \n",
       "51336                             pink sweat$;tori kelly   \n",
       "54117                                       snoh aalegra   \n",
       "54562                                       lana del rey   \n",
       "62523                                         ed sheeran   \n",
       "64437                                          sam smith   \n",
       "66741                                   timothy infinite   \n",
       "68571                              sebastian yatra;beret   \n",
       "69533                 creamy;untrusted;11:11 music group   \n",
       "70737                          rod stewart;michael bublé   \n",
       "72241                                      cooltime kids   \n",
       "\n",
       "                     track_id  \\\n",
       "5214   5IL61OxHy3t9W42qZOnw3m   \n",
       "5226   2RVWKbMCQwaIAJS5FXNanZ   \n",
       "12093  0VXJD6Gf5pUmEvMdvgcuBM   \n",
       "14008  37BsVvcowpcSncSooQPVCg   \n",
       "14120  0N8d25eR5OMLON40UYIukg   \n",
       "14273  7EcqMNBI50oElY49no2wYY   \n",
       "16540  6m239N2EPkMYkN5unIYT9F   \n",
       "20192  5YzfH7DTvRUf6l3ebJG0c0   \n",
       "23423  7AWRP5rrMaHilI2bvFXPzw   \n",
       "24058  7iQeIx7Ko1Wfemi46OpQL4   \n",
       "25035  7CsVUx8DOETj51yPK153Id   \n",
       "27483  3GG9WXxmHL5zGm7hXwCe7L   \n",
       "27875  4lhN0GFwvnfAXgcJ6JRFds   \n",
       "28634  7AfGHpDur5SPvUFtsKtyIV   \n",
       "30007  2s694fZ36AJLuVnn3IBtFU   \n",
       "32951  0yQJdXUI1sAGgMapnpqrGi   \n",
       "35487  60ZsEbpgTbWUPvdDosRU42   \n",
       "35904  7vcsHyOSrRgnFE5z9geman   \n",
       "36313  6WbRhuDhbFXIqKcqOFYEcG   \n",
       "36481  0sBzVSBpA9MmQDkMNs339d   \n",
       "36953  5uBYhOCQC4NpqmnCgfzFw4   \n",
       "40465  3dOEfI9Ohejs2CLqGUOybc   \n",
       "43032  4qjZvv4RX5JlfPLuEUL2HK   \n",
       "51336  2Cv9iOD22UTRwaDluwebKx   \n",
       "54117  034QFxadzhSnGsrStsQaKB   \n",
       "54562  4IutCwE0y4Zei7ZKdGiaK8   \n",
       "62523  66tlNiBE1g0a2IJgAkCIId   \n",
       "64437  7izpOP3sww7TkqfjmEI1GM   \n",
       "66741  1FU5fnmyjmf2zEPmnMqWaI   \n",
       "68571  6Kwo18gzpFZnZhlAwhn5cl   \n",
       "69533  4VgM8bWHJVdsUfS416FJ2L   \n",
       "70737  0YpFcqwLoHAuEVp0mKBa1x   \n",
       "72241  1wuhBBb0ZfgAhPe7gWpf1R   \n",
       "\n",
       "                                            album_name  popularity  \\\n",
       "5214                                          All Bops           1   \n",
       "5226                                       Autumn Hits           2   \n",
       "12093                                     Coffee Break           1   \n",
       "14008                          Origins (Demos, Vol. 1)           9   \n",
       "14120                                   tardes tranqui           1   \n",
       "14273                                 LoFi & Halloween           2   \n",
       "16540                                Sad Country Songs           1   \n",
       "20192                                Sad Country Songs           2   \n",
       "23423                                  Clean Pit & Lid           8   \n",
       "24058                       Mega Hits Autumn/Fall 2022           1   \n",
       "25035                               Session Acoustique           5   \n",
       "27483                              Cuddle Up Christmas           2   \n",
       "27875                       The Complete Hank Williams           9   \n",
       "28634                              I dont fucking care           4   \n",
       "30007                                   Herbststimmung           5   \n",
       "32951  Golisoda 2 (Original Motion Picture Soundtrack)           9   \n",
       "35487                     Soul Christmas Greatest Hits           1   \n",
       "35904                               Session Acoustique           1   \n",
       "36313                           Country Christmas Time           1   \n",
       "36481                                   tardes tranqui           1   \n",
       "36953                                       REGNIG DAG           1   \n",
       "40465                                  Electro-Soma II           9   \n",
       "43032            21st Century Soul Grooves & Slow Jams           1   \n",
       "51336                                   Midnight Music           1   \n",
       "54117                                   Best R&B Tunes           1   \n",
       "54562                    Happy Haunted Halloween Tunes           4   \n",
       "62523                     Human - Best Adult Pop Tunes           2   \n",
       "64437                                      Die For You           1   \n",
       "66741                                          Pajamas           9   \n",
       "68571                                     Café en casa           6   \n",
       "69533                                        weak lofi           9   \n",
       "70737                            Christmas Dinner 2022           1   \n",
       "72241                                      Sunny Songs           7   \n",
       "\n",
       "       duration_ms  explicit  danceability  energy  key  ...  mode  \\\n",
       "5214        186906     False         0.692  0.5530    2  ...     1   \n",
       "5226        170240     False         0.599  0.0854    9  ...     1   \n",
       "12093       148333     False         0.748  0.3100    8  ...     1   \n",
       "14008       187193     False         0.667  0.4080    3  ...     1   \n",
       "14120       244680     False         0.629  0.4860    8  ...     1   \n",
       "14273       208773     False         0.713  0.5500    9  ...     1   \n",
       "16540       215906     False         0.629  0.5380    1  ...     1   \n",
       "20192       181053     False         0.639  0.4270    0  ...     1   \n",
       "23423       468333     False         0.715  0.3910    0  ...     1   \n",
       "24058       161247     False         0.649  0.4780    0  ...     1   \n",
       "25035       223040     False         0.607  0.4050    9  ...     1   \n",
       "27483       230453     False         0.579  0.4430    7  ...     1   \n",
       "27875       155573     False         0.527  0.1480    5  ...     1   \n",
       "28634       262509      True         0.655  0.3440    7  ...     1   \n",
       "30007       265186     False         0.641  0.3460    0  ...     1   \n",
       "32951       269760     False         0.704  0.6220    2  ...     1   \n",
       "35487       249520     False         0.694  0.4660    0  ...     1   \n",
       "35904       236440     False         0.718  0.2930    3  ...     1   \n",
       "36313       185960     False         0.617  0.0774    4  ...     1   \n",
       "36481       221946     False         0.759  0.5270    1  ...     1   \n",
       "36953       206458     False         0.516  0.3420    4  ...     1   \n",
       "40465       130456     False         0.712  0.1790    4  ...     1   \n",
       "43032       221906     False         0.697  0.4450    9  ...     1   \n",
       "51336       195368     False         0.615  0.3220    1  ...     1   \n",
       "54117       118520     False         0.538  0.3070    0  ...     1   \n",
       "54562       247147     False         0.674  0.2050    2  ...     1   \n",
       "62523       185586     False         0.567  0.2110    0  ...     1   \n",
       "64437       232128     False         0.595  0.4590   11  ...     1   \n",
       "66741       143750     False         0.751  0.6060    4  ...     1   \n",
       "68571       225213     False         0.692  0.4900   11  ...     1   \n",
       "69533       161970     False         0.705  0.4410    7  ...     1   \n",
       "70737       143226     False         0.684  0.4910    0  ...     1   \n",
       "72241       153733     False         0.737  0.2170    3  ...     1   \n",
       "\n",
       "       speechiness  acousticness  instrumentalness  liveness  valence  \\\n",
       "5214        0.0389         0.596          0.000030    0.3050   0.3560   \n",
       "5226        0.0414         0.978          0.000080    0.0858   0.3230   \n",
       "12093       0.0448         0.488          0.000000    0.1360   0.4990   \n",
       "14008       0.0331         0.379          0.000360    0.1160   0.4030   \n",
       "14120       0.0305         0.497          0.000000    0.1170   0.3820   \n",
       "14273       0.0650         0.613          0.000001    0.0887   0.1300   \n",
       "16540       0.0290         0.416          0.000011    0.1070   0.3530   \n",
       "20192       0.0368         0.434          0.000011    0.0903   0.3220   \n",
       "23423       0.0562         0.307          0.042400    0.3110   0.1190   \n",
       "24058       0.1560         0.658          0.000000    0.1310   0.4680   \n",
       "25035       0.0265         0.539          0.000007    0.2310   0.2330   \n",
       "27483       0.0255         0.479          0.000003    0.1100   0.2880   \n",
       "27875       0.0285         0.923          0.000000    0.1370   0.2240   \n",
       "28634       0.1240         0.746          0.010900    0.1120   0.3560   \n",
       "30007       0.0360         0.913          0.000040    0.1040   0.1870   \n",
       "32951       0.0314         0.574          0.045400    0.0529   0.3790   \n",
       "35487       0.0374         0.715          0.000018    0.4380   0.5740   \n",
       "35904       0.0546         0.753          0.000000    0.1320   0.2330   \n",
       "36313       0.0490         0.948          0.000002    0.1090   0.2510   \n",
       "36481       0.0438         0.749          0.000000    0.1570   0.4820   \n",
       "36953       0.0425         0.550          0.000000    0.2100   0.0993   \n",
       "40465       0.1530         0.928          0.272000    0.1070   0.3980   \n",
       "43032       0.0426         0.279          0.000000    0.1260   0.4290   \n",
       "51336       0.0282         0.770          0.000034    0.1100   0.2560   \n",
       "54117       0.0695         0.821          0.000374    0.0996   0.2950   \n",
       "54562       0.0403         0.895          0.027500    0.1140   0.3520   \n",
       "62523       0.0315         0.952          0.000052    0.2750   0.2890   \n",
       "64437       0.0461         0.571          0.000165    0.1010   0.2720   \n",
       "66741       0.0537         0.534          0.031900    0.3470   0.1310   \n",
       "68571       0.0464         0.466          0.000000    0.1090   0.2550   \n",
       "69533       0.0423         0.663          0.000000    0.1700   0.4930   \n",
       "70737       0.0361         0.710          0.000000    0.1440   0.4000   \n",
       "72241       0.0313         0.770          0.000162    0.1150   0.2910   \n",
       "\n",
       "         tempo  time_signature  track_genre label  \n",
       "5214   125.903               4        indie     3  \n",
       "5226   111.954               4         soul     3  \n",
       "12093  129.924               4         soul     3  \n",
       "14008  120.965               4   honky-tonk     3  \n",
       "14120  122.011               4         rock     3  \n",
       "14273  138.070               4  alternative     3  \n",
       "16540  121.256               4      country     3  \n",
       "20192  139.899               4      country     3  \n",
       "23423  137.805               4          idm     3  \n",
       "24058  139.859               4      electro     3  \n",
       "25035  129.543               4          pop     3  \n",
       "27483  127.814               4      country     3  \n",
       "27875   94.207               4   honky-tonk     3  \n",
       "28634  128.032               4       indian     3  \n",
       "30007  122.101               4          pop     3  \n",
       "32951  132.995               4          idm     3  \n",
       "35487  124.380               4        r-n-b     3  \n",
       "35904  109.446               4         soul     3  \n",
       "36313  120.234               4      country     3  \n",
       "36481  119.936               4        latin     3  \n",
       "36953  102.819               4        dance     3  \n",
       "40465  135.117               4          idm     3  \n",
       "43032  119.913               4         soul     3  \n",
       "51336  113.064               4         soul     3  \n",
       "54117  119.598               4      swedish     3  \n",
       "54562   95.987               4          pop     3  \n",
       "62523  134.019               4          pop     3  \n",
       "64437  129.661               4          pop     3  \n",
       "66741  140.078               4        study     3  \n",
       "68571  155.831               4    reggaeton     3  \n",
       "69533  127.888               4          sad     3  \n",
       "70737  117.916               4         rock     3  \n",
       "72241  111.444               4         kids     3  \n",
       "\n",
       "[33 rows x 21 columns]"
      ]
     },
     "execution_count": 143,
     "metadata": {},
     "output_type": "execute_result"
    }
   ],
   "source": [
    "X_label = pd.concat([df2_copy,pd.Series(labelling_114)],axis=1).rename(columns={0:\"label\"})\n",
    "X_label[(X_label.label == 3)& (X_label.popularity < 10)]"
   ]
  },
  {
   "cell_type": "code",
   "execution_count": 144,
   "metadata": {},
   "outputs": [
    {
     "data": {
      "text/html": [
       "<div>\n",
       "<style scoped>\n",
       "    .dataframe tbody tr th:only-of-type {\n",
       "        vertical-align: middle;\n",
       "    }\n",
       "\n",
       "    .dataframe tbody tr th {\n",
       "        vertical-align: top;\n",
       "    }\n",
       "\n",
       "    .dataframe thead th {\n",
       "        text-align: right;\n",
       "    }\n",
       "</style>\n",
       "<table border=\"1\" class=\"dataframe\">\n",
       "  <thead>\n",
       "    <tr style=\"text-align: right;\">\n",
       "      <th></th>\n",
       "      <th>track_name</th>\n",
       "      <th>artists</th>\n",
       "      <th>track_id</th>\n",
       "      <th>album_name</th>\n",
       "      <th>popularity</th>\n",
       "      <th>duration_ms</th>\n",
       "      <th>explicit</th>\n",
       "      <th>danceability</th>\n",
       "      <th>energy</th>\n",
       "      <th>key</th>\n",
       "      <th>...</th>\n",
       "      <th>mode</th>\n",
       "      <th>speechiness</th>\n",
       "      <th>acousticness</th>\n",
       "      <th>instrumentalness</th>\n",
       "      <th>liveness</th>\n",
       "      <th>valence</th>\n",
       "      <th>tempo</th>\n",
       "      <th>time_signature</th>\n",
       "      <th>track_genre</th>\n",
       "      <th>label</th>\n",
       "    </tr>\n",
       "  </thead>\n",
       "  <tbody>\n",
       "    <tr>\n",
       "      <th>0</th>\n",
       "      <td>!i'll be back!</td>\n",
       "      <td>rilès</td>\n",
       "      <td>0fROT4kK5oTm8xO8PX6EJF</td>\n",
       "      <td>!I'll Be Back!</td>\n",
       "      <td>52</td>\n",
       "      <td>178533</td>\n",
       "      <td>True</td>\n",
       "      <td>0.823</td>\n",
       "      <td>0.612</td>\n",
       "      <td>1</td>\n",
       "      <td>...</td>\n",
       "      <td>1</td>\n",
       "      <td>0.2480</td>\n",
       "      <td>0.168000</td>\n",
       "      <td>0.000000</td>\n",
       "      <td>0.1090</td>\n",
       "      <td>0.6880</td>\n",
       "      <td>142.959</td>\n",
       "      <td>4</td>\n",
       "      <td>french</td>\n",
       "      <td>85</td>\n",
       "    </tr>\n",
       "    <tr>\n",
       "      <th>1</th>\n",
       "      <td>\"a\" you're adorable</td>\n",
       "      <td>brian hyland</td>\n",
       "      <td>1hH0t381PIXmUVWyG1Vj3p</td>\n",
       "      <td>The Bashful Blond</td>\n",
       "      <td>39</td>\n",
       "      <td>151680</td>\n",
       "      <td>False</td>\n",
       "      <td>0.615</td>\n",
       "      <td>0.375</td>\n",
       "      <td>0</td>\n",
       "      <td>...</td>\n",
       "      <td>0</td>\n",
       "      <td>0.0319</td>\n",
       "      <td>0.482000</td>\n",
       "      <td>0.000000</td>\n",
       "      <td>0.1110</td>\n",
       "      <td>0.9220</td>\n",
       "      <td>110.720</td>\n",
       "      <td>4</td>\n",
       "      <td>rockabilly</td>\n",
       "      <td>6</td>\n",
       "    </tr>\n",
       "    <tr>\n",
       "      <th>2</th>\n",
       "      <td>\"c\" is for cookie</td>\n",
       "      <td>little apple band</td>\n",
       "      <td>73lXf5if6MWVWnsgXhK8bd</td>\n",
       "      <td>The Favorite Songs Of Sesame Street</td>\n",
       "      <td>32</td>\n",
       "      <td>86675</td>\n",
       "      <td>False</td>\n",
       "      <td>0.664</td>\n",
       "      <td>0.812</td>\n",
       "      <td>3</td>\n",
       "      <td>...</td>\n",
       "      <td>1</td>\n",
       "      <td>0.0886</td>\n",
       "      <td>0.132000</td>\n",
       "      <td>0.000010</td>\n",
       "      <td>0.0794</td>\n",
       "      <td>0.8710</td>\n",
       "      <td>118.443</td>\n",
       "      <td>4</td>\n",
       "      <td>kids</td>\n",
       "      <td>43</td>\n",
       "    </tr>\n",
       "    <tr>\n",
       "      <th>3</th>\n",
       "      <td>\"contemplate this on the tree of woe.\"</td>\n",
       "      <td>dillinger four</td>\n",
       "      <td>5Zx0Rrkn5RFBMD2PRxX3mI</td>\n",
       "      <td>C I V I L W A R</td>\n",
       "      <td>24</td>\n",
       "      <td>180706</td>\n",
       "      <td>False</td>\n",
       "      <td>0.565</td>\n",
       "      <td>0.977</td>\n",
       "      <td>11</td>\n",
       "      <td>...</td>\n",
       "      <td>1</td>\n",
       "      <td>0.0546</td>\n",
       "      <td>0.028200</td>\n",
       "      <td>0.001320</td>\n",
       "      <td>0.4330</td>\n",
       "      <td>0.3870</td>\n",
       "      <td>106.478</td>\n",
       "      <td>4</td>\n",
       "      <td>power-pop</td>\n",
       "      <td>27</td>\n",
       "    </tr>\n",
       "    <tr>\n",
       "      <th>4</th>\n",
       "      <td>\"devils never cry\"(スタッフロール)</td>\n",
       "      <td>capcom sound team</td>\n",
       "      <td>3ozivYJGJGq6TSzdy8m64X</td>\n",
       "      <td>デビル メイ クライ 3 オリジナル・サウンドトラック</td>\n",
       "      <td>55</td>\n",
       "      <td>319906</td>\n",
       "      <td>False</td>\n",
       "      <td>0.264</td>\n",
       "      <td>0.951</td>\n",
       "      <td>7</td>\n",
       "      <td>...</td>\n",
       "      <td>1</td>\n",
       "      <td>0.1460</td>\n",
       "      <td>0.000894</td>\n",
       "      <td>0.044200</td>\n",
       "      <td>0.1270</td>\n",
       "      <td>0.1590</td>\n",
       "      <td>149.990</td>\n",
       "      <td>4</td>\n",
       "      <td>anime</td>\n",
       "      <td>44</td>\n",
       "    </tr>\n",
       "    <tr>\n",
       "      <th>...</th>\n",
       "      <td>...</td>\n",
       "      <td>...</td>\n",
       "      <td>...</td>\n",
       "      <td>...</td>\n",
       "      <td>...</td>\n",
       "      <td>...</td>\n",
       "      <td>...</td>\n",
       "      <td>...</td>\n",
       "      <td>...</td>\n",
       "      <td>...</td>\n",
       "      <td>...</td>\n",
       "      <td>...</td>\n",
       "      <td>...</td>\n",
       "      <td>...</td>\n",
       "      <td>...</td>\n",
       "      <td>...</td>\n",
       "      <td>...</td>\n",
       "      <td>...</td>\n",
       "      <td>...</td>\n",
       "      <td>...</td>\n",
       "      <td>...</td>\n",
       "    </tr>\n",
       "    <tr>\n",
       "      <th>76309</th>\n",
       "      <td>내 맘을 볼 수 있나요</td>\n",
       "      <td>heize</td>\n",
       "      <td>2oVHb8wyg6oC2iNpGBNvx1</td>\n",
       "      <td>Hotel del Luna (Original Television Soundtrack...</td>\n",
       "      <td>63</td>\n",
       "      <td>225785</td>\n",
       "      <td>False</td>\n",
       "      <td>0.397</td>\n",
       "      <td>0.166</td>\n",
       "      <td>9</td>\n",
       "      <td>...</td>\n",
       "      <td>1</td>\n",
       "      <td>0.0349</td>\n",
       "      <td>0.884000</td>\n",
       "      <td>0.000000</td>\n",
       "      <td>0.1000</td>\n",
       "      <td>0.1310</td>\n",
       "      <td>134.708</td>\n",
       "      <td>4</td>\n",
       "      <td>k-pop</td>\n",
       "      <td>104</td>\n",
       "    </tr>\n",
       "    <tr>\n",
       "      <th>76310</th>\n",
       "      <td>시작</td>\n",
       "      <td>gaho</td>\n",
       "      <td>4kIpBfvK44bxqX7zo8K1oP</td>\n",
       "      <td>ITAEWON CLASS (Original Television Soundtrack)...</td>\n",
       "      <td>65</td>\n",
       "      <td>202440</td>\n",
       "      <td>False</td>\n",
       "      <td>0.591</td>\n",
       "      <td>0.818</td>\n",
       "      <td>4</td>\n",
       "      <td>...</td>\n",
       "      <td>1</td>\n",
       "      <td>0.0730</td>\n",
       "      <td>0.172000</td>\n",
       "      <td>0.000000</td>\n",
       "      <td>0.1260</td>\n",
       "      <td>0.5740</td>\n",
       "      <td>108.107</td>\n",
       "      <td>4</td>\n",
       "      <td>k-pop</td>\n",
       "      <td>75</td>\n",
       "    </tr>\n",
       "    <tr>\n",
       "      <th>76311</th>\n",
       "      <td>약속 (piano solo)</td>\n",
       "      <td>yiruma</td>\n",
       "      <td>4mHc7LUlO3k6AXeFV2EiJK</td>\n",
       "      <td>Yiruma Official Album 'Piano Therapy' (The Ori...</td>\n",
       "      <td>37</td>\n",
       "      <td>144533</td>\n",
       "      <td>False</td>\n",
       "      <td>0.504</td>\n",
       "      <td>0.143</td>\n",
       "      <td>1</td>\n",
       "      <td>...</td>\n",
       "      <td>1</td>\n",
       "      <td>0.0701</td>\n",
       "      <td>0.980000</td>\n",
       "      <td>0.922000</td>\n",
       "      <td>0.1240</td>\n",
       "      <td>0.0584</td>\n",
       "      <td>148.786</td>\n",
       "      <td>4</td>\n",
       "      <td>new-age</td>\n",
       "      <td>82</td>\n",
       "    </tr>\n",
       "    <tr>\n",
       "      <th>76312</th>\n",
       "      <td>원펀맨 theme - sad theme</td>\n",
       "      <td>goda</td>\n",
       "      <td>0tQesiSZJQOdHeAC7r59us</td>\n",
       "      <td>One Punch Man (Original Soundtrack)</td>\n",
       "      <td>37</td>\n",
       "      <td>228000</td>\n",
       "      <td>False</td>\n",
       "      <td>0.542</td>\n",
       "      <td>0.337</td>\n",
       "      <td>2</td>\n",
       "      <td>...</td>\n",
       "      <td>1</td>\n",
       "      <td>0.0539</td>\n",
       "      <td>0.985000</td>\n",
       "      <td>0.933000</td>\n",
       "      <td>0.1470</td>\n",
       "      <td>0.4430</td>\n",
       "      <td>159.951</td>\n",
       "      <td>4</td>\n",
       "      <td>piano</td>\n",
       "      <td>82</td>\n",
       "    </tr>\n",
       "    <tr>\n",
       "      <th>76313</th>\n",
       "      <td>행복하길 바래</td>\n",
       "      <td>lim hyung joo</td>\n",
       "      <td>5epH8xMDeJ4edJjIkKzEdM</td>\n",
       "      <td>Sassy Girl Choon Hyang (Original Soundtrack)</td>\n",
       "      <td>39</td>\n",
       "      <td>185666</td>\n",
       "      <td>False</td>\n",
       "      <td>0.361</td>\n",
       "      <td>0.517</td>\n",
       "      <td>10</td>\n",
       "      <td>...</td>\n",
       "      <td>0</td>\n",
       "      <td>0.0310</td>\n",
       "      <td>0.711000</td>\n",
       "      <td>0.000075</td>\n",
       "      <td>0.1150</td>\n",
       "      <td>0.3080</td>\n",
       "      <td>94.713</td>\n",
       "      <td>4</td>\n",
       "      <td>opera</td>\n",
       "      <td>58</td>\n",
       "    </tr>\n",
       "  </tbody>\n",
       "</table>\n",
       "<p>76314 rows × 21 columns</p>\n",
       "</div>"
      ],
      "text/plain": [
       "                                   track_name            artists  \\\n",
       "0                              !i'll be back!              rilès   \n",
       "1                         \"a\" you're adorable       brian hyland   \n",
       "2                           \"c\" is for cookie  little apple band   \n",
       "3      \"contemplate this on the tree of woe.\"     dillinger four   \n",
       "4                 \"devils never cry\"(スタッフロール)  capcom sound team   \n",
       "...                                       ...                ...   \n",
       "76309                            내 맘을 볼 수 있나요              heize   \n",
       "76310                                      시작               gaho   \n",
       "76311                         약속 (piano solo)             yiruma   \n",
       "76312                   원펀맨 theme - sad theme               goda   \n",
       "76313                                 행복하길 바래      lim hyung joo   \n",
       "\n",
       "                     track_id  \\\n",
       "0      0fROT4kK5oTm8xO8PX6EJF   \n",
       "1      1hH0t381PIXmUVWyG1Vj3p   \n",
       "2      73lXf5if6MWVWnsgXhK8bd   \n",
       "3      5Zx0Rrkn5RFBMD2PRxX3mI   \n",
       "4      3ozivYJGJGq6TSzdy8m64X   \n",
       "...                       ...   \n",
       "76309  2oVHb8wyg6oC2iNpGBNvx1   \n",
       "76310  4kIpBfvK44bxqX7zo8K1oP   \n",
       "76311  4mHc7LUlO3k6AXeFV2EiJK   \n",
       "76312  0tQesiSZJQOdHeAC7r59us   \n",
       "76313  5epH8xMDeJ4edJjIkKzEdM   \n",
       "\n",
       "                                              album_name  popularity  \\\n",
       "0                                         !I'll Be Back!          52   \n",
       "1                                      The Bashful Blond          39   \n",
       "2                    The Favorite Songs Of Sesame Street          32   \n",
       "3                                        C I V I L W A R          24   \n",
       "4                            デビル メイ クライ 3 オリジナル・サウンドトラック          55   \n",
       "...                                                  ...         ...   \n",
       "76309  Hotel del Luna (Original Television Soundtrack...          63   \n",
       "76310  ITAEWON CLASS (Original Television Soundtrack)...          65   \n",
       "76311  Yiruma Official Album 'Piano Therapy' (The Ori...          37   \n",
       "76312                One Punch Man (Original Soundtrack)          37   \n",
       "76313       Sassy Girl Choon Hyang (Original Soundtrack)          39   \n",
       "\n",
       "       duration_ms  explicit  danceability  energy  key  ...  mode  \\\n",
       "0           178533      True         0.823   0.612    1  ...     1   \n",
       "1           151680     False         0.615   0.375    0  ...     0   \n",
       "2            86675     False         0.664   0.812    3  ...     1   \n",
       "3           180706     False         0.565   0.977   11  ...     1   \n",
       "4           319906     False         0.264   0.951    7  ...     1   \n",
       "...            ...       ...           ...     ...  ...  ...   ...   \n",
       "76309       225785     False         0.397   0.166    9  ...     1   \n",
       "76310       202440     False         0.591   0.818    4  ...     1   \n",
       "76311       144533     False         0.504   0.143    1  ...     1   \n",
       "76312       228000     False         0.542   0.337    2  ...     1   \n",
       "76313       185666     False         0.361   0.517   10  ...     0   \n",
       "\n",
       "       speechiness  acousticness  instrumentalness  liveness  valence  \\\n",
       "0           0.2480      0.168000          0.000000    0.1090   0.6880   \n",
       "1           0.0319      0.482000          0.000000    0.1110   0.9220   \n",
       "2           0.0886      0.132000          0.000010    0.0794   0.8710   \n",
       "3           0.0546      0.028200          0.001320    0.4330   0.3870   \n",
       "4           0.1460      0.000894          0.044200    0.1270   0.1590   \n",
       "...            ...           ...               ...       ...      ...   \n",
       "76309       0.0349      0.884000          0.000000    0.1000   0.1310   \n",
       "76310       0.0730      0.172000          0.000000    0.1260   0.5740   \n",
       "76311       0.0701      0.980000          0.922000    0.1240   0.0584   \n",
       "76312       0.0539      0.985000          0.933000    0.1470   0.4430   \n",
       "76313       0.0310      0.711000          0.000075    0.1150   0.3080   \n",
       "\n",
       "         tempo  time_signature  track_genre label  \n",
       "0      142.959               4       french    85  \n",
       "1      110.720               4   rockabilly     6  \n",
       "2      118.443               4         kids    43  \n",
       "3      106.478               4    power-pop    27  \n",
       "4      149.990               4        anime    44  \n",
       "...        ...             ...          ...   ...  \n",
       "76309  134.708               4        k-pop   104  \n",
       "76310  108.107               4        k-pop    75  \n",
       "76311  148.786               4      new-age    82  \n",
       "76312  159.951               4        piano    82  \n",
       "76313   94.713               4        opera    58  \n",
       "\n",
       "[76314 rows x 21 columns]"
      ]
     },
     "execution_count": 144,
     "metadata": {},
     "output_type": "execute_result"
    }
   ],
   "source": [
    "X_label"
   ]
  },
  {
   "cell_type": "code",
   "execution_count": 114,
   "metadata": {},
   "outputs": [
    {
     "data": {
      "text/html": [
       "<div>\n",
       "<style scoped>\n",
       "    .dataframe tbody tr th:only-of-type {\n",
       "        vertical-align: middle;\n",
       "    }\n",
       "\n",
       "    .dataframe tbody tr th {\n",
       "        vertical-align: top;\n",
       "    }\n",
       "\n",
       "    .dataframe thead th {\n",
       "        text-align: right;\n",
       "    }\n",
       "</style>\n",
       "<table border=\"1\" class=\"dataframe\">\n",
       "  <thead>\n",
       "    <tr style=\"text-align: right;\">\n",
       "      <th></th>\n",
       "      <th>track_name</th>\n",
       "      <th>artists</th>\n",
       "      <th>track_id</th>\n",
       "      <th>album_name</th>\n",
       "      <th>popularity</th>\n",
       "      <th>duration_ms</th>\n",
       "      <th>explicit</th>\n",
       "      <th>danceability</th>\n",
       "      <th>energy</th>\n",
       "      <th>key</th>\n",
       "      <th>loudness</th>\n",
       "      <th>mode</th>\n",
       "      <th>speechiness</th>\n",
       "      <th>acousticness</th>\n",
       "      <th>instrumentalness</th>\n",
       "      <th>liveness</th>\n",
       "      <th>valence</th>\n",
       "      <th>tempo</th>\n",
       "      <th>time_signature</th>\n",
       "      <th>track_genre</th>\n",
       "    </tr>\n",
       "  </thead>\n",
       "  <tbody>\n",
       "    <tr>\n",
       "      <th>0</th>\n",
       "      <td>!I'll Be Back!</td>\n",
       "      <td>Rilès</td>\n",
       "      <td>0fROT4kK5oTm8xO8PX6EJF</td>\n",
       "      <td>!I'll Be Back!</td>\n",
       "      <td>52</td>\n",
       "      <td>178533</td>\n",
       "      <td>1</td>\n",
       "      <td>0.823</td>\n",
       "      <td>0.612</td>\n",
       "      <td>1</td>\n",
       "      <td>-7.767</td>\n",
       "      <td>1</td>\n",
       "      <td>0.2480</td>\n",
       "      <td>0.1680</td>\n",
       "      <td>0.000000</td>\n",
       "      <td>0.1090</td>\n",
       "      <td>0.6880</td>\n",
       "      <td>142.959</td>\n",
       "      <td>4</td>\n",
       "      <td>french</td>\n",
       "    </tr>\n",
       "    <tr>\n",
       "      <th>1</th>\n",
       "      <td>\"A\" You're Adorable</td>\n",
       "      <td>Brian Hyland</td>\n",
       "      <td>1hH0t381PIXmUVWyG1Vj3p</td>\n",
       "      <td>The Bashful Blond</td>\n",
       "      <td>39</td>\n",
       "      <td>151680</td>\n",
       "      <td>0</td>\n",
       "      <td>0.615</td>\n",
       "      <td>0.375</td>\n",
       "      <td>0</td>\n",
       "      <td>-10.362</td>\n",
       "      <td>0</td>\n",
       "      <td>0.0319</td>\n",
       "      <td>0.4820</td>\n",
       "      <td>0.000000</td>\n",
       "      <td>0.1110</td>\n",
       "      <td>0.9220</td>\n",
       "      <td>110.720</td>\n",
       "      <td>4</td>\n",
       "      <td>rockabilly</td>\n",
       "    </tr>\n",
       "    <tr>\n",
       "      <th>2</th>\n",
       "      <td>\"C\" IS FOR COOKIE</td>\n",
       "      <td>Little Apple Band</td>\n",
       "      <td>1B45DvGMoFWdbAEUH2qliG</td>\n",
       "      <td>The Favorite Songs Of Sesame Street</td>\n",
       "      <td>32</td>\n",
       "      <td>84305</td>\n",
       "      <td>0</td>\n",
       "      <td>0.553</td>\n",
       "      <td>0.812</td>\n",
       "      <td>3</td>\n",
       "      <td>-5.542</td>\n",
       "      <td>1</td>\n",
       "      <td>0.0558</td>\n",
       "      <td>0.1320</td>\n",
       "      <td>0.000010</td>\n",
       "      <td>0.0794</td>\n",
       "      <td>0.8710</td>\n",
       "      <td>118.368</td>\n",
       "      <td>4</td>\n",
       "      <td>kids</td>\n",
       "    </tr>\n",
       "    <tr>\n",
       "      <th>3</th>\n",
       "      <td>\"C\" is for Cookie</td>\n",
       "      <td>Little Apple Band</td>\n",
       "      <td>73lXf5if6MWVWnsgXhK8bd</td>\n",
       "      <td>Sesame Street and Friends</td>\n",
       "      <td>8</td>\n",
       "      <td>86675</td>\n",
       "      <td>0</td>\n",
       "      <td>0.664</td>\n",
       "      <td>0.611</td>\n",
       "      <td>3</td>\n",
       "      <td>-8.687</td>\n",
       "      <td>1</td>\n",
       "      <td>0.0886</td>\n",
       "      <td>0.1200</td>\n",
       "      <td>0.000000</td>\n",
       "      <td>0.0408</td>\n",
       "      <td>0.7580</td>\n",
       "      <td>118.443</td>\n",
       "      <td>4</td>\n",
       "      <td>kids</td>\n",
       "    </tr>\n",
       "    <tr>\n",
       "      <th>4</th>\n",
       "      <td>\"Contemplate This on the Tree of Woe.\"</td>\n",
       "      <td>Dillinger Four</td>\n",
       "      <td>5Zx0Rrkn5RFBMD2PRxX3mI</td>\n",
       "      <td>C I V I L W A R</td>\n",
       "      <td>24</td>\n",
       "      <td>180706</td>\n",
       "      <td>0</td>\n",
       "      <td>0.565</td>\n",
       "      <td>0.977</td>\n",
       "      <td>11</td>\n",
       "      <td>-3.592</td>\n",
       "      <td>1</td>\n",
       "      <td>0.0546</td>\n",
       "      <td>0.0282</td>\n",
       "      <td>0.001320</td>\n",
       "      <td>0.4330</td>\n",
       "      <td>0.3870</td>\n",
       "      <td>106.478</td>\n",
       "      <td>4</td>\n",
       "      <td>power-pop</td>\n",
       "    </tr>\n",
       "    <tr>\n",
       "      <th>...</th>\n",
       "      <td>...</td>\n",
       "      <td>...</td>\n",
       "      <td>...</td>\n",
       "      <td>...</td>\n",
       "      <td>...</td>\n",
       "      <td>...</td>\n",
       "      <td>...</td>\n",
       "      <td>...</td>\n",
       "      <td>...</td>\n",
       "      <td>...</td>\n",
       "      <td>...</td>\n",
       "      <td>...</td>\n",
       "      <td>...</td>\n",
       "      <td>...</td>\n",
       "      <td>...</td>\n",
       "      <td>...</td>\n",
       "      <td>...</td>\n",
       "      <td>...</td>\n",
       "      <td>...</td>\n",
       "      <td>...</td>\n",
       "    </tr>\n",
       "    <tr>\n",
       "      <th>76434</th>\n",
       "      <td>내 맘을 볼 수 있나요</td>\n",
       "      <td>HEIZE</td>\n",
       "      <td>2oVHb8wyg6oC2iNpGBNvx1</td>\n",
       "      <td>Hotel del Luna (Original Television Soundtrack...</td>\n",
       "      <td>63</td>\n",
       "      <td>225785</td>\n",
       "      <td>0</td>\n",
       "      <td>0.397</td>\n",
       "      <td>0.166</td>\n",
       "      <td>9</td>\n",
       "      <td>-10.678</td>\n",
       "      <td>1</td>\n",
       "      <td>0.0349</td>\n",
       "      <td>0.8840</td>\n",
       "      <td>0.000000</td>\n",
       "      <td>0.1000</td>\n",
       "      <td>0.1310</td>\n",
       "      <td>134.708</td>\n",
       "      <td>4</td>\n",
       "      <td>k-pop</td>\n",
       "    </tr>\n",
       "    <tr>\n",
       "      <th>76435</th>\n",
       "      <td>시작</td>\n",
       "      <td>Gaho</td>\n",
       "      <td>4kIpBfvK44bxqX7zo8K1oP</td>\n",
       "      <td>ITAEWON CLASS (Original Television Soundtrack)...</td>\n",
       "      <td>65</td>\n",
       "      <td>202440</td>\n",
       "      <td>0</td>\n",
       "      <td>0.591</td>\n",
       "      <td>0.818</td>\n",
       "      <td>4</td>\n",
       "      <td>-3.532</td>\n",
       "      <td>1</td>\n",
       "      <td>0.0730</td>\n",
       "      <td>0.1720</td>\n",
       "      <td>0.000000</td>\n",
       "      <td>0.1260</td>\n",
       "      <td>0.5740</td>\n",
       "      <td>108.107</td>\n",
       "      <td>4</td>\n",
       "      <td>k-pop</td>\n",
       "    </tr>\n",
       "    <tr>\n",
       "      <th>76436</th>\n",
       "      <td>약속 (Piano Solo)</td>\n",
       "      <td>Yiruma</td>\n",
       "      <td>4mHc7LUlO3k6AXeFV2EiJK</td>\n",
       "      <td>Yiruma Official Album 'Piano Therapy' (The Ori...</td>\n",
       "      <td>37</td>\n",
       "      <td>144533</td>\n",
       "      <td>0</td>\n",
       "      <td>0.504</td>\n",
       "      <td>0.143</td>\n",
       "      <td>1</td>\n",
       "      <td>-18.713</td>\n",
       "      <td>1</td>\n",
       "      <td>0.0701</td>\n",
       "      <td>0.9800</td>\n",
       "      <td>0.922000</td>\n",
       "      <td>0.1240</td>\n",
       "      <td>0.0584</td>\n",
       "      <td>148.786</td>\n",
       "      <td>4</td>\n",
       "      <td>new-age</td>\n",
       "    </tr>\n",
       "    <tr>\n",
       "      <th>76437</th>\n",
       "      <td>원펀맨 Theme - Sad Theme</td>\n",
       "      <td>GODA</td>\n",
       "      <td>0tQesiSZJQOdHeAC7r59us</td>\n",
       "      <td>One Punch Man (Original Soundtrack)</td>\n",
       "      <td>37</td>\n",
       "      <td>228000</td>\n",
       "      <td>0</td>\n",
       "      <td>0.542</td>\n",
       "      <td>0.337</td>\n",
       "      <td>2</td>\n",
       "      <td>-16.088</td>\n",
       "      <td>1</td>\n",
       "      <td>0.0539</td>\n",
       "      <td>0.9850</td>\n",
       "      <td>0.933000</td>\n",
       "      <td>0.1470</td>\n",
       "      <td>0.4430</td>\n",
       "      <td>159.951</td>\n",
       "      <td>4</td>\n",
       "      <td>piano</td>\n",
       "    </tr>\n",
       "    <tr>\n",
       "      <th>76438</th>\n",
       "      <td>행복하길 바래</td>\n",
       "      <td>Lim Hyung Joo</td>\n",
       "      <td>5epH8xMDeJ4edJjIkKzEdM</td>\n",
       "      <td>Sassy Girl Choon Hyang (Original Soundtrack)</td>\n",
       "      <td>39</td>\n",
       "      <td>185666</td>\n",
       "      <td>0</td>\n",
       "      <td>0.361</td>\n",
       "      <td>0.517</td>\n",
       "      <td>10</td>\n",
       "      <td>-6.955</td>\n",
       "      <td>0</td>\n",
       "      <td>0.0310</td>\n",
       "      <td>0.7110</td>\n",
       "      <td>0.000075</td>\n",
       "      <td>0.1150</td>\n",
       "      <td>0.3080</td>\n",
       "      <td>94.713</td>\n",
       "      <td>4</td>\n",
       "      <td>opera</td>\n",
       "    </tr>\n",
       "  </tbody>\n",
       "</table>\n",
       "<p>76439 rows × 20 columns</p>\n",
       "</div>"
      ],
      "text/plain": [
       "                                   track_name            artists  \\\n",
       "0                              !I'll Be Back!              Rilès   \n",
       "1                         \"A\" You're Adorable       Brian Hyland   \n",
       "2                           \"C\" IS FOR COOKIE  Little Apple Band   \n",
       "3                           \"C\" is for Cookie  Little Apple Band   \n",
       "4      \"Contemplate This on the Tree of Woe.\"     Dillinger Four   \n",
       "...                                       ...                ...   \n",
       "76434                            내 맘을 볼 수 있나요              HEIZE   \n",
       "76435                                      시작               Gaho   \n",
       "76436                         약속 (Piano Solo)             Yiruma   \n",
       "76437                   원펀맨 Theme - Sad Theme               GODA   \n",
       "76438                                 행복하길 바래      Lim Hyung Joo   \n",
       "\n",
       "                     track_id  \\\n",
       "0      0fROT4kK5oTm8xO8PX6EJF   \n",
       "1      1hH0t381PIXmUVWyG1Vj3p   \n",
       "2      1B45DvGMoFWdbAEUH2qliG   \n",
       "3      73lXf5if6MWVWnsgXhK8bd   \n",
       "4      5Zx0Rrkn5RFBMD2PRxX3mI   \n",
       "...                       ...   \n",
       "76434  2oVHb8wyg6oC2iNpGBNvx1   \n",
       "76435  4kIpBfvK44bxqX7zo8K1oP   \n",
       "76436  4mHc7LUlO3k6AXeFV2EiJK   \n",
       "76437  0tQesiSZJQOdHeAC7r59us   \n",
       "76438  5epH8xMDeJ4edJjIkKzEdM   \n",
       "\n",
       "                                              album_name  popularity  \\\n",
       "0                                         !I'll Be Back!          52   \n",
       "1                                      The Bashful Blond          39   \n",
       "2                    The Favorite Songs Of Sesame Street          32   \n",
       "3                              Sesame Street and Friends           8   \n",
       "4                                        C I V I L W A R          24   \n",
       "...                                                  ...         ...   \n",
       "76434  Hotel del Luna (Original Television Soundtrack...          63   \n",
       "76435  ITAEWON CLASS (Original Television Soundtrack)...          65   \n",
       "76436  Yiruma Official Album 'Piano Therapy' (The Ori...          37   \n",
       "76437                One Punch Man (Original Soundtrack)          37   \n",
       "76438       Sassy Girl Choon Hyang (Original Soundtrack)          39   \n",
       "\n",
       "       duration_ms  explicit  danceability  energy  key  loudness  mode  \\\n",
       "0           178533         1         0.823   0.612    1    -7.767     1   \n",
       "1           151680         0         0.615   0.375    0   -10.362     0   \n",
       "2            84305         0         0.553   0.812    3    -5.542     1   \n",
       "3            86675         0         0.664   0.611    3    -8.687     1   \n",
       "4           180706         0         0.565   0.977   11    -3.592     1   \n",
       "...            ...       ...           ...     ...  ...       ...   ...   \n",
       "76434       225785         0         0.397   0.166    9   -10.678     1   \n",
       "76435       202440         0         0.591   0.818    4    -3.532     1   \n",
       "76436       144533         0         0.504   0.143    1   -18.713     1   \n",
       "76437       228000         0         0.542   0.337    2   -16.088     1   \n",
       "76438       185666         0         0.361   0.517   10    -6.955     0   \n",
       "\n",
       "       speechiness  acousticness  instrumentalness  liveness  valence  \\\n",
       "0           0.2480        0.1680          0.000000    0.1090   0.6880   \n",
       "1           0.0319        0.4820          0.000000    0.1110   0.9220   \n",
       "2           0.0558        0.1320          0.000010    0.0794   0.8710   \n",
       "3           0.0886        0.1200          0.000000    0.0408   0.7580   \n",
       "4           0.0546        0.0282          0.001320    0.4330   0.3870   \n",
       "...            ...           ...               ...       ...      ...   \n",
       "76434       0.0349        0.8840          0.000000    0.1000   0.1310   \n",
       "76435       0.0730        0.1720          0.000000    0.1260   0.5740   \n",
       "76436       0.0701        0.9800          0.922000    0.1240   0.0584   \n",
       "76437       0.0539        0.9850          0.933000    0.1470   0.4430   \n",
       "76438       0.0310        0.7110          0.000075    0.1150   0.3080   \n",
       "\n",
       "         tempo  time_signature track_genre  \n",
       "0      142.959               4      french  \n",
       "1      110.720               4  rockabilly  \n",
       "2      118.368               4        kids  \n",
       "3      118.443               4        kids  \n",
       "4      106.478               4   power-pop  \n",
       "...        ...             ...         ...  \n",
       "76434  134.708               4       k-pop  \n",
       "76435  108.107               4       k-pop  \n",
       "76436  148.786               4     new-age  \n",
       "76437  159.951               4       piano  \n",
       "76438   94.713               4       opera  \n",
       "\n",
       "[76439 rows x 20 columns]"
      ]
     },
     "execution_count": 114,
     "metadata": {},
     "output_type": "execute_result"
    }
   ],
   "source": [
    "df2.groupby(['track_name', 'artists'], as_index=False).sum()"
   ]
  },
  {
   "cell_type": "code",
   "execution_count": null,
   "metadata": {},
   "outputs": [],
   "source": []
  }
 ],
 "metadata": {
  "kernelspec": {
   "display_name": "Python 3",
   "language": "python",
   "name": "python3"
  },
  "language_info": {
   "codemirror_mode": {
    "name": "ipython",
    "version": 3
   },
   "file_extension": ".py",
   "mimetype": "text/x-python",
   "name": "python",
   "nbconvert_exporter": "python",
   "pygments_lexer": "ipython3",
   "version": "3.10.6"
  }
 },
 "nbformat": 4,
 "nbformat_minor": 2
}
